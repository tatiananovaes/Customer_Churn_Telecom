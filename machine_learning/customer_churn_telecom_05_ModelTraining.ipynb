{
 "cells": [
  {
   "cell_type": "markdown",
   "id": "7fc2d666",
   "metadata": {},
   "source": [
    "---\n",
    "---\n",
    "# Previsão de Customer Churn em Operadoras de Telecom \n",
    "---\n",
    "---"
   ]
  },
  {
   "cell_type": "markdown",
   "id": "7689a9e5",
   "metadata": {},
   "source": [
    "## Treinamento do Modelo // _Model Training_"
   ]
  },
  {
   "cell_type": "code",
   "execution_count": 1,
   "id": "611fa101",
   "metadata": {},
   "outputs": [
    {
     "name": "stdout",
     "output_type": "stream",
     "text": [
      "Versão da Linguagem Python Usada Neste Jupyter Notebook: 3.9.12\n"
     ]
    }
   ],
   "source": [
    "# Versão da Linguagem Python // Python language version\n",
    "from platform import python_version\n",
    "print('Versão da Linguagem Python Usada Neste Jupyter Notebook:', python_version())"
   ]
  },
  {
   "cell_type": "code",
   "execution_count": 2,
   "id": "4ccfc788",
   "metadata": {},
   "outputs": [],
   "source": [
    "# Imports\n",
    "\n",
    "#! pip install xgboost\n",
    "\n",
    "import joblib\n",
    "import pickle\n",
    "#import json\n",
    "import numpy as np\n",
    "import pandas as pd\n",
    "import seaborn as sns\n",
    "from matplotlib import pyplot as plt\n",
    "from scipy.stats import randint as sp_randint\n",
    "import sklearn\n",
    "#from sklearn.model_selection import train_test_split\n",
    "#from sklearn.preprocessing import LabelEncoder\n",
    "from sklearn.model_selection import GridSearchCV\n",
    "from sklearn.model_selection import cross_val_score\n",
    "from sklearn.model_selection import RandomizedSearchCV\n",
    "from sklearn.linear_model import LogisticRegression\n",
    "from sklearn.ensemble import RandomForestClassifier\n",
    "from sklearn.neighbors import KNeighborsClassifier\n",
    "from sklearn.tree import DecisionTreeClassifier\n",
    "from sklearn.svm import SVC\n",
    "from sklearn.ensemble import GradientBoostingClassifier\n",
    "from sklearn.ensemble import AdaBoostClassifier\n",
    "from xgboost import XGBClassifier\n",
    "from sklearn.metrics import roc_curve, auc, roc_auc_score, confusion_matrix\n",
    "from sklearn.metrics import accuracy_score\n",
    "import warnings\n",
    "warnings.filterwarnings(\"ignore\")\n",
    "\n",
    "np.random.seed(31415)"
   ]
  },
  {
   "cell_type": "code",
   "execution_count": 3,
   "id": "bc4b7193",
   "metadata": {},
   "outputs": [
    {
     "name": "stdout",
     "output_type": "stream",
     "text": [
      "Author: Tatiana Novaes Carvalho\n",
      "\n",
      "matplotlib: 3.5.1\n",
      "joblib    : 1.1.0\n",
      "pandas    : 1.4.2\n",
      "seaborn   : 0.11.2\n",
      "sklearn   : 1.1.2\n",
      "numpy     : 1.22.3\n",
      "\n"
     ]
    }
   ],
   "source": [
    "# Versões dos pacotes usados neste jupyter notebook // Versions of packages used in this jupyter notebook\n",
    "#!pip install -q -U watermark\n",
    "%reload_ext watermark\n",
    "%watermark -a \"Tatiana Novaes Carvalho\" --iversions"
   ]
  },
  {
   "cell_type": "markdown",
   "id": "de17ad32",
   "metadata": {},
   "source": [
    "### Carga dos dados // _Data load_"
   ]
  },
  {
   "cell_type": "code",
   "execution_count": 4,
   "id": "da3db79c",
   "metadata": {},
   "outputs": [],
   "source": [
    "# Carrega os dados // Load the data\n",
    "df_train = pd.read_csv('../datasets/df_train_balanced.csv',  index_col = 0)\n",
    "df_test = pd.read_csv('../datasets/df_test_proc.csv',  index_col = 0)\n",
    "\n",
    "dic_cut = joblib.load(open('../datasets/dic_cut.pkl', 'rb'))"
   ]
  },
  {
   "cell_type": "code",
   "execution_count": 5,
   "id": "d35d7226",
   "metadata": {},
   "outputs": [
    {
     "name": "stdout",
     "output_type": "stream",
     "text": [
      "(5454, 99)\n",
      "(1667, 99)\n"
     ]
    }
   ],
   "source": [
    "print(df_train.shape)\n",
    "print(df_test.shape)"
   ]
  },
  {
   "cell_type": "code",
   "execution_count": 6,
   "id": "9b8732d8",
   "metadata": {},
   "outputs": [
    {
     "name": "stdout",
     "output_type": "stream",
     "text": [
      "<class 'pandas.core.frame.DataFrame'>\n",
      "Int64Index: 1667 entries, 1 to 1667\n",
      "Data columns (total 99 columns):\n",
      " #   Column                 Non-Null Count  Dtype\n",
      "---  ------                 --------------  -----\n",
      " 0   account_length         1667 non-null   int64\n",
      " 1   international_plan     1667 non-null   int64\n",
      " 2   voice_mail_plan        1667 non-null   int64\n",
      " 3   number_vmail_messages  1667 non-null   int64\n",
      " 4   churn                  1667 non-null   int64\n",
      " 5   state_AK               1667 non-null   int64\n",
      " 6   state_AL               1667 non-null   int64\n",
      " 7   state_AR               1667 non-null   int64\n",
      " 8   state_AZ               1667 non-null   int64\n",
      " 9   state_CA               1667 non-null   int64\n",
      " 10  state_CO               1667 non-null   int64\n",
      " 11  state_CT               1667 non-null   int64\n",
      " 12  state_DC               1667 non-null   int64\n",
      " 13  state_DE               1667 non-null   int64\n",
      " 14  state_FL               1667 non-null   int64\n",
      " 15  state_GA               1667 non-null   int64\n",
      " 16  state_HI               1667 non-null   int64\n",
      " 17  state_IA               1667 non-null   int64\n",
      " 18  state_ID               1667 non-null   int64\n",
      " 19  state_IL               1667 non-null   int64\n",
      " 20  state_IN               1667 non-null   int64\n",
      " 21  state_KS               1667 non-null   int64\n",
      " 22  state_KY               1667 non-null   int64\n",
      " 23  state_LA               1667 non-null   int64\n",
      " 24  state_MA               1667 non-null   int64\n",
      " 25  state_MD               1667 non-null   int64\n",
      " 26  state_ME               1667 non-null   int64\n",
      " 27  state_MI               1667 non-null   int64\n",
      " 28  state_MN               1667 non-null   int64\n",
      " 29  state_MO               1667 non-null   int64\n",
      " 30  state_MS               1667 non-null   int64\n",
      " 31  state_MT               1667 non-null   int64\n",
      " 32  state_NC               1667 non-null   int64\n",
      " 33  state_ND               1667 non-null   int64\n",
      " 34  state_NE               1667 non-null   int64\n",
      " 35  state_NH               1667 non-null   int64\n",
      " 36  state_NJ               1667 non-null   int64\n",
      " 37  state_NM               1667 non-null   int64\n",
      " 38  state_NV               1667 non-null   int64\n",
      " 39  state_NY               1667 non-null   int64\n",
      " 40  state_OH               1667 non-null   int64\n",
      " 41  state_OK               1667 non-null   int64\n",
      " 42  state_OR               1667 non-null   int64\n",
      " 43  state_PA               1667 non-null   int64\n",
      " 44  state_RI               1667 non-null   int64\n",
      " 45  state_SC               1667 non-null   int64\n",
      " 46  state_SD               1667 non-null   int64\n",
      " 47  state_TN               1667 non-null   int64\n",
      " 48  state_TX               1667 non-null   int64\n",
      " 49  state_UT               1667 non-null   int64\n",
      " 50  state_VA               1667 non-null   int64\n",
      " 51  state_VT               1667 non-null   int64\n",
      " 52  state_WA               1667 non-null   int64\n",
      " 53  state_WI               1667 non-null   int64\n",
      " 54  state_WV               1667 non-null   int64\n",
      " 55  state_WY               1667 non-null   int64\n",
      " 56  area_code_408          1667 non-null   int64\n",
      " 57  area_code_415          1667 non-null   int64\n",
      " 58  area_code_510          1667 non-null   int64\n",
      " 59  total_day_minutes_1    1667 non-null   int64\n",
      " 60  total_day_minutes_2    1667 non-null   int64\n",
      " 61  total_day_minutes_3    1667 non-null   int64\n",
      " 62  total_day_minutes_4    1667 non-null   int64\n",
      " 63  total_day_minutes_5    1667 non-null   int64\n",
      " 64  total_day_calls_1      1667 non-null   int64\n",
      " 65  total_day_calls_2      1667 non-null   int64\n",
      " 66  total_day_calls_3      1667 non-null   int64\n",
      " 67  total_day_calls_4      1667 non-null   int64\n",
      " 68  total_day_calls_5      1667 non-null   int64\n",
      " 69  total_eve_minutes_1    1667 non-null   int64\n",
      " 70  total_eve_minutes_2    1667 non-null   int64\n",
      " 71  total_eve_minutes_3    1667 non-null   int64\n",
      " 72  total_eve_minutes_4    1667 non-null   int64\n",
      " 73  total_eve_minutes_5    1667 non-null   int64\n",
      " 74  total_eve_calls_1      1667 non-null   int64\n",
      " 75  total_eve_calls_2      1667 non-null   int64\n",
      " 76  total_eve_calls_3      1667 non-null   int64\n",
      " 77  total_eve_calls_4      1667 non-null   int64\n",
      " 78  total_eve_calls_5      1667 non-null   int64\n",
      " 79  total_night_minutes_1  1667 non-null   int64\n",
      " 80  total_night_minutes_2  1667 non-null   int64\n",
      " 81  total_night_minutes_3  1667 non-null   int64\n",
      " 82  total_night_minutes_4  1667 non-null   int64\n",
      " 83  total_night_minutes_5  1667 non-null   int64\n",
      " 84  total_night_calls_1    1667 non-null   int64\n",
      " 85  total_night_calls_2    1667 non-null   int64\n",
      " 86  total_night_calls_3    1667 non-null   int64\n",
      " 87  total_night_calls_4    1667 non-null   int64\n",
      " 88  total_night_calls_5    1667 non-null   int64\n",
      " 89  total_intl_minutes_1   1667 non-null   int64\n",
      " 90  total_intl_minutes_2   1667 non-null   int64\n",
      " 91  total_intl_minutes_3   1667 non-null   int64\n",
      " 92  total_intl_minutes_4   1667 non-null   int64\n",
      " 93  total_intl_minutes_5   1667 non-null   int64\n",
      " 94  total_intl_calls_1     1667 non-null   int64\n",
      " 95  total_intl_calls_2     1667 non-null   int64\n",
      " 96  total_intl_calls_3     1667 non-null   int64\n",
      " 97  total_intl_calls_4     1667 non-null   int64\n",
      " 98  total_intl_calls_5     1667 non-null   int64\n",
      "dtypes: int64(99)\n",
      "memory usage: 1.3 MB\n"
     ]
    }
   ],
   "source": [
    "df_test.info()"
   ]
  },
  {
   "cell_type": "code",
   "execution_count": 7,
   "id": "c4f7d0a3",
   "metadata": {},
   "outputs": [
    {
     "data": {
      "text/html": [
       "<div>\n",
       "<style scoped>\n",
       "    .dataframe tbody tr th:only-of-type {\n",
       "        vertical-align: middle;\n",
       "    }\n",
       "\n",
       "    .dataframe tbody tr th {\n",
       "        vertical-align: top;\n",
       "    }\n",
       "\n",
       "    .dataframe thead th {\n",
       "        text-align: right;\n",
       "    }\n",
       "</style>\n",
       "<table border=\"1\" class=\"dataframe\">\n",
       "  <thead>\n",
       "    <tr style=\"text-align: right;\">\n",
       "      <th></th>\n",
       "      <th>account_length</th>\n",
       "      <th>international_plan</th>\n",
       "      <th>voice_mail_plan</th>\n",
       "      <th>number_vmail_messages</th>\n",
       "      <th>churn</th>\n",
       "      <th>state_AK</th>\n",
       "      <th>state_AL</th>\n",
       "      <th>state_AR</th>\n",
       "      <th>state_AZ</th>\n",
       "      <th>state_CA</th>\n",
       "      <th>...</th>\n",
       "      <th>total_intl_minutes_1</th>\n",
       "      <th>total_intl_minutes_2</th>\n",
       "      <th>total_intl_minutes_3</th>\n",
       "      <th>total_intl_minutes_4</th>\n",
       "      <th>total_intl_minutes_5</th>\n",
       "      <th>total_intl_calls_1</th>\n",
       "      <th>total_intl_calls_2</th>\n",
       "      <th>total_intl_calls_3</th>\n",
       "      <th>total_intl_calls_4</th>\n",
       "      <th>total_intl_calls_5</th>\n",
       "    </tr>\n",
       "  </thead>\n",
       "  <tbody>\n",
       "    <tr>\n",
       "      <th>0</th>\n",
       "      <td>1</td>\n",
       "      <td>0</td>\n",
       "      <td>1</td>\n",
       "      <td>1</td>\n",
       "      <td>0</td>\n",
       "      <td>0</td>\n",
       "      <td>0</td>\n",
       "      <td>0</td>\n",
       "      <td>0</td>\n",
       "      <td>0</td>\n",
       "      <td>...</td>\n",
       "      <td>0</td>\n",
       "      <td>0</td>\n",
       "      <td>1</td>\n",
       "      <td>0</td>\n",
       "      <td>0</td>\n",
       "      <td>1</td>\n",
       "      <td>0</td>\n",
       "      <td>0</td>\n",
       "      <td>0</td>\n",
       "      <td>0</td>\n",
       "    </tr>\n",
       "    <tr>\n",
       "      <th>1</th>\n",
       "      <td>1</td>\n",
       "      <td>0</td>\n",
       "      <td>1</td>\n",
       "      <td>1</td>\n",
       "      <td>0</td>\n",
       "      <td>0</td>\n",
       "      <td>0</td>\n",
       "      <td>0</td>\n",
       "      <td>0</td>\n",
       "      <td>0</td>\n",
       "      <td>...</td>\n",
       "      <td>0</td>\n",
       "      <td>0</td>\n",
       "      <td>0</td>\n",
       "      <td>1</td>\n",
       "      <td>0</td>\n",
       "      <td>1</td>\n",
       "      <td>0</td>\n",
       "      <td>0</td>\n",
       "      <td>0</td>\n",
       "      <td>0</td>\n",
       "    </tr>\n",
       "    <tr>\n",
       "      <th>2</th>\n",
       "      <td>1</td>\n",
       "      <td>0</td>\n",
       "      <td>0</td>\n",
       "      <td>0</td>\n",
       "      <td>0</td>\n",
       "      <td>0</td>\n",
       "      <td>0</td>\n",
       "      <td>0</td>\n",
       "      <td>0</td>\n",
       "      <td>0</td>\n",
       "      <td>...</td>\n",
       "      <td>0</td>\n",
       "      <td>0</td>\n",
       "      <td>0</td>\n",
       "      <td>1</td>\n",
       "      <td>0</td>\n",
       "      <td>0</td>\n",
       "      <td>1</td>\n",
       "      <td>0</td>\n",
       "      <td>0</td>\n",
       "      <td>0</td>\n",
       "    </tr>\n",
       "    <tr>\n",
       "      <th>3</th>\n",
       "      <td>0</td>\n",
       "      <td>1</td>\n",
       "      <td>0</td>\n",
       "      <td>0</td>\n",
       "      <td>0</td>\n",
       "      <td>0</td>\n",
       "      <td>0</td>\n",
       "      <td>0</td>\n",
       "      <td>0</td>\n",
       "      <td>0</td>\n",
       "      <td>...</td>\n",
       "      <td>0</td>\n",
       "      <td>1</td>\n",
       "      <td>0</td>\n",
       "      <td>0</td>\n",
       "      <td>0</td>\n",
       "      <td>0</td>\n",
       "      <td>0</td>\n",
       "      <td>1</td>\n",
       "      <td>0</td>\n",
       "      <td>0</td>\n",
       "    </tr>\n",
       "    <tr>\n",
       "      <th>4</th>\n",
       "      <td>0</td>\n",
       "      <td>1</td>\n",
       "      <td>0</td>\n",
       "      <td>0</td>\n",
       "      <td>0</td>\n",
       "      <td>0</td>\n",
       "      <td>0</td>\n",
       "      <td>0</td>\n",
       "      <td>0</td>\n",
       "      <td>0</td>\n",
       "      <td>...</td>\n",
       "      <td>0</td>\n",
       "      <td>0</td>\n",
       "      <td>1</td>\n",
       "      <td>0</td>\n",
       "      <td>0</td>\n",
       "      <td>1</td>\n",
       "      <td>0</td>\n",
       "      <td>0</td>\n",
       "      <td>0</td>\n",
       "      <td>0</td>\n",
       "    </tr>\n",
       "  </tbody>\n",
       "</table>\n",
       "<p>5 rows × 99 columns</p>\n",
       "</div>"
      ],
      "text/plain": [
       "   account_length  international_plan  voice_mail_plan  number_vmail_messages  \\\n",
       "0               1                   0                1                      1   \n",
       "1               1                   0                1                      1   \n",
       "2               1                   0                0                      0   \n",
       "3               0                   1                0                      0   \n",
       "4               0                   1                0                      0   \n",
       "\n",
       "   churn  state_AK  state_AL  state_AR  state_AZ  state_CA  ...  \\\n",
       "0      0         0         0         0         0         0  ...   \n",
       "1      0         0         0         0         0         0  ...   \n",
       "2      0         0         0         0         0         0  ...   \n",
       "3      0         0         0         0         0         0  ...   \n",
       "4      0         0         0         0         0         0  ...   \n",
       "\n",
       "   total_intl_minutes_1  total_intl_minutes_2  total_intl_minutes_3  \\\n",
       "0                     0                     0                     1   \n",
       "1                     0                     0                     0   \n",
       "2                     0                     0                     0   \n",
       "3                     0                     1                     0   \n",
       "4                     0                     0                     1   \n",
       "\n",
       "   total_intl_minutes_4  total_intl_minutes_5  total_intl_calls_1  \\\n",
       "0                     0                     0                   1   \n",
       "1                     1                     0                   1   \n",
       "2                     1                     0                   0   \n",
       "3                     0                     0                   0   \n",
       "4                     0                     0                   1   \n",
       "\n",
       "   total_intl_calls_2  total_intl_calls_3  total_intl_calls_4  \\\n",
       "0                   0                   0                   0   \n",
       "1                   0                   0                   0   \n",
       "2                   1                   0                   0   \n",
       "3                   0                   1                   0   \n",
       "4                   0                   0                   0   \n",
       "\n",
       "   total_intl_calls_5  \n",
       "0                   0  \n",
       "1                   0  \n",
       "2                   0  \n",
       "3                   0  \n",
       "4                   0  \n",
       "\n",
       "[5 rows x 99 columns]"
      ]
     },
     "execution_count": 7,
     "metadata": {},
     "output_type": "execute_result"
    }
   ],
   "source": [
    "df_train.head(5)"
   ]
  },
  {
   "cell_type": "code",
   "execution_count": 8,
   "id": "7d85a534",
   "metadata": {},
   "outputs": [
    {
     "data": {
      "text/html": [
       "<div>\n",
       "<style scoped>\n",
       "    .dataframe tbody tr th:only-of-type {\n",
       "        vertical-align: middle;\n",
       "    }\n",
       "\n",
       "    .dataframe tbody tr th {\n",
       "        vertical-align: top;\n",
       "    }\n",
       "\n",
       "    .dataframe thead th {\n",
       "        text-align: right;\n",
       "    }\n",
       "</style>\n",
       "<table border=\"1\" class=\"dataframe\">\n",
       "  <thead>\n",
       "    <tr style=\"text-align: right;\">\n",
       "      <th></th>\n",
       "      <th>account_length</th>\n",
       "      <th>international_plan</th>\n",
       "      <th>voice_mail_plan</th>\n",
       "      <th>number_vmail_messages</th>\n",
       "      <th>churn</th>\n",
       "      <th>state_AK</th>\n",
       "      <th>state_AL</th>\n",
       "      <th>state_AR</th>\n",
       "      <th>state_AZ</th>\n",
       "      <th>state_CA</th>\n",
       "      <th>...</th>\n",
       "      <th>total_intl_minutes_1</th>\n",
       "      <th>total_intl_minutes_2</th>\n",
       "      <th>total_intl_minutes_3</th>\n",
       "      <th>total_intl_minutes_4</th>\n",
       "      <th>total_intl_minutes_5</th>\n",
       "      <th>total_intl_calls_1</th>\n",
       "      <th>total_intl_calls_2</th>\n",
       "      <th>total_intl_calls_3</th>\n",
       "      <th>total_intl_calls_4</th>\n",
       "      <th>total_intl_calls_5</th>\n",
       "    </tr>\n",
       "  </thead>\n",
       "  <tbody>\n",
       "    <tr>\n",
       "      <th>1</th>\n",
       "      <td>1</td>\n",
       "      <td>0</td>\n",
       "      <td>0</td>\n",
       "      <td>0</td>\n",
       "      <td>0</td>\n",
       "      <td>0</td>\n",
       "      <td>0</td>\n",
       "      <td>0</td>\n",
       "      <td>0</td>\n",
       "      <td>0</td>\n",
       "      <td>...</td>\n",
       "      <td>0</td>\n",
       "      <td>1</td>\n",
       "      <td>0</td>\n",
       "      <td>0</td>\n",
       "      <td>0</td>\n",
       "      <td>1</td>\n",
       "      <td>0</td>\n",
       "      <td>0</td>\n",
       "      <td>0</td>\n",
       "      <td>0</td>\n",
       "    </tr>\n",
       "    <tr>\n",
       "      <th>2</th>\n",
       "      <td>1</td>\n",
       "      <td>0</td>\n",
       "      <td>0</td>\n",
       "      <td>0</td>\n",
       "      <td>0</td>\n",
       "      <td>0</td>\n",
       "      <td>0</td>\n",
       "      <td>0</td>\n",
       "      <td>0</td>\n",
       "      <td>0</td>\n",
       "      <td>...</td>\n",
       "      <td>0</td>\n",
       "      <td>1</td>\n",
       "      <td>0</td>\n",
       "      <td>0</td>\n",
       "      <td>0</td>\n",
       "      <td>0</td>\n",
       "      <td>0</td>\n",
       "      <td>1</td>\n",
       "      <td>0</td>\n",
       "      <td>0</td>\n",
       "    </tr>\n",
       "    <tr>\n",
       "      <th>3</th>\n",
       "      <td>1</td>\n",
       "      <td>0</td>\n",
       "      <td>1</td>\n",
       "      <td>1</td>\n",
       "      <td>0</td>\n",
       "      <td>0</td>\n",
       "      <td>0</td>\n",
       "      <td>0</td>\n",
       "      <td>0</td>\n",
       "      <td>0</td>\n",
       "      <td>...</td>\n",
       "      <td>0</td>\n",
       "      <td>0</td>\n",
       "      <td>0</td>\n",
       "      <td>1</td>\n",
       "      <td>0</td>\n",
       "      <td>0</td>\n",
       "      <td>0</td>\n",
       "      <td>1</td>\n",
       "      <td>0</td>\n",
       "      <td>0</td>\n",
       "    </tr>\n",
       "    <tr>\n",
       "      <th>4</th>\n",
       "      <td>0</td>\n",
       "      <td>0</td>\n",
       "      <td>0</td>\n",
       "      <td>0</td>\n",
       "      <td>0</td>\n",
       "      <td>0</td>\n",
       "      <td>0</td>\n",
       "      <td>0</td>\n",
       "      <td>0</td>\n",
       "      <td>0</td>\n",
       "      <td>...</td>\n",
       "      <td>0</td>\n",
       "      <td>1</td>\n",
       "      <td>0</td>\n",
       "      <td>0</td>\n",
       "      <td>0</td>\n",
       "      <td>1</td>\n",
       "      <td>0</td>\n",
       "      <td>0</td>\n",
       "      <td>0</td>\n",
       "      <td>0</td>\n",
       "    </tr>\n",
       "    <tr>\n",
       "      <th>5</th>\n",
       "      <td>1</td>\n",
       "      <td>0</td>\n",
       "      <td>0</td>\n",
       "      <td>0</td>\n",
       "      <td>0</td>\n",
       "      <td>0</td>\n",
       "      <td>0</td>\n",
       "      <td>0</td>\n",
       "      <td>0</td>\n",
       "      <td>0</td>\n",
       "      <td>...</td>\n",
       "      <td>0</td>\n",
       "      <td>0</td>\n",
       "      <td>1</td>\n",
       "      <td>0</td>\n",
       "      <td>0</td>\n",
       "      <td>0</td>\n",
       "      <td>1</td>\n",
       "      <td>0</td>\n",
       "      <td>0</td>\n",
       "      <td>0</td>\n",
       "    </tr>\n",
       "  </tbody>\n",
       "</table>\n",
       "<p>5 rows × 99 columns</p>\n",
       "</div>"
      ],
      "text/plain": [
       "   account_length  international_plan  voice_mail_plan  number_vmail_messages  \\\n",
       "1               1                   0                0                      0   \n",
       "2               1                   0                0                      0   \n",
       "3               1                   0                1                      1   \n",
       "4               0                   0                0                      0   \n",
       "5               1                   0                0                      0   \n",
       "\n",
       "   churn  state_AK  state_AL  state_AR  state_AZ  state_CA  ...  \\\n",
       "1      0         0         0         0         0         0  ...   \n",
       "2      0         0         0         0         0         0  ...   \n",
       "3      0         0         0         0         0         0  ...   \n",
       "4      0         0         0         0         0         0  ...   \n",
       "5      0         0         0         0         0         0  ...   \n",
       "\n",
       "   total_intl_minutes_1  total_intl_minutes_2  total_intl_minutes_3  \\\n",
       "1                     0                     1                     0   \n",
       "2                     0                     1                     0   \n",
       "3                     0                     0                     0   \n",
       "4                     0                     1                     0   \n",
       "5                     0                     0                     1   \n",
       "\n",
       "   total_intl_minutes_4  total_intl_minutes_5  total_intl_calls_1  \\\n",
       "1                     0                     0                   1   \n",
       "2                     0                     0                   0   \n",
       "3                     1                     0                   0   \n",
       "4                     0                     0                   1   \n",
       "5                     0                     0                   0   \n",
       "\n",
       "   total_intl_calls_2  total_intl_calls_3  total_intl_calls_4  \\\n",
       "1                   0                   0                   0   \n",
       "2                   0                   1                   0   \n",
       "3                   0                   1                   0   \n",
       "4                   0                   0                   0   \n",
       "5                   1                   0                   0   \n",
       "\n",
       "   total_intl_calls_5  \n",
       "1                   0  \n",
       "2                   0  \n",
       "3                   0  \n",
       "4                   0  \n",
       "5                   0  \n",
       "\n",
       "[5 rows x 99 columns]"
      ]
     },
     "execution_count": 8,
     "metadata": {},
     "output_type": "execute_result"
    }
   ],
   "source": [
    "df_test.head(5)"
   ]
  },
  {
   "cell_type": "code",
   "execution_count": 9,
   "id": "e77e65b9",
   "metadata": {},
   "outputs": [
    {
     "data": {
      "text/plain": [
       "{'total_day_minutes': array([ 17.2802,  81.56  , 145.52  , 209.48  , 273.44  , 337.4   ]),\n",
       " 'total_day_calls': array([ 41.882,  65.6  ,  89.2  , 112.8  , 136.4  , 160.   ]),\n",
       " 'total_eve_minutes': array([ 48.8976, 109.68  , 170.16  , 230.64  , 291.12  , 351.6   ]),\n",
       " 'total_eve_calls': array([ 41.883,  65.4  ,  88.8  , 112.2  , 135.6  , 159.   ]),\n",
       " 'total_night_minutes': array([ 49.7976, 110.58  , 171.06  , 231.54  , 292.02  , 352.5   ]),\n",
       " 'total_night_calls': array([ 41.884,  65.2  ,  88.4  , 111.6  , 134.8  , 158.   ]),\n",
       " 'total_intl_minutes': array([ 1.9836,  5.28  ,  8.56  , 11.84  , 15.12  , 18.4   ]),\n",
       " 'total_intl_calls': array([ 0.99,  3.  ,  5.  ,  7.  ,  9.  , 11.  ])}"
      ]
     },
     "execution_count": 9,
     "metadata": {},
     "output_type": "execute_result"
    }
   ],
   "source": [
    "dic_cut"
   ]
  },
  {
   "cell_type": "code",
   "execution_count": 10,
   "id": "9d6fff51",
   "metadata": {},
   "outputs": [],
   "source": [
    "# Separando variáveis preditoras da variável-alvo (datasets treino e teste)\n",
    "# Separating predictor variables from the target variable (training and test datasets)\n",
    "\n",
    "target = 'churn'\n",
    "\n",
    "X_train = df_train.drop(target, axis = 1)\n",
    "y_train = df_train[target]\n",
    "\n",
    "X_test = df_test.drop(target, axis = 1)\n",
    "y_test = df_test[target]"
   ]
  },
  {
   "cell_type": "code",
   "execution_count": 11,
   "id": "c5e21624",
   "metadata": {},
   "outputs": [
    {
     "data": {
      "text/html": [
       "<div>\n",
       "<style scoped>\n",
       "    .dataframe tbody tr th:only-of-type {\n",
       "        vertical-align: middle;\n",
       "    }\n",
       "\n",
       "    .dataframe tbody tr th {\n",
       "        vertical-align: top;\n",
       "    }\n",
       "\n",
       "    .dataframe thead th {\n",
       "        text-align: right;\n",
       "    }\n",
       "</style>\n",
       "<table border=\"1\" class=\"dataframe\">\n",
       "  <thead>\n",
       "    <tr style=\"text-align: right;\">\n",
       "      <th></th>\n",
       "      <th>account_length</th>\n",
       "      <th>international_plan</th>\n",
       "      <th>voice_mail_plan</th>\n",
       "      <th>number_vmail_messages</th>\n",
       "      <th>state_AK</th>\n",
       "      <th>state_AL</th>\n",
       "      <th>state_AR</th>\n",
       "      <th>state_AZ</th>\n",
       "      <th>state_CA</th>\n",
       "      <th>state_CO</th>\n",
       "      <th>...</th>\n",
       "      <th>total_intl_minutes_1</th>\n",
       "      <th>total_intl_minutes_2</th>\n",
       "      <th>total_intl_minutes_3</th>\n",
       "      <th>total_intl_minutes_4</th>\n",
       "      <th>total_intl_minutes_5</th>\n",
       "      <th>total_intl_calls_1</th>\n",
       "      <th>total_intl_calls_2</th>\n",
       "      <th>total_intl_calls_3</th>\n",
       "      <th>total_intl_calls_4</th>\n",
       "      <th>total_intl_calls_5</th>\n",
       "    </tr>\n",
       "  </thead>\n",
       "  <tbody>\n",
       "    <tr>\n",
       "      <th>0</th>\n",
       "      <td>1</td>\n",
       "      <td>0</td>\n",
       "      <td>1</td>\n",
       "      <td>1</td>\n",
       "      <td>0</td>\n",
       "      <td>0</td>\n",
       "      <td>0</td>\n",
       "      <td>0</td>\n",
       "      <td>0</td>\n",
       "      <td>0</td>\n",
       "      <td>...</td>\n",
       "      <td>0</td>\n",
       "      <td>0</td>\n",
       "      <td>1</td>\n",
       "      <td>0</td>\n",
       "      <td>0</td>\n",
       "      <td>1</td>\n",
       "      <td>0</td>\n",
       "      <td>0</td>\n",
       "      <td>0</td>\n",
       "      <td>0</td>\n",
       "    </tr>\n",
       "    <tr>\n",
       "      <th>1</th>\n",
       "      <td>1</td>\n",
       "      <td>0</td>\n",
       "      <td>1</td>\n",
       "      <td>1</td>\n",
       "      <td>0</td>\n",
       "      <td>0</td>\n",
       "      <td>0</td>\n",
       "      <td>0</td>\n",
       "      <td>0</td>\n",
       "      <td>0</td>\n",
       "      <td>...</td>\n",
       "      <td>0</td>\n",
       "      <td>0</td>\n",
       "      <td>0</td>\n",
       "      <td>1</td>\n",
       "      <td>0</td>\n",
       "      <td>1</td>\n",
       "      <td>0</td>\n",
       "      <td>0</td>\n",
       "      <td>0</td>\n",
       "      <td>0</td>\n",
       "    </tr>\n",
       "    <tr>\n",
       "      <th>2</th>\n",
       "      <td>1</td>\n",
       "      <td>0</td>\n",
       "      <td>0</td>\n",
       "      <td>0</td>\n",
       "      <td>0</td>\n",
       "      <td>0</td>\n",
       "      <td>0</td>\n",
       "      <td>0</td>\n",
       "      <td>0</td>\n",
       "      <td>0</td>\n",
       "      <td>...</td>\n",
       "      <td>0</td>\n",
       "      <td>0</td>\n",
       "      <td>0</td>\n",
       "      <td>1</td>\n",
       "      <td>0</td>\n",
       "      <td>0</td>\n",
       "      <td>1</td>\n",
       "      <td>0</td>\n",
       "      <td>0</td>\n",
       "      <td>0</td>\n",
       "    </tr>\n",
       "    <tr>\n",
       "      <th>3</th>\n",
       "      <td>0</td>\n",
       "      <td>1</td>\n",
       "      <td>0</td>\n",
       "      <td>0</td>\n",
       "      <td>0</td>\n",
       "      <td>0</td>\n",
       "      <td>0</td>\n",
       "      <td>0</td>\n",
       "      <td>0</td>\n",
       "      <td>0</td>\n",
       "      <td>...</td>\n",
       "      <td>0</td>\n",
       "      <td>1</td>\n",
       "      <td>0</td>\n",
       "      <td>0</td>\n",
       "      <td>0</td>\n",
       "      <td>0</td>\n",
       "      <td>0</td>\n",
       "      <td>1</td>\n",
       "      <td>0</td>\n",
       "      <td>0</td>\n",
       "    </tr>\n",
       "    <tr>\n",
       "      <th>4</th>\n",
       "      <td>0</td>\n",
       "      <td>1</td>\n",
       "      <td>0</td>\n",
       "      <td>0</td>\n",
       "      <td>0</td>\n",
       "      <td>0</td>\n",
       "      <td>0</td>\n",
       "      <td>0</td>\n",
       "      <td>0</td>\n",
       "      <td>0</td>\n",
       "      <td>...</td>\n",
       "      <td>0</td>\n",
       "      <td>0</td>\n",
       "      <td>1</td>\n",
       "      <td>0</td>\n",
       "      <td>0</td>\n",
       "      <td>1</td>\n",
       "      <td>0</td>\n",
       "      <td>0</td>\n",
       "      <td>0</td>\n",
       "      <td>0</td>\n",
       "    </tr>\n",
       "  </tbody>\n",
       "</table>\n",
       "<p>5 rows × 98 columns</p>\n",
       "</div>"
      ],
      "text/plain": [
       "   account_length  international_plan  voice_mail_plan  number_vmail_messages  \\\n",
       "0               1                   0                1                      1   \n",
       "1               1                   0                1                      1   \n",
       "2               1                   0                0                      0   \n",
       "3               0                   1                0                      0   \n",
       "4               0                   1                0                      0   \n",
       "\n",
       "   state_AK  state_AL  state_AR  state_AZ  state_CA  state_CO  ...  \\\n",
       "0         0         0         0         0         0         0  ...   \n",
       "1         0         0         0         0         0         0  ...   \n",
       "2         0         0         0         0         0         0  ...   \n",
       "3         0         0         0         0         0         0  ...   \n",
       "4         0         0         0         0         0         0  ...   \n",
       "\n",
       "   total_intl_minutes_1  total_intl_minutes_2  total_intl_minutes_3  \\\n",
       "0                     0                     0                     1   \n",
       "1                     0                     0                     0   \n",
       "2                     0                     0                     0   \n",
       "3                     0                     1                     0   \n",
       "4                     0                     0                     1   \n",
       "\n",
       "   total_intl_minutes_4  total_intl_minutes_5  total_intl_calls_1  \\\n",
       "0                     0                     0                   1   \n",
       "1                     1                     0                   1   \n",
       "2                     1                     0                   0   \n",
       "3                     0                     0                   0   \n",
       "4                     0                     0                   1   \n",
       "\n",
       "   total_intl_calls_2  total_intl_calls_3  total_intl_calls_4  \\\n",
       "0                   0                   0                   0   \n",
       "1                   0                   0                   0   \n",
       "2                   1                   0                   0   \n",
       "3                   0                   1                   0   \n",
       "4                   0                   0                   0   \n",
       "\n",
       "   total_intl_calls_5  \n",
       "0                   0  \n",
       "1                   0  \n",
       "2                   0  \n",
       "3                   0  \n",
       "4                   0  \n",
       "\n",
       "[5 rows x 98 columns]"
      ]
     },
     "execution_count": 11,
     "metadata": {},
     "output_type": "execute_result"
    }
   ],
   "source": [
    "X_train.head()"
   ]
  },
  {
   "cell_type": "code",
   "execution_count": 12,
   "id": "bd0d2e00",
   "metadata": {},
   "outputs": [
    {
     "name": "stdout",
     "output_type": "stream",
     "text": [
      "<class 'pandas.core.frame.DataFrame'>\n",
      "Int64Index: 5454 entries, 0 to 5453\n",
      "Data columns (total 98 columns):\n",
      " #   Column                 Non-Null Count  Dtype\n",
      "---  ------                 --------------  -----\n",
      " 0   account_length         5454 non-null   int64\n",
      " 1   international_plan     5454 non-null   int64\n",
      " 2   voice_mail_plan        5454 non-null   int64\n",
      " 3   number_vmail_messages  5454 non-null   int64\n",
      " 4   state_AK               5454 non-null   int64\n",
      " 5   state_AL               5454 non-null   int64\n",
      " 6   state_AR               5454 non-null   int64\n",
      " 7   state_AZ               5454 non-null   int64\n",
      " 8   state_CA               5454 non-null   int64\n",
      " 9   state_CO               5454 non-null   int64\n",
      " 10  state_CT               5454 non-null   int64\n",
      " 11  state_DC               5454 non-null   int64\n",
      " 12  state_DE               5454 non-null   int64\n",
      " 13  state_FL               5454 non-null   int64\n",
      " 14  state_GA               5454 non-null   int64\n",
      " 15  state_HI               5454 non-null   int64\n",
      " 16  state_IA               5454 non-null   int64\n",
      " 17  state_ID               5454 non-null   int64\n",
      " 18  state_IL               5454 non-null   int64\n",
      " 19  state_IN               5454 non-null   int64\n",
      " 20  state_KS               5454 non-null   int64\n",
      " 21  state_KY               5454 non-null   int64\n",
      " 22  state_LA               5454 non-null   int64\n",
      " 23  state_MA               5454 non-null   int64\n",
      " 24  state_MD               5454 non-null   int64\n",
      " 25  state_ME               5454 non-null   int64\n",
      " 26  state_MI               5454 non-null   int64\n",
      " 27  state_MN               5454 non-null   int64\n",
      " 28  state_MO               5454 non-null   int64\n",
      " 29  state_MS               5454 non-null   int64\n",
      " 30  state_MT               5454 non-null   int64\n",
      " 31  state_NC               5454 non-null   int64\n",
      " 32  state_ND               5454 non-null   int64\n",
      " 33  state_NE               5454 non-null   int64\n",
      " 34  state_NH               5454 non-null   int64\n",
      " 35  state_NJ               5454 non-null   int64\n",
      " 36  state_NM               5454 non-null   int64\n",
      " 37  state_NV               5454 non-null   int64\n",
      " 38  state_NY               5454 non-null   int64\n",
      " 39  state_OH               5454 non-null   int64\n",
      " 40  state_OK               5454 non-null   int64\n",
      " 41  state_OR               5454 non-null   int64\n",
      " 42  state_PA               5454 non-null   int64\n",
      " 43  state_RI               5454 non-null   int64\n",
      " 44  state_SC               5454 non-null   int64\n",
      " 45  state_SD               5454 non-null   int64\n",
      " 46  state_TN               5454 non-null   int64\n",
      " 47  state_TX               5454 non-null   int64\n",
      " 48  state_UT               5454 non-null   int64\n",
      " 49  state_VA               5454 non-null   int64\n",
      " 50  state_VT               5454 non-null   int64\n",
      " 51  state_WA               5454 non-null   int64\n",
      " 52  state_WI               5454 non-null   int64\n",
      " 53  state_WV               5454 non-null   int64\n",
      " 54  state_WY               5454 non-null   int64\n",
      " 55  area_code_408          5454 non-null   int64\n",
      " 56  area_code_415          5454 non-null   int64\n",
      " 57  area_code_510          5454 non-null   int64\n",
      " 58  total_day_minutes_1    5454 non-null   int64\n",
      " 59  total_day_minutes_2    5454 non-null   int64\n",
      " 60  total_day_minutes_3    5454 non-null   int64\n",
      " 61  total_day_minutes_4    5454 non-null   int64\n",
      " 62  total_day_minutes_5    5454 non-null   int64\n",
      " 63  total_day_calls_1      5454 non-null   int64\n",
      " 64  total_day_calls_2      5454 non-null   int64\n",
      " 65  total_day_calls_3      5454 non-null   int64\n",
      " 66  total_day_calls_4      5454 non-null   int64\n",
      " 67  total_day_calls_5      5454 non-null   int64\n",
      " 68  total_eve_minutes_1    5454 non-null   int64\n",
      " 69  total_eve_minutes_2    5454 non-null   int64\n",
      " 70  total_eve_minutes_3    5454 non-null   int64\n",
      " 71  total_eve_minutes_4    5454 non-null   int64\n",
      " 72  total_eve_minutes_5    5454 non-null   int64\n",
      " 73  total_eve_calls_1      5454 non-null   int64\n",
      " 74  total_eve_calls_2      5454 non-null   int64\n",
      " 75  total_eve_calls_3      5454 non-null   int64\n",
      " 76  total_eve_calls_4      5454 non-null   int64\n",
      " 77  total_eve_calls_5      5454 non-null   int64\n",
      " 78  total_night_minutes_1  5454 non-null   int64\n",
      " 79  total_night_minutes_2  5454 non-null   int64\n",
      " 80  total_night_minutes_3  5454 non-null   int64\n",
      " 81  total_night_minutes_4  5454 non-null   int64\n",
      " 82  total_night_minutes_5  5454 non-null   int64\n",
      " 83  total_night_calls_1    5454 non-null   int64\n",
      " 84  total_night_calls_2    5454 non-null   int64\n",
      " 85  total_night_calls_3    5454 non-null   int64\n",
      " 86  total_night_calls_4    5454 non-null   int64\n",
      " 87  total_night_calls_5    5454 non-null   int64\n",
      " 88  total_intl_minutes_1   5454 non-null   int64\n",
      " 89  total_intl_minutes_2   5454 non-null   int64\n",
      " 90  total_intl_minutes_3   5454 non-null   int64\n",
      " 91  total_intl_minutes_4   5454 non-null   int64\n",
      " 92  total_intl_minutes_5   5454 non-null   int64\n",
      " 93  total_intl_calls_1     5454 non-null   int64\n",
      " 94  total_intl_calls_2     5454 non-null   int64\n",
      " 95  total_intl_calls_3     5454 non-null   int64\n",
      " 96  total_intl_calls_4     5454 non-null   int64\n",
      " 97  total_intl_calls_5     5454 non-null   int64\n",
      "dtypes: int64(98)\n",
      "memory usage: 4.1 MB\n"
     ]
    }
   ],
   "source": [
    "X_train.info()"
   ]
  },
  {
   "cell_type": "code",
   "execution_count": 13,
   "id": "51c09184",
   "metadata": {},
   "outputs": [
    {
     "data": {
      "text/html": [
       "<div>\n",
       "<style scoped>\n",
       "    .dataframe tbody tr th:only-of-type {\n",
       "        vertical-align: middle;\n",
       "    }\n",
       "\n",
       "    .dataframe tbody tr th {\n",
       "        vertical-align: top;\n",
       "    }\n",
       "\n",
       "    .dataframe thead th {\n",
       "        text-align: right;\n",
       "    }\n",
       "</style>\n",
       "<table border=\"1\" class=\"dataframe\">\n",
       "  <thead>\n",
       "    <tr style=\"text-align: right;\">\n",
       "      <th></th>\n",
       "      <th>account_length</th>\n",
       "      <th>international_plan</th>\n",
       "      <th>voice_mail_plan</th>\n",
       "      <th>number_vmail_messages</th>\n",
       "      <th>state_AK</th>\n",
       "      <th>state_AL</th>\n",
       "      <th>state_AR</th>\n",
       "      <th>state_AZ</th>\n",
       "      <th>state_CA</th>\n",
       "      <th>state_CO</th>\n",
       "      <th>...</th>\n",
       "      <th>total_intl_minutes_1</th>\n",
       "      <th>total_intl_minutes_2</th>\n",
       "      <th>total_intl_minutes_3</th>\n",
       "      <th>total_intl_minutes_4</th>\n",
       "      <th>total_intl_minutes_5</th>\n",
       "      <th>total_intl_calls_1</th>\n",
       "      <th>total_intl_calls_2</th>\n",
       "      <th>total_intl_calls_3</th>\n",
       "      <th>total_intl_calls_4</th>\n",
       "      <th>total_intl_calls_5</th>\n",
       "    </tr>\n",
       "  </thead>\n",
       "  <tbody>\n",
       "    <tr>\n",
       "      <th>1</th>\n",
       "      <td>1</td>\n",
       "      <td>0</td>\n",
       "      <td>0</td>\n",
       "      <td>0</td>\n",
       "      <td>0</td>\n",
       "      <td>0</td>\n",
       "      <td>0</td>\n",
       "      <td>0</td>\n",
       "      <td>0</td>\n",
       "      <td>0</td>\n",
       "      <td>...</td>\n",
       "      <td>0</td>\n",
       "      <td>1</td>\n",
       "      <td>0</td>\n",
       "      <td>0</td>\n",
       "      <td>0</td>\n",
       "      <td>1</td>\n",
       "      <td>0</td>\n",
       "      <td>0</td>\n",
       "      <td>0</td>\n",
       "      <td>0</td>\n",
       "    </tr>\n",
       "    <tr>\n",
       "      <th>2</th>\n",
       "      <td>1</td>\n",
       "      <td>0</td>\n",
       "      <td>0</td>\n",
       "      <td>0</td>\n",
       "      <td>0</td>\n",
       "      <td>0</td>\n",
       "      <td>0</td>\n",
       "      <td>0</td>\n",
       "      <td>0</td>\n",
       "      <td>0</td>\n",
       "      <td>...</td>\n",
       "      <td>0</td>\n",
       "      <td>1</td>\n",
       "      <td>0</td>\n",
       "      <td>0</td>\n",
       "      <td>0</td>\n",
       "      <td>0</td>\n",
       "      <td>0</td>\n",
       "      <td>1</td>\n",
       "      <td>0</td>\n",
       "      <td>0</td>\n",
       "    </tr>\n",
       "    <tr>\n",
       "      <th>3</th>\n",
       "      <td>1</td>\n",
       "      <td>0</td>\n",
       "      <td>1</td>\n",
       "      <td>1</td>\n",
       "      <td>0</td>\n",
       "      <td>0</td>\n",
       "      <td>0</td>\n",
       "      <td>0</td>\n",
       "      <td>0</td>\n",
       "      <td>0</td>\n",
       "      <td>...</td>\n",
       "      <td>0</td>\n",
       "      <td>0</td>\n",
       "      <td>0</td>\n",
       "      <td>1</td>\n",
       "      <td>0</td>\n",
       "      <td>0</td>\n",
       "      <td>0</td>\n",
       "      <td>1</td>\n",
       "      <td>0</td>\n",
       "      <td>0</td>\n",
       "    </tr>\n",
       "    <tr>\n",
       "      <th>4</th>\n",
       "      <td>0</td>\n",
       "      <td>0</td>\n",
       "      <td>0</td>\n",
       "      <td>0</td>\n",
       "      <td>0</td>\n",
       "      <td>0</td>\n",
       "      <td>0</td>\n",
       "      <td>0</td>\n",
       "      <td>0</td>\n",
       "      <td>0</td>\n",
       "      <td>...</td>\n",
       "      <td>0</td>\n",
       "      <td>1</td>\n",
       "      <td>0</td>\n",
       "      <td>0</td>\n",
       "      <td>0</td>\n",
       "      <td>1</td>\n",
       "      <td>0</td>\n",
       "      <td>0</td>\n",
       "      <td>0</td>\n",
       "      <td>0</td>\n",
       "    </tr>\n",
       "    <tr>\n",
       "      <th>5</th>\n",
       "      <td>1</td>\n",
       "      <td>0</td>\n",
       "      <td>0</td>\n",
       "      <td>0</td>\n",
       "      <td>0</td>\n",
       "      <td>0</td>\n",
       "      <td>0</td>\n",
       "      <td>0</td>\n",
       "      <td>0</td>\n",
       "      <td>0</td>\n",
       "      <td>...</td>\n",
       "      <td>0</td>\n",
       "      <td>0</td>\n",
       "      <td>1</td>\n",
       "      <td>0</td>\n",
       "      <td>0</td>\n",
       "      <td>0</td>\n",
       "      <td>1</td>\n",
       "      <td>0</td>\n",
       "      <td>0</td>\n",
       "      <td>0</td>\n",
       "    </tr>\n",
       "  </tbody>\n",
       "</table>\n",
       "<p>5 rows × 98 columns</p>\n",
       "</div>"
      ],
      "text/plain": [
       "   account_length  international_plan  voice_mail_plan  number_vmail_messages  \\\n",
       "1               1                   0                0                      0   \n",
       "2               1                   0                0                      0   \n",
       "3               1                   0                1                      1   \n",
       "4               0                   0                0                      0   \n",
       "5               1                   0                0                      0   \n",
       "\n",
       "   state_AK  state_AL  state_AR  state_AZ  state_CA  state_CO  ...  \\\n",
       "1         0         0         0         0         0         0  ...   \n",
       "2         0         0         0         0         0         0  ...   \n",
       "3         0         0         0         0         0         0  ...   \n",
       "4         0         0         0         0         0         0  ...   \n",
       "5         0         0         0         0         0         0  ...   \n",
       "\n",
       "   total_intl_minutes_1  total_intl_minutes_2  total_intl_minutes_3  \\\n",
       "1                     0                     1                     0   \n",
       "2                     0                     1                     0   \n",
       "3                     0                     0                     0   \n",
       "4                     0                     1                     0   \n",
       "5                     0                     0                     1   \n",
       "\n",
       "   total_intl_minutes_4  total_intl_minutes_5  total_intl_calls_1  \\\n",
       "1                     0                     0                   1   \n",
       "2                     0                     0                   0   \n",
       "3                     1                     0                   0   \n",
       "4                     0                     0                   1   \n",
       "5                     0                     0                   0   \n",
       "\n",
       "   total_intl_calls_2  total_intl_calls_3  total_intl_calls_4  \\\n",
       "1                   0                   0                   0   \n",
       "2                   0                   1                   0   \n",
       "3                   0                   1                   0   \n",
       "4                   0                   0                   0   \n",
       "5                   1                   0                   0   \n",
       "\n",
       "   total_intl_calls_5  \n",
       "1                   0  \n",
       "2                   0  \n",
       "3                   0  \n",
       "4                   0  \n",
       "5                   0  \n",
       "\n",
       "[5 rows x 98 columns]"
      ]
     },
     "execution_count": 13,
     "metadata": {},
     "output_type": "execute_result"
    }
   ],
   "source": [
    "X_test.head()"
   ]
  },
  {
   "cell_type": "code",
   "execution_count": 14,
   "id": "b67afb4c",
   "metadata": {},
   "outputs": [
    {
     "name": "stdout",
     "output_type": "stream",
     "text": [
      "<class 'pandas.core.frame.DataFrame'>\n",
      "Int64Index: 1667 entries, 1 to 1667\n",
      "Data columns (total 98 columns):\n",
      " #   Column                 Non-Null Count  Dtype\n",
      "---  ------                 --------------  -----\n",
      " 0   account_length         1667 non-null   int64\n",
      " 1   international_plan     1667 non-null   int64\n",
      " 2   voice_mail_plan        1667 non-null   int64\n",
      " 3   number_vmail_messages  1667 non-null   int64\n",
      " 4   state_AK               1667 non-null   int64\n",
      " 5   state_AL               1667 non-null   int64\n",
      " 6   state_AR               1667 non-null   int64\n",
      " 7   state_AZ               1667 non-null   int64\n",
      " 8   state_CA               1667 non-null   int64\n",
      " 9   state_CO               1667 non-null   int64\n",
      " 10  state_CT               1667 non-null   int64\n",
      " 11  state_DC               1667 non-null   int64\n",
      " 12  state_DE               1667 non-null   int64\n",
      " 13  state_FL               1667 non-null   int64\n",
      " 14  state_GA               1667 non-null   int64\n",
      " 15  state_HI               1667 non-null   int64\n",
      " 16  state_IA               1667 non-null   int64\n",
      " 17  state_ID               1667 non-null   int64\n",
      " 18  state_IL               1667 non-null   int64\n",
      " 19  state_IN               1667 non-null   int64\n",
      " 20  state_KS               1667 non-null   int64\n",
      " 21  state_KY               1667 non-null   int64\n",
      " 22  state_LA               1667 non-null   int64\n",
      " 23  state_MA               1667 non-null   int64\n",
      " 24  state_MD               1667 non-null   int64\n",
      " 25  state_ME               1667 non-null   int64\n",
      " 26  state_MI               1667 non-null   int64\n",
      " 27  state_MN               1667 non-null   int64\n",
      " 28  state_MO               1667 non-null   int64\n",
      " 29  state_MS               1667 non-null   int64\n",
      " 30  state_MT               1667 non-null   int64\n",
      " 31  state_NC               1667 non-null   int64\n",
      " 32  state_ND               1667 non-null   int64\n",
      " 33  state_NE               1667 non-null   int64\n",
      " 34  state_NH               1667 non-null   int64\n",
      " 35  state_NJ               1667 non-null   int64\n",
      " 36  state_NM               1667 non-null   int64\n",
      " 37  state_NV               1667 non-null   int64\n",
      " 38  state_NY               1667 non-null   int64\n",
      " 39  state_OH               1667 non-null   int64\n",
      " 40  state_OK               1667 non-null   int64\n",
      " 41  state_OR               1667 non-null   int64\n",
      " 42  state_PA               1667 non-null   int64\n",
      " 43  state_RI               1667 non-null   int64\n",
      " 44  state_SC               1667 non-null   int64\n",
      " 45  state_SD               1667 non-null   int64\n",
      " 46  state_TN               1667 non-null   int64\n",
      " 47  state_TX               1667 non-null   int64\n",
      " 48  state_UT               1667 non-null   int64\n",
      " 49  state_VA               1667 non-null   int64\n",
      " 50  state_VT               1667 non-null   int64\n",
      " 51  state_WA               1667 non-null   int64\n",
      " 52  state_WI               1667 non-null   int64\n",
      " 53  state_WV               1667 non-null   int64\n",
      " 54  state_WY               1667 non-null   int64\n",
      " 55  area_code_408          1667 non-null   int64\n",
      " 56  area_code_415          1667 non-null   int64\n",
      " 57  area_code_510          1667 non-null   int64\n",
      " 58  total_day_minutes_1    1667 non-null   int64\n",
      " 59  total_day_minutes_2    1667 non-null   int64\n",
      " 60  total_day_minutes_3    1667 non-null   int64\n",
      " 61  total_day_minutes_4    1667 non-null   int64\n",
      " 62  total_day_minutes_5    1667 non-null   int64\n",
      " 63  total_day_calls_1      1667 non-null   int64\n",
      " 64  total_day_calls_2      1667 non-null   int64\n",
      " 65  total_day_calls_3      1667 non-null   int64\n",
      " 66  total_day_calls_4      1667 non-null   int64\n",
      " 67  total_day_calls_5      1667 non-null   int64\n",
      " 68  total_eve_minutes_1    1667 non-null   int64\n",
      " 69  total_eve_minutes_2    1667 non-null   int64\n",
      " 70  total_eve_minutes_3    1667 non-null   int64\n",
      " 71  total_eve_minutes_4    1667 non-null   int64\n",
      " 72  total_eve_minutes_5    1667 non-null   int64\n",
      " 73  total_eve_calls_1      1667 non-null   int64\n",
      " 74  total_eve_calls_2      1667 non-null   int64\n",
      " 75  total_eve_calls_3      1667 non-null   int64\n",
      " 76  total_eve_calls_4      1667 non-null   int64\n",
      " 77  total_eve_calls_5      1667 non-null   int64\n",
      " 78  total_night_minutes_1  1667 non-null   int64\n",
      " 79  total_night_minutes_2  1667 non-null   int64\n",
      " 80  total_night_minutes_3  1667 non-null   int64\n",
      " 81  total_night_minutes_4  1667 non-null   int64\n",
      " 82  total_night_minutes_5  1667 non-null   int64\n",
      " 83  total_night_calls_1    1667 non-null   int64\n",
      " 84  total_night_calls_2    1667 non-null   int64\n",
      " 85  total_night_calls_3    1667 non-null   int64\n",
      " 86  total_night_calls_4    1667 non-null   int64\n",
      " 87  total_night_calls_5    1667 non-null   int64\n",
      " 88  total_intl_minutes_1   1667 non-null   int64\n",
      " 89  total_intl_minutes_2   1667 non-null   int64\n",
      " 90  total_intl_minutes_3   1667 non-null   int64\n",
      " 91  total_intl_minutes_4   1667 non-null   int64\n",
      " 92  total_intl_minutes_5   1667 non-null   int64\n",
      " 93  total_intl_calls_1     1667 non-null   int64\n",
      " 94  total_intl_calls_2     1667 non-null   int64\n",
      " 95  total_intl_calls_3     1667 non-null   int64\n",
      " 96  total_intl_calls_4     1667 non-null   int64\n",
      " 97  total_intl_calls_5     1667 non-null   int64\n",
      "dtypes: int64(98)\n",
      "memory usage: 1.3 MB\n"
     ]
    }
   ],
   "source": [
    "X_test.info()"
   ]
  },
  {
   "cell_type": "markdown",
   "id": "be3027a4",
   "metadata": {},
   "source": [
    "> Modelos // _Models_"
   ]
  },
  {
   "cell_type": "code",
   "execution_count": 15,
   "id": "fd56f9ad",
   "metadata": {},
   "outputs": [],
   "source": [
    "# Funções auxiliares // Auxiliary functions\n",
    "\n",
    "def evaluate_classification_model(y_test, y_pred, y_pred_proba):\n",
    "    \"\"\" \n",
    "    Avalia modelos de classificação por meio de matriz de confusão, AUC, curva ROC e acurácia.\n",
    "    Evaluates classification models through confusion matrix, AUC, ROC curve and accuracy.\n",
    "    \"\"\"\n",
    "    \n",
    "    # Matriz de confusão\n",
    "    cm = confusion_matrix(y_test, y_pred)\n",
    "    \n",
    "    # Extração de cada valor da Confusion Matrix\n",
    "    tn, fp, fn, tp = confusion_matrix(y_test, y_pred).ravel()\n",
    "\n",
    "    # Cálculo da métrica global AUC (Area Under The Curve) com dados reais e previsões em teste\n",
    "    roc_auc = roc_auc_score(y_test, y_pred)\n",
    "\n",
    "    # Cálculo da curva ROC com dados e previsões em teste\n",
    "    fpr, tpr, thresholds = roc_curve(y_test, y_pred_proba)\n",
    "\n",
    "    # AUC em teste\n",
    "    auc_ = auc(fpr, tpr)\n",
    "\n",
    "    # Acurácia em teste\n",
    "    accuracy = accuracy_score(y_test, y_pred)\n",
    "    \n",
    "    return cm, roc_auc, auc_, accuracy\n",
    "\n",
    "\n",
    "def feature_importance(model, cols_list):\n",
    "    \"\"\" \n",
    "    Imprime as 10 variáveis mais importantes para o resultado do modelo.\n",
    "    Prints the 10 most important variables for the model result\n",
    "    \"\"\"\n",
    "    indices = np.argsort(-abs(model.coef_))\n",
    "\n",
    "    print(\"Top 10 - Variáveis mais importantes para o resultado do modelo:\")\n",
    "    print(50*'-')\n",
    "    for feature in cols_list[indices][0,:10]:\n",
    "        print(feature) \n",
    "\n",
    "def save_model(model_name, model):\n",
    "    \"\"\"\n",
    "    Salva o modelo em disco com pickle.\n",
    "    Save the model to disk with pickle.\n",
    "    \"\"\"\n",
    "    with open(f'../models/{model_name}.pkl', 'wb') as pickle_file:\n",
    "        joblib.dump(model, pickle_file)\n",
    "        \n",
    "\n"
   ]
  },
  {
   "cell_type": "code",
   "execution_count": 16,
   "id": "3ec34923",
   "metadata": {},
   "outputs": [
    {
     "name": "stdout",
     "output_type": "stream",
     "text": [
      "Valores faltantes nos dados de treino: 0\n",
      "Valores faltantes nos dados de teste: 0\n"
     ]
    }
   ],
   "source": [
    "# Checando valores faltantes // Checking missing values\n",
    "print(f'Valores faltantes nos dados de treino: {X_train.isnull().any().sum()}')\n",
    "print(f'Valores faltantes nos dados de teste: {X_test.isnull().any().sum()}')\n"
   ]
  },
  {
   "cell_type": "markdown",
   "id": "1cab8893",
   "metadata": {},
   "source": [
    "### Construção, Treinamento e Avaliação do Modelo 1 com Regressão Logística (Benchmark)\n",
    "### _Construction, Training and Evaluation of Model 1 with Logistic Regression (Benchmark)_"
   ]
  },
  {
   "cell_type": "code",
   "execution_count": 17,
   "id": "d4dcd20c",
   "metadata": {},
   "outputs": [
    {
     "data": {
      "text/html": [
       "<style>#sk-container-id-1 {color: black;background-color: white;}#sk-container-id-1 pre{padding: 0;}#sk-container-id-1 div.sk-toggleable {background-color: white;}#sk-container-id-1 label.sk-toggleable__label {cursor: pointer;display: block;width: 100%;margin-bottom: 0;padding: 0.3em;box-sizing: border-box;text-align: center;}#sk-container-id-1 label.sk-toggleable__label-arrow:before {content: \"▸\";float: left;margin-right: 0.25em;color: #696969;}#sk-container-id-1 label.sk-toggleable__label-arrow:hover:before {color: black;}#sk-container-id-1 div.sk-estimator:hover label.sk-toggleable__label-arrow:before {color: black;}#sk-container-id-1 div.sk-toggleable__content {max-height: 0;max-width: 0;overflow: hidden;text-align: left;background-color: #f0f8ff;}#sk-container-id-1 div.sk-toggleable__content pre {margin: 0.2em;color: black;border-radius: 0.25em;background-color: #f0f8ff;}#sk-container-id-1 input.sk-toggleable__control:checked~div.sk-toggleable__content {max-height: 200px;max-width: 100%;overflow: auto;}#sk-container-id-1 input.sk-toggleable__control:checked~label.sk-toggleable__label-arrow:before {content: \"▾\";}#sk-container-id-1 div.sk-estimator input.sk-toggleable__control:checked~label.sk-toggleable__label {background-color: #d4ebff;}#sk-container-id-1 div.sk-label input.sk-toggleable__control:checked~label.sk-toggleable__label {background-color: #d4ebff;}#sk-container-id-1 input.sk-hidden--visually {border: 0;clip: rect(1px 1px 1px 1px);clip: rect(1px, 1px, 1px, 1px);height: 1px;margin: -1px;overflow: hidden;padding: 0;position: absolute;width: 1px;}#sk-container-id-1 div.sk-estimator {font-family: monospace;background-color: #f0f8ff;border: 1px dotted black;border-radius: 0.25em;box-sizing: border-box;margin-bottom: 0.5em;}#sk-container-id-1 div.sk-estimator:hover {background-color: #d4ebff;}#sk-container-id-1 div.sk-parallel-item::after {content: \"\";width: 100%;border-bottom: 1px solid gray;flex-grow: 1;}#sk-container-id-1 div.sk-label:hover label.sk-toggleable__label {background-color: #d4ebff;}#sk-container-id-1 div.sk-serial::before {content: \"\";position: absolute;border-left: 1px solid gray;box-sizing: border-box;top: 0;bottom: 0;left: 50%;z-index: 0;}#sk-container-id-1 div.sk-serial {display: flex;flex-direction: column;align-items: center;background-color: white;padding-right: 0.2em;padding-left: 0.2em;position: relative;}#sk-container-id-1 div.sk-item {position: relative;z-index: 1;}#sk-container-id-1 div.sk-parallel {display: flex;align-items: stretch;justify-content: center;background-color: white;position: relative;}#sk-container-id-1 div.sk-item::before, #sk-container-id-1 div.sk-parallel-item::before {content: \"\";position: absolute;border-left: 1px solid gray;box-sizing: border-box;top: 0;bottom: 0;left: 50%;z-index: -1;}#sk-container-id-1 div.sk-parallel-item {display: flex;flex-direction: column;z-index: 1;position: relative;background-color: white;}#sk-container-id-1 div.sk-parallel-item:first-child::after {align-self: flex-end;width: 50%;}#sk-container-id-1 div.sk-parallel-item:last-child::after {align-self: flex-start;width: 50%;}#sk-container-id-1 div.sk-parallel-item:only-child::after {width: 0;}#sk-container-id-1 div.sk-dashed-wrapped {border: 1px dashed gray;margin: 0 0.4em 0.5em 0.4em;box-sizing: border-box;padding-bottom: 0.4em;background-color: white;}#sk-container-id-1 div.sk-label label {font-family: monospace;font-weight: bold;display: inline-block;line-height: 1.2em;}#sk-container-id-1 div.sk-label-container {text-align: center;}#sk-container-id-1 div.sk-container {/* jupyter's `normalize.less` sets `[hidden] { display: none; }` but bootstrap.min.css set `[hidden] { display: none !important; }` so we also need the `!important` here to be able to override the default hidden behavior on the sphinx rendered scikit-learn.org. See: https://github.com/scikit-learn/scikit-learn/issues/21755 */display: inline-block !important;position: relative;}#sk-container-id-1 div.sk-text-repr-fallback {display: none;}</style><div id=\"sk-container-id-1\" class=\"sk-top-container\"><div class=\"sk-text-repr-fallback\"><pre>GridSearchCV(estimator=LogisticRegression(), n_jobs=-1,\n",
       "             param_grid={&#x27;C&#x27;: [0.0001, 0.001, 0.01, 0.1, 1, 10, 100, 1000,\n",
       "                               10000]},\n",
       "             scoring=&#x27;roc_auc&#x27;)</pre><b>In a Jupyter environment, please rerun this cell to show the HTML representation or trust the notebook. <br />On GitHub, the HTML representation is unable to render, please try loading this page with nbviewer.org.</b></div><div class=\"sk-container\" hidden><div class=\"sk-item sk-dashed-wrapped\"><div class=\"sk-label-container\"><div class=\"sk-label sk-toggleable\"><input class=\"sk-toggleable__control sk-hidden--visually\" id=\"sk-estimator-id-1\" type=\"checkbox\" ><label for=\"sk-estimator-id-1\" class=\"sk-toggleable__label sk-toggleable__label-arrow\">GridSearchCV</label><div class=\"sk-toggleable__content\"><pre>GridSearchCV(estimator=LogisticRegression(), n_jobs=-1,\n",
       "             param_grid={&#x27;C&#x27;: [0.0001, 0.001, 0.01, 0.1, 1, 10, 100, 1000,\n",
       "                               10000]},\n",
       "             scoring=&#x27;roc_auc&#x27;)</pre></div></div></div><div class=\"sk-parallel\"><div class=\"sk-parallel-item\"><div class=\"sk-item\"><div class=\"sk-label-container\"><div class=\"sk-label sk-toggleable\"><input class=\"sk-toggleable__control sk-hidden--visually\" id=\"sk-estimator-id-2\" type=\"checkbox\" ><label for=\"sk-estimator-id-2\" class=\"sk-toggleable__label sk-toggleable__label-arrow\">estimator: LogisticRegression</label><div class=\"sk-toggleable__content\"><pre>LogisticRegression()</pre></div></div></div><div class=\"sk-serial\"><div class=\"sk-item\"><div class=\"sk-estimator sk-toggleable\"><input class=\"sk-toggleable__control sk-hidden--visually\" id=\"sk-estimator-id-3\" type=\"checkbox\" ><label for=\"sk-estimator-id-3\" class=\"sk-toggleable__label sk-toggleable__label-arrow\">LogisticRegression</label><div class=\"sk-toggleable__content\"><pre>LogisticRegression()</pre></div></div></div></div></div></div></div></div></div></div>"
      ],
      "text/plain": [
       "GridSearchCV(estimator=LogisticRegression(), n_jobs=-1,\n",
       "             param_grid={'C': [0.0001, 0.001, 0.01, 0.1, 1, 10, 100, 1000,\n",
       "                               10000]},\n",
       "             scoring='roc_auc')"
      ]
     },
     "execution_count": 17,
     "metadata": {},
     "output_type": "execute_result"
    }
   ],
   "source": [
    "# Treinamento do Modelo // Model Training\n",
    "\n",
    "# Define lista de hiperparâmetros // Define hyperparameter list\n",
    "tuned_params_v1 = {'C': [0.0001, 0.001, 0.01, 0.1, 1, 10, 100, 1000, 10000], \n",
    "                   #'penalty': ['l1', 'l2']\n",
    "                  }\n",
    "\n",
    "# Criação de modelo com GridSearch // Model creation with GridSearch\n",
    "model_v1 = GridSearchCV(LogisticRegression(), \n",
    "                         tuned_params_v1, \n",
    "                         scoring = 'roc_auc', \n",
    "                         n_jobs = -1) # n_jobs -1 para não impor limites para a execução\n",
    "\n",
    "# Treinamento  // Training\n",
    "model_v1.fit(X_train, y_train)"
   ]
  },
  {
   "cell_type": "code",
   "execution_count": 18,
   "id": "f355fd0f",
   "metadata": {},
   "outputs": [
    {
     "data": {
      "text/html": [
       "<style>#sk-container-id-2 {color: black;background-color: white;}#sk-container-id-2 pre{padding: 0;}#sk-container-id-2 div.sk-toggleable {background-color: white;}#sk-container-id-2 label.sk-toggleable__label {cursor: pointer;display: block;width: 100%;margin-bottom: 0;padding: 0.3em;box-sizing: border-box;text-align: center;}#sk-container-id-2 label.sk-toggleable__label-arrow:before {content: \"▸\";float: left;margin-right: 0.25em;color: #696969;}#sk-container-id-2 label.sk-toggleable__label-arrow:hover:before {color: black;}#sk-container-id-2 div.sk-estimator:hover label.sk-toggleable__label-arrow:before {color: black;}#sk-container-id-2 div.sk-toggleable__content {max-height: 0;max-width: 0;overflow: hidden;text-align: left;background-color: #f0f8ff;}#sk-container-id-2 div.sk-toggleable__content pre {margin: 0.2em;color: black;border-radius: 0.25em;background-color: #f0f8ff;}#sk-container-id-2 input.sk-toggleable__control:checked~div.sk-toggleable__content {max-height: 200px;max-width: 100%;overflow: auto;}#sk-container-id-2 input.sk-toggleable__control:checked~label.sk-toggleable__label-arrow:before {content: \"▾\";}#sk-container-id-2 div.sk-estimator input.sk-toggleable__control:checked~label.sk-toggleable__label {background-color: #d4ebff;}#sk-container-id-2 div.sk-label input.sk-toggleable__control:checked~label.sk-toggleable__label {background-color: #d4ebff;}#sk-container-id-2 input.sk-hidden--visually {border: 0;clip: rect(1px 1px 1px 1px);clip: rect(1px, 1px, 1px, 1px);height: 1px;margin: -1px;overflow: hidden;padding: 0;position: absolute;width: 1px;}#sk-container-id-2 div.sk-estimator {font-family: monospace;background-color: #f0f8ff;border: 1px dotted black;border-radius: 0.25em;box-sizing: border-box;margin-bottom: 0.5em;}#sk-container-id-2 div.sk-estimator:hover {background-color: #d4ebff;}#sk-container-id-2 div.sk-parallel-item::after {content: \"\";width: 100%;border-bottom: 1px solid gray;flex-grow: 1;}#sk-container-id-2 div.sk-label:hover label.sk-toggleable__label {background-color: #d4ebff;}#sk-container-id-2 div.sk-serial::before {content: \"\";position: absolute;border-left: 1px solid gray;box-sizing: border-box;top: 0;bottom: 0;left: 50%;z-index: 0;}#sk-container-id-2 div.sk-serial {display: flex;flex-direction: column;align-items: center;background-color: white;padding-right: 0.2em;padding-left: 0.2em;position: relative;}#sk-container-id-2 div.sk-item {position: relative;z-index: 1;}#sk-container-id-2 div.sk-parallel {display: flex;align-items: stretch;justify-content: center;background-color: white;position: relative;}#sk-container-id-2 div.sk-item::before, #sk-container-id-2 div.sk-parallel-item::before {content: \"\";position: absolute;border-left: 1px solid gray;box-sizing: border-box;top: 0;bottom: 0;left: 50%;z-index: -1;}#sk-container-id-2 div.sk-parallel-item {display: flex;flex-direction: column;z-index: 1;position: relative;background-color: white;}#sk-container-id-2 div.sk-parallel-item:first-child::after {align-self: flex-end;width: 50%;}#sk-container-id-2 div.sk-parallel-item:last-child::after {align-self: flex-start;width: 50%;}#sk-container-id-2 div.sk-parallel-item:only-child::after {width: 0;}#sk-container-id-2 div.sk-dashed-wrapped {border: 1px dashed gray;margin: 0 0.4em 0.5em 0.4em;box-sizing: border-box;padding-bottom: 0.4em;background-color: white;}#sk-container-id-2 div.sk-label label {font-family: monospace;font-weight: bold;display: inline-block;line-height: 1.2em;}#sk-container-id-2 div.sk-label-container {text-align: center;}#sk-container-id-2 div.sk-container {/* jupyter's `normalize.less` sets `[hidden] { display: none; }` but bootstrap.min.css set `[hidden] { display: none !important; }` so we also need the `!important` here to be able to override the default hidden behavior on the sphinx rendered scikit-learn.org. See: https://github.com/scikit-learn/scikit-learn/issues/21755 */display: inline-block !important;position: relative;}#sk-container-id-2 div.sk-text-repr-fallback {display: none;}</style><div id=\"sk-container-id-2\" class=\"sk-top-container\"><div class=\"sk-text-repr-fallback\"><pre>LogisticRegression(C=0.1)</pre><b>In a Jupyter environment, please rerun this cell to show the HTML representation or trust the notebook. <br />On GitHub, the HTML representation is unable to render, please try loading this page with nbviewer.org.</b></div><div class=\"sk-container\" hidden><div class=\"sk-item\"><div class=\"sk-estimator sk-toggleable\"><input class=\"sk-toggleable__control sk-hidden--visually\" id=\"sk-estimator-id-4\" type=\"checkbox\" checked><label for=\"sk-estimator-id-4\" class=\"sk-toggleable__label sk-toggleable__label-arrow\">LogisticRegression</label><div class=\"sk-toggleable__content\"><pre>LogisticRegression(C=0.1)</pre></div></div></div></div></div>"
      ],
      "text/plain": [
       "LogisticRegression(C=0.1)"
      ]
     },
     "execution_count": 18,
     "metadata": {},
     "output_type": "execute_result"
    }
   ],
   "source": [
    "# Seleção do melhor modelo // Selection of the best model\n",
    "model_v1.best_estimator_"
   ]
  },
  {
   "cell_type": "code",
   "execution_count": 19,
   "id": "c33b6fae",
   "metadata": {},
   "outputs": [
    {
     "data": {
      "text/html": [
       "<style>#sk-container-id-3 {color: black;background-color: white;}#sk-container-id-3 pre{padding: 0;}#sk-container-id-3 div.sk-toggleable {background-color: white;}#sk-container-id-3 label.sk-toggleable__label {cursor: pointer;display: block;width: 100%;margin-bottom: 0;padding: 0.3em;box-sizing: border-box;text-align: center;}#sk-container-id-3 label.sk-toggleable__label-arrow:before {content: \"▸\";float: left;margin-right: 0.25em;color: #696969;}#sk-container-id-3 label.sk-toggleable__label-arrow:hover:before {color: black;}#sk-container-id-3 div.sk-estimator:hover label.sk-toggleable__label-arrow:before {color: black;}#sk-container-id-3 div.sk-toggleable__content {max-height: 0;max-width: 0;overflow: hidden;text-align: left;background-color: #f0f8ff;}#sk-container-id-3 div.sk-toggleable__content pre {margin: 0.2em;color: black;border-radius: 0.25em;background-color: #f0f8ff;}#sk-container-id-3 input.sk-toggleable__control:checked~div.sk-toggleable__content {max-height: 200px;max-width: 100%;overflow: auto;}#sk-container-id-3 input.sk-toggleable__control:checked~label.sk-toggleable__label-arrow:before {content: \"▾\";}#sk-container-id-3 div.sk-estimator input.sk-toggleable__control:checked~label.sk-toggleable__label {background-color: #d4ebff;}#sk-container-id-3 div.sk-label input.sk-toggleable__control:checked~label.sk-toggleable__label {background-color: #d4ebff;}#sk-container-id-3 input.sk-hidden--visually {border: 0;clip: rect(1px 1px 1px 1px);clip: rect(1px, 1px, 1px, 1px);height: 1px;margin: -1px;overflow: hidden;padding: 0;position: absolute;width: 1px;}#sk-container-id-3 div.sk-estimator {font-family: monospace;background-color: #f0f8ff;border: 1px dotted black;border-radius: 0.25em;box-sizing: border-box;margin-bottom: 0.5em;}#sk-container-id-3 div.sk-estimator:hover {background-color: #d4ebff;}#sk-container-id-3 div.sk-parallel-item::after {content: \"\";width: 100%;border-bottom: 1px solid gray;flex-grow: 1;}#sk-container-id-3 div.sk-label:hover label.sk-toggleable__label {background-color: #d4ebff;}#sk-container-id-3 div.sk-serial::before {content: \"\";position: absolute;border-left: 1px solid gray;box-sizing: border-box;top: 0;bottom: 0;left: 50%;z-index: 0;}#sk-container-id-3 div.sk-serial {display: flex;flex-direction: column;align-items: center;background-color: white;padding-right: 0.2em;padding-left: 0.2em;position: relative;}#sk-container-id-3 div.sk-item {position: relative;z-index: 1;}#sk-container-id-3 div.sk-parallel {display: flex;align-items: stretch;justify-content: center;background-color: white;position: relative;}#sk-container-id-3 div.sk-item::before, #sk-container-id-3 div.sk-parallel-item::before {content: \"\";position: absolute;border-left: 1px solid gray;box-sizing: border-box;top: 0;bottom: 0;left: 50%;z-index: -1;}#sk-container-id-3 div.sk-parallel-item {display: flex;flex-direction: column;z-index: 1;position: relative;background-color: white;}#sk-container-id-3 div.sk-parallel-item:first-child::after {align-self: flex-end;width: 50%;}#sk-container-id-3 div.sk-parallel-item:last-child::after {align-self: flex-start;width: 50%;}#sk-container-id-3 div.sk-parallel-item:only-child::after {width: 0;}#sk-container-id-3 div.sk-dashed-wrapped {border: 1px dashed gray;margin: 0 0.4em 0.5em 0.4em;box-sizing: border-box;padding-bottom: 0.4em;background-color: white;}#sk-container-id-3 div.sk-label label {font-family: monospace;font-weight: bold;display: inline-block;line-height: 1.2em;}#sk-container-id-3 div.sk-label-container {text-align: center;}#sk-container-id-3 div.sk-container {/* jupyter's `normalize.less` sets `[hidden] { display: none; }` but bootstrap.min.css set `[hidden] { display: none !important; }` so we also need the `!important` here to be able to override the default hidden behavior on the sphinx rendered scikit-learn.org. See: https://github.com/scikit-learn/scikit-learn/issues/21755 */display: inline-block !important;position: relative;}#sk-container-id-3 div.sk-text-repr-fallback {display: none;}</style><div id=\"sk-container-id-3\" class=\"sk-top-container\"><div class=\"sk-text-repr-fallback\"><pre>LogisticRegression(C=0.1)</pre><b>In a Jupyter environment, please rerun this cell to show the HTML representation or trust the notebook. <br />On GitHub, the HTML representation is unable to render, please try loading this page with nbviewer.org.</b></div><div class=\"sk-container\" hidden><div class=\"sk-item\"><div class=\"sk-estimator sk-toggleable\"><input class=\"sk-toggleable__control sk-hidden--visually\" id=\"sk-estimator-id-5\" type=\"checkbox\" checked><label for=\"sk-estimator-id-5\" class=\"sk-toggleable__label sk-toggleable__label-arrow\">LogisticRegression</label><div class=\"sk-toggleable__content\"><pre>LogisticRegression(C=0.1)</pre></div></div></div></div></div>"
      ],
      "text/plain": [
       "LogisticRegression(C=0.1)"
      ]
     },
     "execution_count": 19,
     "metadata": {},
     "output_type": "execute_result"
    }
   ],
   "source": [
    "# Treinamento // Training\n",
    "\n",
    "# Construindo o modelo novamente com os melhores hiperparâmetros // Building the model again with the best hyperparameters\n",
    "# Isso é necessário pois a versão final não deve ter o GridSearchCV\n",
    "\n",
    "model_v1 = LogisticRegression(C = 0.1)\n",
    "model_v1.fit(X_train, y_train)"
   ]
  },
  {
   "cell_type": "code",
   "execution_count": 20,
   "id": "62b87af4",
   "metadata": {},
   "outputs": [],
   "source": [
    "# Previsões com dados de teste // Predictions with test data\n",
    "\n",
    "# Previsões\n",
    "y_pred_v1 = model_v1.predict(X_test)\n",
    "\n",
    "# Previsões no formato de probabilidade para cada classe\n",
    "y_pred_proba_v1 = model_v1.predict_proba(X_test)\n",
    "\n",
    "# Previsões no formato de probabilidade filtrando para a classe positiva (para calcular Curva ROC)\n",
    "y_pred_proba_v1 = model_v1.predict_proba(X_test)[:,1]\n"
   ]
  },
  {
   "cell_type": "code",
   "execution_count": 21,
   "id": "9c77f371",
   "metadata": {},
   "outputs": [
    {
     "name": "stdout",
     "output_type": "stream",
     "text": [
      "[[1074  369]\n",
      " [  81  143]] 0.6913378007128007 0.7511818136818138 0.7300539892021596\n"
     ]
    }
   ],
   "source": [
    "# Chama função para avaliação do modelo // Call function for model evaluation\n",
    "cm_v1, roc_auc_v1, auc_v1, accuracy_v1 = evaluate_classification_model(y_test, y_pred_v1, y_pred_proba_v1)\n",
    "print(cm_v1, roc_auc_v1, auc_v1, accuracy_v1)"
   ]
  },
  {
   "cell_type": "code",
   "execution_count": 22,
   "id": "b264e560",
   "metadata": {},
   "outputs": [
    {
     "name": "stdout",
     "output_type": "stream",
     "text": [
      "Top 10 - Variáveis mais importantes para o resultado do modelo:\n",
      "--------------------------------------------------\n",
      "international_plan\n",
      "total_day_minutes_5\n",
      "number_vmail_messages\n",
      "state_MT\n",
      "total_day_minutes_3\n",
      "state_VA\n",
      "total_night_calls_5\n",
      "state_TX\n",
      "total_eve_calls_5\n",
      "state_SC\n"
     ]
    }
   ],
   "source": [
    "# Feature Importance\n",
    "\n",
    "feature_importance(model_v1, X_train.columns)"
   ]
  },
  {
   "cell_type": "code",
   "execution_count": 23,
   "id": "e76a5aaf",
   "metadata": {},
   "outputs": [],
   "source": [
    "# Salva o modelo em disco // Save the model to disk\n",
    "save_model('model_v1', model_v1)"
   ]
  },
  {
   "cell_type": "code",
   "execution_count": 24,
   "id": "37edf1a4",
   "metadata": {},
   "outputs": [
    {
     "data": {
      "text/html": [
       "<div>\n",
       "<style scoped>\n",
       "    .dataframe tbody tr th:only-of-type {\n",
       "        vertical-align: middle;\n",
       "    }\n",
       "\n",
       "    .dataframe tbody tr th {\n",
       "        vertical-align: top;\n",
       "    }\n",
       "\n",
       "    .dataframe thead th {\n",
       "        text-align: right;\n",
       "    }\n",
       "</style>\n",
       "<table border=\"1\" class=\"dataframe\">\n",
       "  <thead>\n",
       "    <tr style=\"text-align: right;\">\n",
       "      <th></th>\n",
       "      <th>Nome</th>\n",
       "      <th>Algoritmo</th>\n",
       "      <th>ROC_AUC Score</th>\n",
       "      <th>AUC Score</th>\n",
       "      <th>Acurácia</th>\n",
       "    </tr>\n",
       "  </thead>\n",
       "  <tbody>\n",
       "    <tr>\n",
       "      <th>0</th>\n",
       "      <td>modelo_v1</td>\n",
       "      <td>Regressão Logística</td>\n",
       "      <td>0.691338</td>\n",
       "      <td>0.751182</td>\n",
       "      <td>0.730054</td>\n",
       "    </tr>\n",
       "  </tbody>\n",
       "</table>\n",
       "</div>"
      ],
      "text/plain": [
       "        Nome            Algoritmo ROC_AUC Score AUC Score  Acurácia\n",
       "0  modelo_v1  Regressão Logística      0.691338  0.751182  0.730054"
      ]
     },
     "metadata": {},
     "output_type": "display_data"
    }
   ],
   "source": [
    "# Consolidação da avaliação para comparação dos modelos // Consolidation of the evaluation to compare the models\n",
    "\n",
    "# Cria um dataframe para receber as métricas de cada modelo\n",
    "df_models = pd.DataFrame()\n",
    "\n",
    "# Dicionário com as métricas do modelo_v1\n",
    "dict_model_v1 = {'Nome': 'modelo_v1', \n",
    "                 'Algoritmo': 'Regressão Logística', \n",
    "                 'ROC_AUC Score': roc_auc_v1,\n",
    "                 'AUC Score': auc_v1,\n",
    "                 'Acurácia': accuracy_v1}\n",
    "dict_model_v1 = pd.DataFrame.from_dict(dict_model_v1, orient='index').T\n",
    "\n",
    "# Adiciona o dict ao dataframe\n",
    "df_models = dict_model_v1\n",
    "\n",
    "display(df_models)"
   ]
  },
  {
   "cell_type": "markdown",
   "id": "4734cc14",
   "metadata": {},
   "source": [
    "### Construção, Treinamento e Avaliação do Modelo 2 com Random Forest\n",
    "#### _Construction, Training and Evaluation of Model 2 with Random Forest_"
   ]
  },
  {
   "cell_type": "code",
   "execution_count": 25,
   "id": "45ffb5c0",
   "metadata": {},
   "outputs": [],
   "source": [
    "# Função para seleção de hiperparâmetros com Random Forest // Function for selecting hyperparameters with Random Forest\n",
    "def random_forest_param_selection(X, y):\n",
    "    \"\"\"\n",
    "    Função para seleção de hiperparâmetros com Random Forest. \n",
    "    Function for selecting hyperparameters with Random Forest\n",
    "    \"\"\"\n",
    "    n_estimators = [100, 200, 300, 400, 500]\n",
    "    max_depth = [3, None]\n",
    "    max_features = sp_randint(1, 11)\n",
    "    min_samples_split = sp_randint(2, 11)\n",
    "    min_samples_leaf = sp_randint(2, 11) \n",
    "    bootstrap = [True, False]\n",
    "    criterion = [\"gini\", \"entropy\"]\n",
    "    n_iter_search = 20\n",
    "        \n",
    "    param_dist = {'n_estimators': n_estimators,\n",
    "                  'max_depth': max_depth,\n",
    "                  'max_features': max_features,\n",
    "                  'min_samples_split': min_samples_split,\n",
    "                  'min_samples_leaf': min_samples_leaf,\n",
    "                  'bootstrap': bootstrap,\n",
    "                  'criterion': criterion\n",
    "                  }\n",
    "    rand_search = RandomizedSearchCV(RandomForestClassifier(),\n",
    "                                     param_distributions = param_dist,\n",
    "                                     n_iter = n_iter_search,\n",
    "                                     scoring = 'roc_auc',\n",
    "                                     n_jobs  = -1)\n",
    "    rand_search.fit(X_train, y_train)\n",
    "    rand_search.best_estimator_\n",
    "    return rand_search.best_estimator_"
   ]
  },
  {
   "cell_type": "code",
   "execution_count": 26,
   "id": "0dcaa102",
   "metadata": {},
   "outputs": [
    {
     "data": {
      "text/html": [
       "<style>#sk-container-id-4 {color: black;background-color: white;}#sk-container-id-4 pre{padding: 0;}#sk-container-id-4 div.sk-toggleable {background-color: white;}#sk-container-id-4 label.sk-toggleable__label {cursor: pointer;display: block;width: 100%;margin-bottom: 0;padding: 0.3em;box-sizing: border-box;text-align: center;}#sk-container-id-4 label.sk-toggleable__label-arrow:before {content: \"▸\";float: left;margin-right: 0.25em;color: #696969;}#sk-container-id-4 label.sk-toggleable__label-arrow:hover:before {color: black;}#sk-container-id-4 div.sk-estimator:hover label.sk-toggleable__label-arrow:before {color: black;}#sk-container-id-4 div.sk-toggleable__content {max-height: 0;max-width: 0;overflow: hidden;text-align: left;background-color: #f0f8ff;}#sk-container-id-4 div.sk-toggleable__content pre {margin: 0.2em;color: black;border-radius: 0.25em;background-color: #f0f8ff;}#sk-container-id-4 input.sk-toggleable__control:checked~div.sk-toggleable__content {max-height: 200px;max-width: 100%;overflow: auto;}#sk-container-id-4 input.sk-toggleable__control:checked~label.sk-toggleable__label-arrow:before {content: \"▾\";}#sk-container-id-4 div.sk-estimator input.sk-toggleable__control:checked~label.sk-toggleable__label {background-color: #d4ebff;}#sk-container-id-4 div.sk-label input.sk-toggleable__control:checked~label.sk-toggleable__label {background-color: #d4ebff;}#sk-container-id-4 input.sk-hidden--visually {border: 0;clip: rect(1px 1px 1px 1px);clip: rect(1px, 1px, 1px, 1px);height: 1px;margin: -1px;overflow: hidden;padding: 0;position: absolute;width: 1px;}#sk-container-id-4 div.sk-estimator {font-family: monospace;background-color: #f0f8ff;border: 1px dotted black;border-radius: 0.25em;box-sizing: border-box;margin-bottom: 0.5em;}#sk-container-id-4 div.sk-estimator:hover {background-color: #d4ebff;}#sk-container-id-4 div.sk-parallel-item::after {content: \"\";width: 100%;border-bottom: 1px solid gray;flex-grow: 1;}#sk-container-id-4 div.sk-label:hover label.sk-toggleable__label {background-color: #d4ebff;}#sk-container-id-4 div.sk-serial::before {content: \"\";position: absolute;border-left: 1px solid gray;box-sizing: border-box;top: 0;bottom: 0;left: 50%;z-index: 0;}#sk-container-id-4 div.sk-serial {display: flex;flex-direction: column;align-items: center;background-color: white;padding-right: 0.2em;padding-left: 0.2em;position: relative;}#sk-container-id-4 div.sk-item {position: relative;z-index: 1;}#sk-container-id-4 div.sk-parallel {display: flex;align-items: stretch;justify-content: center;background-color: white;position: relative;}#sk-container-id-4 div.sk-item::before, #sk-container-id-4 div.sk-parallel-item::before {content: \"\";position: absolute;border-left: 1px solid gray;box-sizing: border-box;top: 0;bottom: 0;left: 50%;z-index: -1;}#sk-container-id-4 div.sk-parallel-item {display: flex;flex-direction: column;z-index: 1;position: relative;background-color: white;}#sk-container-id-4 div.sk-parallel-item:first-child::after {align-self: flex-end;width: 50%;}#sk-container-id-4 div.sk-parallel-item:last-child::after {align-self: flex-start;width: 50%;}#sk-container-id-4 div.sk-parallel-item:only-child::after {width: 0;}#sk-container-id-4 div.sk-dashed-wrapped {border: 1px dashed gray;margin: 0 0.4em 0.5em 0.4em;box-sizing: border-box;padding-bottom: 0.4em;background-color: white;}#sk-container-id-4 div.sk-label label {font-family: monospace;font-weight: bold;display: inline-block;line-height: 1.2em;}#sk-container-id-4 div.sk-label-container {text-align: center;}#sk-container-id-4 div.sk-container {/* jupyter's `normalize.less` sets `[hidden] { display: none; }` but bootstrap.min.css set `[hidden] { display: none !important; }` so we also need the `!important` here to be able to override the default hidden behavior on the sphinx rendered scikit-learn.org. See: https://github.com/scikit-learn/scikit-learn/issues/21755 */display: inline-block !important;position: relative;}#sk-container-id-4 div.sk-text-repr-fallback {display: none;}</style><div id=\"sk-container-id-4\" class=\"sk-top-container\"><div class=\"sk-text-repr-fallback\"><pre>RandomForestClassifier(criterion=&#x27;entropy&#x27;, max_features=10, min_samples_leaf=3,\n",
       "                       min_samples_split=6, n_estimators=300)</pre><b>In a Jupyter environment, please rerun this cell to show the HTML representation or trust the notebook. <br />On GitHub, the HTML representation is unable to render, please try loading this page with nbviewer.org.</b></div><div class=\"sk-container\" hidden><div class=\"sk-item\"><div class=\"sk-estimator sk-toggleable\"><input class=\"sk-toggleable__control sk-hidden--visually\" id=\"sk-estimator-id-6\" type=\"checkbox\" checked><label for=\"sk-estimator-id-6\" class=\"sk-toggleable__label sk-toggleable__label-arrow\">RandomForestClassifier</label><div class=\"sk-toggleable__content\"><pre>RandomForestClassifier(criterion=&#x27;entropy&#x27;, max_features=10, min_samples_leaf=3,\n",
       "                       min_samples_split=6, n_estimators=300)</pre></div></div></div></div></div>"
      ],
      "text/plain": [
       "RandomForestClassifier(criterion='entropy', max_features=10, min_samples_leaf=3,\n",
       "                       min_samples_split=6, n_estimators=300)"
      ]
     },
     "execution_count": 26,
     "metadata": {},
     "output_type": "execute_result"
    }
   ],
   "source": [
    "# Chama função para seleção de hiperparâmetros com Random Forest \n",
    "# Call function for selection of hyperparameters with Random Forest\n",
    "random_forest_param_selection(X_train, y_train)\n"
   ]
  },
  {
   "cell_type": "code",
   "execution_count": 27,
   "id": "fbbfb4b2",
   "metadata": {},
   "outputs": [
    {
     "data": {
      "text/html": [
       "<style>#sk-container-id-5 {color: black;background-color: white;}#sk-container-id-5 pre{padding: 0;}#sk-container-id-5 div.sk-toggleable {background-color: white;}#sk-container-id-5 label.sk-toggleable__label {cursor: pointer;display: block;width: 100%;margin-bottom: 0;padding: 0.3em;box-sizing: border-box;text-align: center;}#sk-container-id-5 label.sk-toggleable__label-arrow:before {content: \"▸\";float: left;margin-right: 0.25em;color: #696969;}#sk-container-id-5 label.sk-toggleable__label-arrow:hover:before {color: black;}#sk-container-id-5 div.sk-estimator:hover label.sk-toggleable__label-arrow:before {color: black;}#sk-container-id-5 div.sk-toggleable__content {max-height: 0;max-width: 0;overflow: hidden;text-align: left;background-color: #f0f8ff;}#sk-container-id-5 div.sk-toggleable__content pre {margin: 0.2em;color: black;border-radius: 0.25em;background-color: #f0f8ff;}#sk-container-id-5 input.sk-toggleable__control:checked~div.sk-toggleable__content {max-height: 200px;max-width: 100%;overflow: auto;}#sk-container-id-5 input.sk-toggleable__control:checked~label.sk-toggleable__label-arrow:before {content: \"▾\";}#sk-container-id-5 div.sk-estimator input.sk-toggleable__control:checked~label.sk-toggleable__label {background-color: #d4ebff;}#sk-container-id-5 div.sk-label input.sk-toggleable__control:checked~label.sk-toggleable__label {background-color: #d4ebff;}#sk-container-id-5 input.sk-hidden--visually {border: 0;clip: rect(1px 1px 1px 1px);clip: rect(1px, 1px, 1px, 1px);height: 1px;margin: -1px;overflow: hidden;padding: 0;position: absolute;width: 1px;}#sk-container-id-5 div.sk-estimator {font-family: monospace;background-color: #f0f8ff;border: 1px dotted black;border-radius: 0.25em;box-sizing: border-box;margin-bottom: 0.5em;}#sk-container-id-5 div.sk-estimator:hover {background-color: #d4ebff;}#sk-container-id-5 div.sk-parallel-item::after {content: \"\";width: 100%;border-bottom: 1px solid gray;flex-grow: 1;}#sk-container-id-5 div.sk-label:hover label.sk-toggleable__label {background-color: #d4ebff;}#sk-container-id-5 div.sk-serial::before {content: \"\";position: absolute;border-left: 1px solid gray;box-sizing: border-box;top: 0;bottom: 0;left: 50%;z-index: 0;}#sk-container-id-5 div.sk-serial {display: flex;flex-direction: column;align-items: center;background-color: white;padding-right: 0.2em;padding-left: 0.2em;position: relative;}#sk-container-id-5 div.sk-item {position: relative;z-index: 1;}#sk-container-id-5 div.sk-parallel {display: flex;align-items: stretch;justify-content: center;background-color: white;position: relative;}#sk-container-id-5 div.sk-item::before, #sk-container-id-5 div.sk-parallel-item::before {content: \"\";position: absolute;border-left: 1px solid gray;box-sizing: border-box;top: 0;bottom: 0;left: 50%;z-index: -1;}#sk-container-id-5 div.sk-parallel-item {display: flex;flex-direction: column;z-index: 1;position: relative;background-color: white;}#sk-container-id-5 div.sk-parallel-item:first-child::after {align-self: flex-end;width: 50%;}#sk-container-id-5 div.sk-parallel-item:last-child::after {align-self: flex-start;width: 50%;}#sk-container-id-5 div.sk-parallel-item:only-child::after {width: 0;}#sk-container-id-5 div.sk-dashed-wrapped {border: 1px dashed gray;margin: 0 0.4em 0.5em 0.4em;box-sizing: border-box;padding-bottom: 0.4em;background-color: white;}#sk-container-id-5 div.sk-label label {font-family: monospace;font-weight: bold;display: inline-block;line-height: 1.2em;}#sk-container-id-5 div.sk-label-container {text-align: center;}#sk-container-id-5 div.sk-container {/* jupyter's `normalize.less` sets `[hidden] { display: none; }` but bootstrap.min.css set `[hidden] { display: none !important; }` so we also need the `!important` here to be able to override the default hidden behavior on the sphinx rendered scikit-learn.org. See: https://github.com/scikit-learn/scikit-learn/issues/21755 */display: inline-block !important;position: relative;}#sk-container-id-5 div.sk-text-repr-fallback {display: none;}</style><div id=\"sk-container-id-5\" class=\"sk-top-container\"><div class=\"sk-text-repr-fallback\"><pre>RandomForestClassifier(criterion=&#x27;entropy&#x27;, max_features=10, min_samples_leaf=3,\n",
       "                       min_samples_split=6, n_estimators=300)</pre><b>In a Jupyter environment, please rerun this cell to show the HTML representation or trust the notebook. <br />On GitHub, the HTML representation is unable to render, please try loading this page with nbviewer.org.</b></div><div class=\"sk-container\" hidden><div class=\"sk-item\"><div class=\"sk-estimator sk-toggleable\"><input class=\"sk-toggleable__control sk-hidden--visually\" id=\"sk-estimator-id-7\" type=\"checkbox\" checked><label for=\"sk-estimator-id-7\" class=\"sk-toggleable__label sk-toggleable__label-arrow\">RandomForestClassifier</label><div class=\"sk-toggleable__content\"><pre>RandomForestClassifier(criterion=&#x27;entropy&#x27;, max_features=10, min_samples_leaf=3,\n",
       "                       min_samples_split=6, n_estimators=300)</pre></div></div></div></div></div>"
      ],
      "text/plain": [
       "RandomForestClassifier(criterion='entropy', max_features=10, min_samples_leaf=3,\n",
       "                       min_samples_split=6, n_estimators=300)"
      ]
     },
     "execution_count": 27,
     "metadata": {},
     "output_type": "execute_result"
    }
   ],
   "source": [
    "# Treinamento // Training\n",
    "\n",
    "# Construindo o modelo novamente com os melhores hiperparâmetros\n",
    "# Isso é necessário pois a versão final não deve ter o GridSearchCV\n",
    "model_v2 = RandomForestClassifier(criterion='entropy', max_features=10, min_samples_leaf=3,\n",
    "                       min_samples_split=6, n_estimators=300)\n",
    "model_v2.fit(X_train, y_train)\n"
   ]
  },
  {
   "cell_type": "code",
   "execution_count": 28,
   "id": "fe4925b4",
   "metadata": {},
   "outputs": [],
   "source": [
    "# Previsões em teste // Test predictions\n",
    "\n",
    "# Previsões\n",
    "y_pred_v2 = model_v2.predict(X_test)\n",
    "\n",
    "# Obtém as previsões para a classe positiva\n",
    "y_pred_proba_v2 = model_v2.predict_proba(X_test)[:,1]"
   ]
  },
  {
   "cell_type": "code",
   "execution_count": 29,
   "id": "188ccfe9",
   "metadata": {},
   "outputs": [
    {
     "name": "stdout",
     "output_type": "stream",
     "text": [
      "[[1279  164]\n",
      " [ 101  123]] 0.7177275146025146 0.794580982080982 0.8410317936412718\n"
     ]
    }
   ],
   "source": [
    "# Avaliação do modelo // Model evaluation\n",
    "cm_v2, roc_auc_v2, auc_v2, accuracy_v2 = evaluate_classification_model(y_test, y_pred_v2, y_pred_proba_v2)\n",
    "print(cm_v2, roc_auc_v2, auc_v2, accuracy_v2)"
   ]
  },
  {
   "cell_type": "code",
   "execution_count": 30,
   "id": "3c1ff3e5",
   "metadata": {},
   "outputs": [
    {
     "name": "stdout",
     "output_type": "stream",
     "text": [
      "Variáveis mais importantes para o resultado do modelo_v2:\n",
      "--------------------------------------------------\n",
      "international_plan\n",
      "total_day_minutes_5\n",
      "number_vmail_messages\n",
      "total_day_minutes_3\n",
      "voice_mail_plan\n",
      "total_intl_calls_1\n",
      "total_day_minutes_4\n",
      "total_eve_minutes_2\n",
      "total_eve_minutes_4\n",
      "total_day_minutes_2\n"
     ]
    }
   ],
   "source": [
    "# Feature Importance\n",
    "\n",
    "# Construindo o modelo novamente com os melhores hiperparâmetros\n",
    "# Isso é necessário pois a versão final não deve ter o GridSearchCV\n",
    "model_v2 = RandomForestClassifier(min_samples_split=10, n_estimators=500)\n",
    "model_v2.fit(X_train, y_train)\n",
    "\n",
    "# Variáveis mais relevantes\n",
    "indices = np.argsort(-model_v2.feature_importances_)\n",
    "print(\"Variáveis mais importantes para o resultado do modelo_v2:\")\n",
    "print(50*'-')\n",
    "for feature in X_train.columns[indices][:10]:\n",
    "    print(feature)"
   ]
  },
  {
   "cell_type": "code",
   "execution_count": 31,
   "id": "a681b4c5",
   "metadata": {},
   "outputs": [],
   "source": [
    "# Salva o modelo em disco // Save the model to disk\n",
    "save_model('model_v2', model_v2)"
   ]
  },
  {
   "cell_type": "code",
   "execution_count": 32,
   "id": "268c47c5",
   "metadata": {},
   "outputs": [
    {
     "data": {
      "text/html": [
       "<div>\n",
       "<style scoped>\n",
       "    .dataframe tbody tr th:only-of-type {\n",
       "        vertical-align: middle;\n",
       "    }\n",
       "\n",
       "    .dataframe tbody tr th {\n",
       "        vertical-align: top;\n",
       "    }\n",
       "\n",
       "    .dataframe thead th {\n",
       "        text-align: right;\n",
       "    }\n",
       "</style>\n",
       "<table border=\"1\" class=\"dataframe\">\n",
       "  <thead>\n",
       "    <tr style=\"text-align: right;\">\n",
       "      <th></th>\n",
       "      <th>Nome</th>\n",
       "      <th>Algoritmo</th>\n",
       "      <th>ROC_AUC Score</th>\n",
       "      <th>AUC Score</th>\n",
       "      <th>Acurácia</th>\n",
       "    </tr>\n",
       "  </thead>\n",
       "  <tbody>\n",
       "    <tr>\n",
       "      <th>0</th>\n",
       "      <td>modelo_v1</td>\n",
       "      <td>Regressão Logística</td>\n",
       "      <td>0.691338</td>\n",
       "      <td>0.751182</td>\n",
       "      <td>0.730054</td>\n",
       "    </tr>\n",
       "    <tr>\n",
       "      <th>0</th>\n",
       "      <td>modelo_v2</td>\n",
       "      <td>Random Forest</td>\n",
       "      <td>0.717728</td>\n",
       "      <td>0.794581</td>\n",
       "      <td>0.841032</td>\n",
       "    </tr>\n",
       "  </tbody>\n",
       "</table>\n",
       "</div>"
      ],
      "text/plain": [
       "        Nome            Algoritmo ROC_AUC Score AUC Score  Acurácia\n",
       "0  modelo_v1  Regressão Logística      0.691338  0.751182  0.730054\n",
       "0  modelo_v2        Random Forest      0.717728  0.794581  0.841032"
      ]
     },
     "metadata": {},
     "output_type": "display_data"
    }
   ],
   "source": [
    "# Dicionário com as métricas do modelo_v2 // Dictionary with model_v2 metrics\n",
    "\n",
    "dict_model_v2 = {'Nome': 'modelo_v2', \n",
    "                 'Algoritmo': 'Random Forest', \n",
    "                 'ROC_AUC Score': roc_auc_v2,\n",
    "                 'AUC Score': auc_v2,\n",
    "                 'Acurácia': accuracy_v2}\n",
    "\n",
    "# Adiciona o dict ao dataframe de consolidação das métricas\n",
    "dict_model_v2 = pd.DataFrame.from_dict(dict_model_v2, orient='index').T\n",
    "df_list = [df_models, dict_model_v2]\n",
    "df_models = pd.concat(df_list)\n",
    "\n",
    "display(df_models)"
   ]
  },
  {
   "cell_type": "markdown",
   "id": "5c5348a4",
   "metadata": {},
   "source": [
    "### Construção, Treinamento e Avaliação do Modelo 3 com KNN\n",
    "#### _Construction, Training and Evaluation of Model 3 with KNN_"
   ]
  },
  {
   "cell_type": "code",
   "execution_count": 33,
   "id": "144c2b11",
   "metadata": {},
   "outputs": [],
   "source": [
    "# Função para seleção de hiperparâmetros com KNN\n",
    "def knn_param_selection(X_train, y_train):\n",
    "    \"\"\" Função para seleção de hiperparâmetros com KNN. \"\"\"\n",
    "    \n",
    "    # Lista de possíveis valores de K\n",
    "    neighbors = list(range(1, 30, 2))\n",
    "\n",
    "    # Lista para os scores\n",
    "    cv_scores = []\n",
    "\n",
    "    # Validação cruzada para determinar o melhor valor de k\n",
    "    for k in neighbors:\n",
    "        knn = KNeighborsClassifier(n_neighbors = k)\n",
    "        scores = cross_val_score(knn, X_train, y_train, cv = 5, scoring = 'accuracy')\n",
    "        cv_scores.append(scores.mean())   \n",
    "\n",
    "    # Ajustando o erro de classificação\n",
    "    error = [1 - x for x in cv_scores]\n",
    "\n",
    "    # Determinando o melhor valor de k (com menor erro)\n",
    "    optimal_k = neighbors[error.index(min(error))]\n",
    "    return optimal_k\n"
   ]
  },
  {
   "cell_type": "code",
   "execution_count": 34,
   "id": "52cda2a3",
   "metadata": {},
   "outputs": [
    {
     "name": "stdout",
     "output_type": "stream",
     "text": [
      "O valor ideal de k é 1\n"
     ]
    }
   ],
   "source": [
    "# Seleção de hiperparâmetro\n",
    "optimal_k = knn_param_selection(X_train, y_train)\n",
    "print(f'O valor ideal de k é {optimal_k}')"
   ]
  },
  {
   "cell_type": "code",
   "execution_count": 35,
   "id": "3ab21bc2",
   "metadata": {},
   "outputs": [
    {
     "data": {
      "text/html": [
       "<style>#sk-container-id-6 {color: black;background-color: white;}#sk-container-id-6 pre{padding: 0;}#sk-container-id-6 div.sk-toggleable {background-color: white;}#sk-container-id-6 label.sk-toggleable__label {cursor: pointer;display: block;width: 100%;margin-bottom: 0;padding: 0.3em;box-sizing: border-box;text-align: center;}#sk-container-id-6 label.sk-toggleable__label-arrow:before {content: \"▸\";float: left;margin-right: 0.25em;color: #696969;}#sk-container-id-6 label.sk-toggleable__label-arrow:hover:before {color: black;}#sk-container-id-6 div.sk-estimator:hover label.sk-toggleable__label-arrow:before {color: black;}#sk-container-id-6 div.sk-toggleable__content {max-height: 0;max-width: 0;overflow: hidden;text-align: left;background-color: #f0f8ff;}#sk-container-id-6 div.sk-toggleable__content pre {margin: 0.2em;color: black;border-radius: 0.25em;background-color: #f0f8ff;}#sk-container-id-6 input.sk-toggleable__control:checked~div.sk-toggleable__content {max-height: 200px;max-width: 100%;overflow: auto;}#sk-container-id-6 input.sk-toggleable__control:checked~label.sk-toggleable__label-arrow:before {content: \"▾\";}#sk-container-id-6 div.sk-estimator input.sk-toggleable__control:checked~label.sk-toggleable__label {background-color: #d4ebff;}#sk-container-id-6 div.sk-label input.sk-toggleable__control:checked~label.sk-toggleable__label {background-color: #d4ebff;}#sk-container-id-6 input.sk-hidden--visually {border: 0;clip: rect(1px 1px 1px 1px);clip: rect(1px, 1px, 1px, 1px);height: 1px;margin: -1px;overflow: hidden;padding: 0;position: absolute;width: 1px;}#sk-container-id-6 div.sk-estimator {font-family: monospace;background-color: #f0f8ff;border: 1px dotted black;border-radius: 0.25em;box-sizing: border-box;margin-bottom: 0.5em;}#sk-container-id-6 div.sk-estimator:hover {background-color: #d4ebff;}#sk-container-id-6 div.sk-parallel-item::after {content: \"\";width: 100%;border-bottom: 1px solid gray;flex-grow: 1;}#sk-container-id-6 div.sk-label:hover label.sk-toggleable__label {background-color: #d4ebff;}#sk-container-id-6 div.sk-serial::before {content: \"\";position: absolute;border-left: 1px solid gray;box-sizing: border-box;top: 0;bottom: 0;left: 50%;z-index: 0;}#sk-container-id-6 div.sk-serial {display: flex;flex-direction: column;align-items: center;background-color: white;padding-right: 0.2em;padding-left: 0.2em;position: relative;}#sk-container-id-6 div.sk-item {position: relative;z-index: 1;}#sk-container-id-6 div.sk-parallel {display: flex;align-items: stretch;justify-content: center;background-color: white;position: relative;}#sk-container-id-6 div.sk-item::before, #sk-container-id-6 div.sk-parallel-item::before {content: \"\";position: absolute;border-left: 1px solid gray;box-sizing: border-box;top: 0;bottom: 0;left: 50%;z-index: -1;}#sk-container-id-6 div.sk-parallel-item {display: flex;flex-direction: column;z-index: 1;position: relative;background-color: white;}#sk-container-id-6 div.sk-parallel-item:first-child::after {align-self: flex-end;width: 50%;}#sk-container-id-6 div.sk-parallel-item:last-child::after {align-self: flex-start;width: 50%;}#sk-container-id-6 div.sk-parallel-item:only-child::after {width: 0;}#sk-container-id-6 div.sk-dashed-wrapped {border: 1px dashed gray;margin: 0 0.4em 0.5em 0.4em;box-sizing: border-box;padding-bottom: 0.4em;background-color: white;}#sk-container-id-6 div.sk-label label {font-family: monospace;font-weight: bold;display: inline-block;line-height: 1.2em;}#sk-container-id-6 div.sk-label-container {text-align: center;}#sk-container-id-6 div.sk-container {/* jupyter's `normalize.less` sets `[hidden] { display: none; }` but bootstrap.min.css set `[hidden] { display: none !important; }` so we also need the `!important` here to be able to override the default hidden behavior on the sphinx rendered scikit-learn.org. See: https://github.com/scikit-learn/scikit-learn/issues/21755 */display: inline-block !important;position: relative;}#sk-container-id-6 div.sk-text-repr-fallback {display: none;}</style><div id=\"sk-container-id-6\" class=\"sk-top-container\"><div class=\"sk-text-repr-fallback\"><pre>KNeighborsClassifier(n_neighbors=1)</pre><b>In a Jupyter environment, please rerun this cell to show the HTML representation or trust the notebook. <br />On GitHub, the HTML representation is unable to render, please try loading this page with nbviewer.org.</b></div><div class=\"sk-container\" hidden><div class=\"sk-item\"><div class=\"sk-estimator sk-toggleable\"><input class=\"sk-toggleable__control sk-hidden--visually\" id=\"sk-estimator-id-8\" type=\"checkbox\" checked><label for=\"sk-estimator-id-8\" class=\"sk-toggleable__label sk-toggleable__label-arrow\">KNeighborsClassifier</label><div class=\"sk-toggleable__content\"><pre>KNeighborsClassifier(n_neighbors=1)</pre></div></div></div></div></div>"
      ],
      "text/plain": [
       "KNeighborsClassifier(n_neighbors=1)"
      ]
     },
     "execution_count": 35,
     "metadata": {},
     "output_type": "execute_result"
    }
   ],
   "source": [
    "# Treinamento\n",
    "\n",
    "# Criamos o modelo versão 3\n",
    "model_v3 = KNeighborsClassifier(n_neighbors = optimal_k)\n",
    "\n",
    "# Treinamento\n",
    "model_v3.fit(X_train, y_train)"
   ]
  },
  {
   "cell_type": "code",
   "execution_count": 36,
   "id": "089990d4",
   "metadata": {},
   "outputs": [],
   "source": [
    "# Previsões com dados de teste\n",
    "\n",
    "# Previsões com dados de teste\n",
    "y_pred_v3 = model_v3.predict(X_test)\n",
    "\n",
    "# Obtemos as previsões no formato de probabilidade para cada classe\n",
    "y_pred_proba_v3 = model_v3.predict_proba(X_test)\n",
    "\n",
    "# Obtemos as previsões no formato de probabilidade filtrando para a classe positiva\n",
    "# Precisamos disso para calcula a Curva ROC\n",
    "y_pred_proba_v3 = model_v3.predict_proba(X_test)[:,1]"
   ]
  },
  {
   "cell_type": "code",
   "execution_count": 37,
   "id": "65e64a7f",
   "metadata": {},
   "outputs": [
    {
     "name": "stdout",
     "output_type": "stream",
     "text": [
      "[[1215  228]\n",
      " [ 149   75]] 0.5884086352836353 0.5884086352836353 0.7738452309538092\n"
     ]
    }
   ],
   "source": [
    "# Avaliação do modelo\n",
    "cm_v3, roc_auc_v3, auc_v3, accuracy_v3 = evaluate_classification_model(y_test, y_pred_v3, y_pred_proba_v3)\n",
    "print(cm_v3, roc_auc_v3, auc_v3, accuracy_v3)"
   ]
  },
  {
   "cell_type": "code",
   "execution_count": 38,
   "id": "a25a0247",
   "metadata": {},
   "outputs": [],
   "source": [
    "#Obs: Com o algoritmo KNN não extraímos as variáveis mais importantes, pois o conceito do algoritmo é diferente."
   ]
  },
  {
   "cell_type": "code",
   "execution_count": 39,
   "id": "717d553e",
   "metadata": {},
   "outputs": [],
   "source": [
    "# Salva o modelo em disco\n",
    "save_model('model_v3', model_v3)"
   ]
  },
  {
   "cell_type": "code",
   "execution_count": 40,
   "id": "3ee5186a",
   "metadata": {},
   "outputs": [
    {
     "data": {
      "text/html": [
       "<div>\n",
       "<style scoped>\n",
       "    .dataframe tbody tr th:only-of-type {\n",
       "        vertical-align: middle;\n",
       "    }\n",
       "\n",
       "    .dataframe tbody tr th {\n",
       "        vertical-align: top;\n",
       "    }\n",
       "\n",
       "    .dataframe thead th {\n",
       "        text-align: right;\n",
       "    }\n",
       "</style>\n",
       "<table border=\"1\" class=\"dataframe\">\n",
       "  <thead>\n",
       "    <tr style=\"text-align: right;\">\n",
       "      <th></th>\n",
       "      <th>Nome</th>\n",
       "      <th>Algoritmo</th>\n",
       "      <th>ROC_AUC Score</th>\n",
       "      <th>AUC Score</th>\n",
       "      <th>Acurácia</th>\n",
       "    </tr>\n",
       "  </thead>\n",
       "  <tbody>\n",
       "    <tr>\n",
       "      <th>0</th>\n",
       "      <td>modelo_v1</td>\n",
       "      <td>Regressão Logística</td>\n",
       "      <td>0.691338</td>\n",
       "      <td>0.751182</td>\n",
       "      <td>0.730054</td>\n",
       "    </tr>\n",
       "    <tr>\n",
       "      <th>0</th>\n",
       "      <td>modelo_v2</td>\n",
       "      <td>Random Forest</td>\n",
       "      <td>0.717728</td>\n",
       "      <td>0.794581</td>\n",
       "      <td>0.841032</td>\n",
       "    </tr>\n",
       "    <tr>\n",
       "      <th>0</th>\n",
       "      <td>modelo_v3</td>\n",
       "      <td>KNN</td>\n",
       "      <td>0.588409</td>\n",
       "      <td>0.588409</td>\n",
       "      <td>0.773845</td>\n",
       "    </tr>\n",
       "  </tbody>\n",
       "</table>\n",
       "</div>"
      ],
      "text/plain": [
       "        Nome            Algoritmo ROC_AUC Score AUC Score  Acurácia\n",
       "0  modelo_v1  Regressão Logística      0.691338  0.751182  0.730054\n",
       "0  modelo_v2        Random Forest      0.717728  0.794581  0.841032\n",
       "0  modelo_v3                  KNN      0.588409  0.588409  0.773845"
      ]
     },
     "metadata": {},
     "output_type": "display_data"
    }
   ],
   "source": [
    "# Dicionário com as métricas do modelo_v3\n",
    "dict_model_v3 = {'Nome': 'modelo_v3', \n",
    "                  'Algoritmo': 'KNN', \n",
    "                  'ROC_AUC Score': roc_auc_v3,\n",
    "                  'AUC Score': auc_v3,\n",
    "                  'Acurácia': accuracy_v3}\n",
    "\n",
    "# Adiciona o dict ao dataframe de consolidação das métricas\n",
    "dict_model_v3 = pd.DataFrame.from_dict(dict_model_v3, orient='index').T\n",
    "df_list = [df_models, dict_model_v3]\n",
    "df_models = pd.concat(df_list)\n",
    "\n",
    "display(df_models)"
   ]
  },
  {
   "cell_type": "markdown",
   "id": "c1686783",
   "metadata": {},
   "source": [
    "### Construção, Treinamento e Avaliação do Modelo 4 com Decision Tree\n",
    "#### _Construction, Training and Evaluation of Model 4 with Decision Tree_"
   ]
  },
  {
   "cell_type": "code",
   "execution_count": 41,
   "id": "e5923659",
   "metadata": {},
   "outputs": [],
   "source": [
    "#https://scikit-learn.org/stable/modules/generated/sklearn.tree.DecisionTreeClassifier.html"
   ]
  },
  {
   "cell_type": "code",
   "execution_count": 42,
   "id": "7a7f5b55",
   "metadata": {},
   "outputs": [],
   "source": [
    "# Função para seleção de hiperparâmetros com Decision Tree\n",
    "def decision_tree_param_selection(X_train, y_train):\n",
    "    \"\"\" Função para seleção de hiperparâmetros com Decision Tree. \"\"\"\n",
    "    max_features = sp_randint(1, 11)\n",
    "    criterion = ['entropy', 'gini', 'log_loss']\n",
    "    min_samples_split= [2, 3, 4, 5, 7]\n",
    "    min_samples_leaf= [1, 2, 3, 4, 6]\n",
    "    max_depth= [2, 3, 4, 5, 6, 7]\n",
    "    n_iter_search = 20\n",
    "    param_dist = {'max_features': max_features,\n",
    "                  'criterion': criterion,\n",
    "                  'min_samples_split':min_samples_split,\n",
    "                  'min_samples_leaf':min_samples_leaf,\n",
    "                  'max_depth':max_depth}\n",
    "    \n",
    "    rand_search = RandomizedSearchCV(DecisionTreeClassifier(),\n",
    "                                     param_distributions = param_dist,\n",
    "                                     n_iter = n_iter_search,\n",
    "                                     scoring = 'roc_auc',\n",
    "                                     n_jobs  = -1)\n",
    "    rand_search.fit(X_train, y_train)\n",
    "    rand_search.best_estimator_\n",
    "    return rand_search.best_estimator_"
   ]
  },
  {
   "cell_type": "code",
   "execution_count": 43,
   "id": "9664c232",
   "metadata": {},
   "outputs": [
    {
     "data": {
      "text/html": [
       "<style>#sk-container-id-7 {color: black;background-color: white;}#sk-container-id-7 pre{padding: 0;}#sk-container-id-7 div.sk-toggleable {background-color: white;}#sk-container-id-7 label.sk-toggleable__label {cursor: pointer;display: block;width: 100%;margin-bottom: 0;padding: 0.3em;box-sizing: border-box;text-align: center;}#sk-container-id-7 label.sk-toggleable__label-arrow:before {content: \"▸\";float: left;margin-right: 0.25em;color: #696969;}#sk-container-id-7 label.sk-toggleable__label-arrow:hover:before {color: black;}#sk-container-id-7 div.sk-estimator:hover label.sk-toggleable__label-arrow:before {color: black;}#sk-container-id-7 div.sk-toggleable__content {max-height: 0;max-width: 0;overflow: hidden;text-align: left;background-color: #f0f8ff;}#sk-container-id-7 div.sk-toggleable__content pre {margin: 0.2em;color: black;border-radius: 0.25em;background-color: #f0f8ff;}#sk-container-id-7 input.sk-toggleable__control:checked~div.sk-toggleable__content {max-height: 200px;max-width: 100%;overflow: auto;}#sk-container-id-7 input.sk-toggleable__control:checked~label.sk-toggleable__label-arrow:before {content: \"▾\";}#sk-container-id-7 div.sk-estimator input.sk-toggleable__control:checked~label.sk-toggleable__label {background-color: #d4ebff;}#sk-container-id-7 div.sk-label input.sk-toggleable__control:checked~label.sk-toggleable__label {background-color: #d4ebff;}#sk-container-id-7 input.sk-hidden--visually {border: 0;clip: rect(1px 1px 1px 1px);clip: rect(1px, 1px, 1px, 1px);height: 1px;margin: -1px;overflow: hidden;padding: 0;position: absolute;width: 1px;}#sk-container-id-7 div.sk-estimator {font-family: monospace;background-color: #f0f8ff;border: 1px dotted black;border-radius: 0.25em;box-sizing: border-box;margin-bottom: 0.5em;}#sk-container-id-7 div.sk-estimator:hover {background-color: #d4ebff;}#sk-container-id-7 div.sk-parallel-item::after {content: \"\";width: 100%;border-bottom: 1px solid gray;flex-grow: 1;}#sk-container-id-7 div.sk-label:hover label.sk-toggleable__label {background-color: #d4ebff;}#sk-container-id-7 div.sk-serial::before {content: \"\";position: absolute;border-left: 1px solid gray;box-sizing: border-box;top: 0;bottom: 0;left: 50%;z-index: 0;}#sk-container-id-7 div.sk-serial {display: flex;flex-direction: column;align-items: center;background-color: white;padding-right: 0.2em;padding-left: 0.2em;position: relative;}#sk-container-id-7 div.sk-item {position: relative;z-index: 1;}#sk-container-id-7 div.sk-parallel {display: flex;align-items: stretch;justify-content: center;background-color: white;position: relative;}#sk-container-id-7 div.sk-item::before, #sk-container-id-7 div.sk-parallel-item::before {content: \"\";position: absolute;border-left: 1px solid gray;box-sizing: border-box;top: 0;bottom: 0;left: 50%;z-index: -1;}#sk-container-id-7 div.sk-parallel-item {display: flex;flex-direction: column;z-index: 1;position: relative;background-color: white;}#sk-container-id-7 div.sk-parallel-item:first-child::after {align-self: flex-end;width: 50%;}#sk-container-id-7 div.sk-parallel-item:last-child::after {align-self: flex-start;width: 50%;}#sk-container-id-7 div.sk-parallel-item:only-child::after {width: 0;}#sk-container-id-7 div.sk-dashed-wrapped {border: 1px dashed gray;margin: 0 0.4em 0.5em 0.4em;box-sizing: border-box;padding-bottom: 0.4em;background-color: white;}#sk-container-id-7 div.sk-label label {font-family: monospace;font-weight: bold;display: inline-block;line-height: 1.2em;}#sk-container-id-7 div.sk-label-container {text-align: center;}#sk-container-id-7 div.sk-container {/* jupyter's `normalize.less` sets `[hidden] { display: none; }` but bootstrap.min.css set `[hidden] { display: none !important; }` so we also need the `!important` here to be able to override the default hidden behavior on the sphinx rendered scikit-learn.org. See: https://github.com/scikit-learn/scikit-learn/issues/21755 */display: inline-block !important;position: relative;}#sk-container-id-7 div.sk-text-repr-fallback {display: none;}</style><div id=\"sk-container-id-7\" class=\"sk-top-container\"><div class=\"sk-text-repr-fallback\"><pre>DecisionTreeClassifier(criterion=&#x27;log_loss&#x27;, max_depth=7, max_features=10,\n",
       "                       min_samples_leaf=3)</pre><b>In a Jupyter environment, please rerun this cell to show the HTML representation or trust the notebook. <br />On GitHub, the HTML representation is unable to render, please try loading this page with nbviewer.org.</b></div><div class=\"sk-container\" hidden><div class=\"sk-item\"><div class=\"sk-estimator sk-toggleable\"><input class=\"sk-toggleable__control sk-hidden--visually\" id=\"sk-estimator-id-9\" type=\"checkbox\" checked><label for=\"sk-estimator-id-9\" class=\"sk-toggleable__label sk-toggleable__label-arrow\">DecisionTreeClassifier</label><div class=\"sk-toggleable__content\"><pre>DecisionTreeClassifier(criterion=&#x27;log_loss&#x27;, max_depth=7, max_features=10,\n",
       "                       min_samples_leaf=3)</pre></div></div></div></div></div>"
      ],
      "text/plain": [
       "DecisionTreeClassifier(criterion='log_loss', max_depth=7, max_features=10,\n",
       "                       min_samples_leaf=3)"
      ]
     },
     "execution_count": 43,
     "metadata": {},
     "output_type": "execute_result"
    }
   ],
   "source": [
    "# Chama função para seleção de hiperparâmetros com Decision Tree\n",
    "decision_tree_param_selection(X_train,  y_train)\n"
   ]
  },
  {
   "cell_type": "code",
   "execution_count": 44,
   "id": "83f110a3",
   "metadata": {},
   "outputs": [
    {
     "data": {
      "text/html": [
       "<style>#sk-container-id-8 {color: black;background-color: white;}#sk-container-id-8 pre{padding: 0;}#sk-container-id-8 div.sk-toggleable {background-color: white;}#sk-container-id-8 label.sk-toggleable__label {cursor: pointer;display: block;width: 100%;margin-bottom: 0;padding: 0.3em;box-sizing: border-box;text-align: center;}#sk-container-id-8 label.sk-toggleable__label-arrow:before {content: \"▸\";float: left;margin-right: 0.25em;color: #696969;}#sk-container-id-8 label.sk-toggleable__label-arrow:hover:before {color: black;}#sk-container-id-8 div.sk-estimator:hover label.sk-toggleable__label-arrow:before {color: black;}#sk-container-id-8 div.sk-toggleable__content {max-height: 0;max-width: 0;overflow: hidden;text-align: left;background-color: #f0f8ff;}#sk-container-id-8 div.sk-toggleable__content pre {margin: 0.2em;color: black;border-radius: 0.25em;background-color: #f0f8ff;}#sk-container-id-8 input.sk-toggleable__control:checked~div.sk-toggleable__content {max-height: 200px;max-width: 100%;overflow: auto;}#sk-container-id-8 input.sk-toggleable__control:checked~label.sk-toggleable__label-arrow:before {content: \"▾\";}#sk-container-id-8 div.sk-estimator input.sk-toggleable__control:checked~label.sk-toggleable__label {background-color: #d4ebff;}#sk-container-id-8 div.sk-label input.sk-toggleable__control:checked~label.sk-toggleable__label {background-color: #d4ebff;}#sk-container-id-8 input.sk-hidden--visually {border: 0;clip: rect(1px 1px 1px 1px);clip: rect(1px, 1px, 1px, 1px);height: 1px;margin: -1px;overflow: hidden;padding: 0;position: absolute;width: 1px;}#sk-container-id-8 div.sk-estimator {font-family: monospace;background-color: #f0f8ff;border: 1px dotted black;border-radius: 0.25em;box-sizing: border-box;margin-bottom: 0.5em;}#sk-container-id-8 div.sk-estimator:hover {background-color: #d4ebff;}#sk-container-id-8 div.sk-parallel-item::after {content: \"\";width: 100%;border-bottom: 1px solid gray;flex-grow: 1;}#sk-container-id-8 div.sk-label:hover label.sk-toggleable__label {background-color: #d4ebff;}#sk-container-id-8 div.sk-serial::before {content: \"\";position: absolute;border-left: 1px solid gray;box-sizing: border-box;top: 0;bottom: 0;left: 50%;z-index: 0;}#sk-container-id-8 div.sk-serial {display: flex;flex-direction: column;align-items: center;background-color: white;padding-right: 0.2em;padding-left: 0.2em;position: relative;}#sk-container-id-8 div.sk-item {position: relative;z-index: 1;}#sk-container-id-8 div.sk-parallel {display: flex;align-items: stretch;justify-content: center;background-color: white;position: relative;}#sk-container-id-8 div.sk-item::before, #sk-container-id-8 div.sk-parallel-item::before {content: \"\";position: absolute;border-left: 1px solid gray;box-sizing: border-box;top: 0;bottom: 0;left: 50%;z-index: -1;}#sk-container-id-8 div.sk-parallel-item {display: flex;flex-direction: column;z-index: 1;position: relative;background-color: white;}#sk-container-id-8 div.sk-parallel-item:first-child::after {align-self: flex-end;width: 50%;}#sk-container-id-8 div.sk-parallel-item:last-child::after {align-self: flex-start;width: 50%;}#sk-container-id-8 div.sk-parallel-item:only-child::after {width: 0;}#sk-container-id-8 div.sk-dashed-wrapped {border: 1px dashed gray;margin: 0 0.4em 0.5em 0.4em;box-sizing: border-box;padding-bottom: 0.4em;background-color: white;}#sk-container-id-8 div.sk-label label {font-family: monospace;font-weight: bold;display: inline-block;line-height: 1.2em;}#sk-container-id-8 div.sk-label-container {text-align: center;}#sk-container-id-8 div.sk-container {/* jupyter's `normalize.less` sets `[hidden] { display: none; }` but bootstrap.min.css set `[hidden] { display: none !important; }` so we also need the `!important` here to be able to override the default hidden behavior on the sphinx rendered scikit-learn.org. See: https://github.com/scikit-learn/scikit-learn/issues/21755 */display: inline-block !important;position: relative;}#sk-container-id-8 div.sk-text-repr-fallback {display: none;}</style><div id=\"sk-container-id-8\" class=\"sk-top-container\"><div class=\"sk-text-repr-fallback\"><pre>DecisionTreeClassifier(criterion=&#x27;log_loss&#x27;, max_depth=6, max_features=9,\n",
       "                       min_samples_split=3)</pre><b>In a Jupyter environment, please rerun this cell to show the HTML representation or trust the notebook. <br />On GitHub, the HTML representation is unable to render, please try loading this page with nbviewer.org.</b></div><div class=\"sk-container\" hidden><div class=\"sk-item\"><div class=\"sk-estimator sk-toggleable\"><input class=\"sk-toggleable__control sk-hidden--visually\" id=\"sk-estimator-id-10\" type=\"checkbox\" checked><label for=\"sk-estimator-id-10\" class=\"sk-toggleable__label sk-toggleable__label-arrow\">DecisionTreeClassifier</label><div class=\"sk-toggleable__content\"><pre>DecisionTreeClassifier(criterion=&#x27;log_loss&#x27;, max_depth=6, max_features=9,\n",
       "                       min_samples_split=3)</pre></div></div></div></div></div>"
      ],
      "text/plain": [
       "DecisionTreeClassifier(criterion='log_loss', max_depth=6, max_features=9,\n",
       "                       min_samples_split=3)"
      ]
     },
     "execution_count": 44,
     "metadata": {},
     "output_type": "execute_result"
    }
   ],
   "source": [
    "# Treinamento\n",
    "\n",
    "# Criação do modelo com os melhores hiperparâmetros (versão final não deve ter o RandomizedSearchCV)\n",
    "#model_v4 = DecisionTreeClassifier(max_depth=4, min_samples_leaf=4, min_samples_split=7)\n",
    "model_v4 = DecisionTreeClassifier(criterion='log_loss', max_depth=6, max_features=9, min_samples_split=3)\n",
    "model_v4.fit(X_train, y_train)"
   ]
  },
  {
   "cell_type": "code",
   "execution_count": 45,
   "id": "58c6d1a2",
   "metadata": {},
   "outputs": [],
   "source": [
    "# Previsões em teste\n",
    "y_pred_v4 = model_v4.predict(X_test)\n",
    "\n",
    "# Obtém as previsões para a classe positiva\n",
    "y_pred_proba_v4 = model_v4.predict_proba(X_test)[:,1]"
   ]
  },
  {
   "cell_type": "code",
   "execution_count": 46,
   "id": "443218de",
   "metadata": {},
   "outputs": [
    {
     "name": "stdout",
     "output_type": "stream",
     "text": [
      "[[721 722]\n",
      " [ 46 178]] 0.6471481783981784 0.6878743441243442 0.5392921415716857\n"
     ]
    }
   ],
   "source": [
    "# Avaliação do modelo\n",
    "cm_v4, roc_auc_v4, auc_v4, accuracy_v4 = evaluate_classification_model(y_test, y_pred_v4, y_pred_proba_v4)\n",
    "print(cm_v4, roc_auc_v4, auc_v4, accuracy_v4)"
   ]
  },
  {
   "cell_type": "code",
   "execution_count": 47,
   "id": "50e4fcb5",
   "metadata": {},
   "outputs": [
    {
     "name": "stdout",
     "output_type": "stream",
     "text": [
      "Variáveis mais importantes para o resultado do modelo_v2:\n",
      "--------------------------------------------------\n",
      "international_plan\n",
      "total_day_minutes_5\n",
      "number_vmail_messages\n",
      "total_day_minutes_3\n",
      "voice_mail_plan\n",
      "total_intl_calls_1\n",
      "total_day_minutes_4\n",
      "total_eve_minutes_2\n",
      "total_eve_minutes_4\n",
      "total_day_minutes_2\n"
     ]
    }
   ],
   "source": [
    "# Feature Importance\n",
    "\n",
    "# Variáveis mais relevantes\n",
    "indices = np.argsort(-model_v2.feature_importances_)\n",
    "print(\"Variáveis mais importantes para o resultado do modelo_v2:\")\n",
    "print(50*'-')\n",
    "for feature in X_train.columns[indices][:10]:\n",
    "    print(feature)"
   ]
  },
  {
   "cell_type": "code",
   "execution_count": 48,
   "id": "e0f0d6ea",
   "metadata": {},
   "outputs": [],
   "source": [
    "# Salva o modelo em disco\n",
    "save_model('model_v4', model_v4)"
   ]
  },
  {
   "cell_type": "code",
   "execution_count": 49,
   "id": "396a34f3",
   "metadata": {},
   "outputs": [
    {
     "data": {
      "text/html": [
       "<div>\n",
       "<style scoped>\n",
       "    .dataframe tbody tr th:only-of-type {\n",
       "        vertical-align: middle;\n",
       "    }\n",
       "\n",
       "    .dataframe tbody tr th {\n",
       "        vertical-align: top;\n",
       "    }\n",
       "\n",
       "    .dataframe thead th {\n",
       "        text-align: right;\n",
       "    }\n",
       "</style>\n",
       "<table border=\"1\" class=\"dataframe\">\n",
       "  <thead>\n",
       "    <tr style=\"text-align: right;\">\n",
       "      <th></th>\n",
       "      <th>Nome</th>\n",
       "      <th>Algoritmo</th>\n",
       "      <th>ROC_AUC Score</th>\n",
       "      <th>AUC Score</th>\n",
       "      <th>Acurácia</th>\n",
       "    </tr>\n",
       "  </thead>\n",
       "  <tbody>\n",
       "    <tr>\n",
       "      <th>0</th>\n",
       "      <td>modelo_v1</td>\n",
       "      <td>Regressão Logística</td>\n",
       "      <td>0.691338</td>\n",
       "      <td>0.751182</td>\n",
       "      <td>0.730054</td>\n",
       "    </tr>\n",
       "    <tr>\n",
       "      <th>0</th>\n",
       "      <td>modelo_v2</td>\n",
       "      <td>Random Forest</td>\n",
       "      <td>0.717728</td>\n",
       "      <td>0.794581</td>\n",
       "      <td>0.841032</td>\n",
       "    </tr>\n",
       "    <tr>\n",
       "      <th>0</th>\n",
       "      <td>modelo_v3</td>\n",
       "      <td>KNN</td>\n",
       "      <td>0.588409</td>\n",
       "      <td>0.588409</td>\n",
       "      <td>0.773845</td>\n",
       "    </tr>\n",
       "    <tr>\n",
       "      <th>0</th>\n",
       "      <td>modelo_v4</td>\n",
       "      <td>Decision Tree</td>\n",
       "      <td>0.647148</td>\n",
       "      <td>0.687874</td>\n",
       "      <td>0.539292</td>\n",
       "    </tr>\n",
       "  </tbody>\n",
       "</table>\n",
       "</div>"
      ],
      "text/plain": [
       "        Nome            Algoritmo ROC_AUC Score AUC Score  Acurácia\n",
       "0  modelo_v1  Regressão Logística      0.691338  0.751182  0.730054\n",
       "0  modelo_v2        Random Forest      0.717728  0.794581  0.841032\n",
       "0  modelo_v3                  KNN      0.588409  0.588409  0.773845\n",
       "0  modelo_v4        Decision Tree      0.647148  0.687874  0.539292"
      ]
     },
     "metadata": {},
     "output_type": "display_data"
    }
   ],
   "source": [
    "# Dicionário com as métricas do modelo_v4\n",
    "dict_model_v4 = {'Nome': 'modelo_v4', \n",
    "                 'Algoritmo': 'Decision Tree', \n",
    "                 'ROC_AUC Score': roc_auc_v4,\n",
    "                 'AUC Score': auc_v4,\n",
    "                 'Acurácia': accuracy_v4}\n",
    "\n",
    "# Adiciona o dict ao dataframe de consolidação das métricas\n",
    "dict_model_v4 = pd.DataFrame.from_dict(dict_model_v4, orient='index').T\n",
    "df_list = [df_models, dict_model_v4]\n",
    "df_models = pd.concat(df_list)\n",
    "\n",
    "display(df_models)"
   ]
  },
  {
   "cell_type": "markdown",
   "id": "346057fe",
   "metadata": {},
   "source": [
    "### Construção, Treinamento e Avaliação do Modelo 5 com SVM\n",
    "#### _Construction, Training and Evaluation of Model 5 with SVM_"
   ]
  },
  {
   "cell_type": "code",
   "execution_count": 50,
   "id": "3a9a3d82",
   "metadata": {},
   "outputs": [],
   "source": [
    "#https://scikit-learn.org/stable/modules/svm.html"
   ]
  },
  {
   "cell_type": "code",
   "execution_count": 51,
   "id": "6af3c76c",
   "metadata": {},
   "outputs": [],
   "source": [
    "# Função para seleção de hiperparâmetros\n",
    "def svc_param_selection(X_train, y_train, nfolds):\n",
    "    Cs = [0.001, 0.01, 0.1, 1, 10]\n",
    "    gammas = [0.001, 0.01, 0.1, 1]\n",
    "    param_grid = {'C': Cs, 'gamma' : gammas}\n",
    "    grid_search = GridSearchCV(SVC(kernel = 'rbf'), param_grid, cv = nfolds)\n",
    "    grid_search.fit(X_train, y_train)\n",
    "    grid_search.best_params_\n",
    "    return grid_search.best_params_"
   ]
  },
  {
   "cell_type": "code",
   "execution_count": 52,
   "id": "15b96f9f",
   "metadata": {},
   "outputs": [
    {
     "data": {
      "text/plain": [
       "{'C': 10, 'gamma': 0.1}"
      ]
     },
     "execution_count": 52,
     "metadata": {},
     "output_type": "execute_result"
    }
   ],
   "source": [
    "# Aplica a função\n",
    "svc_param_selection(X_train, y_train, 5)"
   ]
  },
  {
   "cell_type": "code",
   "execution_count": 53,
   "id": "c98c2083",
   "metadata": {},
   "outputs": [
    {
     "data": {
      "text/html": [
       "<style>#sk-container-id-9 {color: black;background-color: white;}#sk-container-id-9 pre{padding: 0;}#sk-container-id-9 div.sk-toggleable {background-color: white;}#sk-container-id-9 label.sk-toggleable__label {cursor: pointer;display: block;width: 100%;margin-bottom: 0;padding: 0.3em;box-sizing: border-box;text-align: center;}#sk-container-id-9 label.sk-toggleable__label-arrow:before {content: \"▸\";float: left;margin-right: 0.25em;color: #696969;}#sk-container-id-9 label.sk-toggleable__label-arrow:hover:before {color: black;}#sk-container-id-9 div.sk-estimator:hover label.sk-toggleable__label-arrow:before {color: black;}#sk-container-id-9 div.sk-toggleable__content {max-height: 0;max-width: 0;overflow: hidden;text-align: left;background-color: #f0f8ff;}#sk-container-id-9 div.sk-toggleable__content pre {margin: 0.2em;color: black;border-radius: 0.25em;background-color: #f0f8ff;}#sk-container-id-9 input.sk-toggleable__control:checked~div.sk-toggleable__content {max-height: 200px;max-width: 100%;overflow: auto;}#sk-container-id-9 input.sk-toggleable__control:checked~label.sk-toggleable__label-arrow:before {content: \"▾\";}#sk-container-id-9 div.sk-estimator input.sk-toggleable__control:checked~label.sk-toggleable__label {background-color: #d4ebff;}#sk-container-id-9 div.sk-label input.sk-toggleable__control:checked~label.sk-toggleable__label {background-color: #d4ebff;}#sk-container-id-9 input.sk-hidden--visually {border: 0;clip: rect(1px 1px 1px 1px);clip: rect(1px, 1px, 1px, 1px);height: 1px;margin: -1px;overflow: hidden;padding: 0;position: absolute;width: 1px;}#sk-container-id-9 div.sk-estimator {font-family: monospace;background-color: #f0f8ff;border: 1px dotted black;border-radius: 0.25em;box-sizing: border-box;margin-bottom: 0.5em;}#sk-container-id-9 div.sk-estimator:hover {background-color: #d4ebff;}#sk-container-id-9 div.sk-parallel-item::after {content: \"\";width: 100%;border-bottom: 1px solid gray;flex-grow: 1;}#sk-container-id-9 div.sk-label:hover label.sk-toggleable__label {background-color: #d4ebff;}#sk-container-id-9 div.sk-serial::before {content: \"\";position: absolute;border-left: 1px solid gray;box-sizing: border-box;top: 0;bottom: 0;left: 50%;z-index: 0;}#sk-container-id-9 div.sk-serial {display: flex;flex-direction: column;align-items: center;background-color: white;padding-right: 0.2em;padding-left: 0.2em;position: relative;}#sk-container-id-9 div.sk-item {position: relative;z-index: 1;}#sk-container-id-9 div.sk-parallel {display: flex;align-items: stretch;justify-content: center;background-color: white;position: relative;}#sk-container-id-9 div.sk-item::before, #sk-container-id-9 div.sk-parallel-item::before {content: \"\";position: absolute;border-left: 1px solid gray;box-sizing: border-box;top: 0;bottom: 0;left: 50%;z-index: -1;}#sk-container-id-9 div.sk-parallel-item {display: flex;flex-direction: column;z-index: 1;position: relative;background-color: white;}#sk-container-id-9 div.sk-parallel-item:first-child::after {align-self: flex-end;width: 50%;}#sk-container-id-9 div.sk-parallel-item:last-child::after {align-self: flex-start;width: 50%;}#sk-container-id-9 div.sk-parallel-item:only-child::after {width: 0;}#sk-container-id-9 div.sk-dashed-wrapped {border: 1px dashed gray;margin: 0 0.4em 0.5em 0.4em;box-sizing: border-box;padding-bottom: 0.4em;background-color: white;}#sk-container-id-9 div.sk-label label {font-family: monospace;font-weight: bold;display: inline-block;line-height: 1.2em;}#sk-container-id-9 div.sk-label-container {text-align: center;}#sk-container-id-9 div.sk-container {/* jupyter's `normalize.less` sets `[hidden] { display: none; }` but bootstrap.min.css set `[hidden] { display: none !important; }` so we also need the `!important` here to be able to override the default hidden behavior on the sphinx rendered scikit-learn.org. See: https://github.com/scikit-learn/scikit-learn/issues/21755 */display: inline-block !important;position: relative;}#sk-container-id-9 div.sk-text-repr-fallback {display: none;}</style><div id=\"sk-container-id-9\" class=\"sk-top-container\"><div class=\"sk-text-repr-fallback\"><pre>SVC(C=10, gamma=0.1, probability=True)</pre><b>In a Jupyter environment, please rerun this cell to show the HTML representation or trust the notebook. <br />On GitHub, the HTML representation is unable to render, please try loading this page with nbviewer.org.</b></div><div class=\"sk-container\" hidden><div class=\"sk-item\"><div class=\"sk-estimator sk-toggleable\"><input class=\"sk-toggleable__control sk-hidden--visually\" id=\"sk-estimator-id-11\" type=\"checkbox\" checked><label for=\"sk-estimator-id-11\" class=\"sk-toggleable__label sk-toggleable__label-arrow\">SVC</label><div class=\"sk-toggleable__content\"><pre>SVC(C=10, gamma=0.1, probability=True)</pre></div></div></div></div></div>"
      ],
      "text/plain": [
       "SVC(C=10, gamma=0.1, probability=True)"
      ]
     },
     "execution_count": 53,
     "metadata": {},
     "output_type": "execute_result"
    }
   ],
   "source": [
    "# Treinamento\n",
    "\n",
    "# Criação do modelo com os melhores hiperparâmetros (versão final não deve ter o GridSearchCV)\n",
    "# model_v5 = SVC(C = 10, gamma = 0.1, probability = True)\n",
    "model_v5 = SVC(C = 10, gamma = 0.1, probability = True)\n",
    "model_v5.fit(X_train, y_train)"
   ]
  },
  {
   "cell_type": "code",
   "execution_count": 54,
   "id": "9a2b31e0",
   "metadata": {},
   "outputs": [],
   "source": [
    "# Previsões em teste\n",
    "y_pred_v5 = model_v5.predict(X_test)\n",
    "\n",
    "# Obtém as previsões para a classe positiva\n",
    "y_pred_proba_v5 = model_v5.predict_proba(X_test)[:,1]"
   ]
  },
  {
   "cell_type": "code",
   "execution_count": 55,
   "id": "194115a5",
   "metadata": {},
   "outputs": [
    {
     "name": "stdout",
     "output_type": "stream",
     "text": [
      "[[1298  145]\n",
      " [ 143   81]] 0.6305610211860211 0.7075196762696763 0.8272345530893821\n"
     ]
    }
   ],
   "source": [
    "# Avaliação do modelo\n",
    "cm_v5, roc_auc_v5, auc_v5, accuracy_v5 = evaluate_classification_model(y_test, y_pred_v5, y_pred_proba_v5)\n",
    "print(cm_v5, roc_auc_v5, auc_v5, accuracy_v5)"
   ]
  },
  {
   "cell_type": "code",
   "execution_count": 56,
   "id": "2dcd3d49",
   "metadata": {},
   "outputs": [],
   "source": [
    "# Salva o modelo em disco\n",
    "save_model('model_v5', model_v5)"
   ]
  },
  {
   "cell_type": "code",
   "execution_count": 57,
   "id": "fa8a66b5",
   "metadata": {},
   "outputs": [
    {
     "data": {
      "text/html": [
       "<div>\n",
       "<style scoped>\n",
       "    .dataframe tbody tr th:only-of-type {\n",
       "        vertical-align: middle;\n",
       "    }\n",
       "\n",
       "    .dataframe tbody tr th {\n",
       "        vertical-align: top;\n",
       "    }\n",
       "\n",
       "    .dataframe thead th {\n",
       "        text-align: right;\n",
       "    }\n",
       "</style>\n",
       "<table border=\"1\" class=\"dataframe\">\n",
       "  <thead>\n",
       "    <tr style=\"text-align: right;\">\n",
       "      <th></th>\n",
       "      <th>Nome</th>\n",
       "      <th>Algoritmo</th>\n",
       "      <th>ROC_AUC Score</th>\n",
       "      <th>AUC Score</th>\n",
       "      <th>Acurácia</th>\n",
       "    </tr>\n",
       "  </thead>\n",
       "  <tbody>\n",
       "    <tr>\n",
       "      <th>0</th>\n",
       "      <td>modelo_v1</td>\n",
       "      <td>Regressão Logística</td>\n",
       "      <td>0.691338</td>\n",
       "      <td>0.751182</td>\n",
       "      <td>0.730054</td>\n",
       "    </tr>\n",
       "    <tr>\n",
       "      <th>0</th>\n",
       "      <td>modelo_v2</td>\n",
       "      <td>Random Forest</td>\n",
       "      <td>0.717728</td>\n",
       "      <td>0.794581</td>\n",
       "      <td>0.841032</td>\n",
       "    </tr>\n",
       "    <tr>\n",
       "      <th>0</th>\n",
       "      <td>modelo_v3</td>\n",
       "      <td>KNN</td>\n",
       "      <td>0.588409</td>\n",
       "      <td>0.588409</td>\n",
       "      <td>0.773845</td>\n",
       "    </tr>\n",
       "    <tr>\n",
       "      <th>0</th>\n",
       "      <td>modelo_v4</td>\n",
       "      <td>Decision Tree</td>\n",
       "      <td>0.647148</td>\n",
       "      <td>0.687874</td>\n",
       "      <td>0.539292</td>\n",
       "    </tr>\n",
       "    <tr>\n",
       "      <th>0</th>\n",
       "      <td>modelo_v5</td>\n",
       "      <td>SVM</td>\n",
       "      <td>0.630561</td>\n",
       "      <td>0.70752</td>\n",
       "      <td>0.827235</td>\n",
       "    </tr>\n",
       "  </tbody>\n",
       "</table>\n",
       "</div>"
      ],
      "text/plain": [
       "        Nome            Algoritmo ROC_AUC Score AUC Score  Acurácia\n",
       "0  modelo_v1  Regressão Logística      0.691338  0.751182  0.730054\n",
       "0  modelo_v2        Random Forest      0.717728  0.794581  0.841032\n",
       "0  modelo_v3                  KNN      0.588409  0.588409  0.773845\n",
       "0  modelo_v4        Decision Tree      0.647148  0.687874  0.539292\n",
       "0  modelo_v5                  SVM      0.630561   0.70752  0.827235"
      ]
     },
     "metadata": {},
     "output_type": "display_data"
    }
   ],
   "source": [
    "# Dicionário com as métricas do modelo_v5\n",
    "dict_model_v5 = {'Nome': 'modelo_v5', \n",
    "                 'Algoritmo': 'SVM', \n",
    "                 'ROC_AUC Score': roc_auc_v5,\n",
    "                 'AUC Score': auc_v5,\n",
    "                 'Acurácia': accuracy_v5}\n",
    "\n",
    "# Adiciona o dict ao dataframe de consolidação das métricas\n",
    "dict_model_v5 = pd.DataFrame.from_dict(dict_model_v5, orient='index').T\n",
    "df_list = [df_models, dict_model_v5]\n",
    "df_models = pd.concat(df_list)\n",
    "\n",
    "display(df_models)"
   ]
  },
  {
   "cell_type": "markdown",
   "id": "20071217",
   "metadata": {},
   "source": [
    "### Construção, Treinamento e Avaliação do Modelo 6 com Gradient Boosting Classifier\n",
    "#### _Construction, Training and Evaluation of Model 6 with Gradient Boosting Classifier_"
   ]
  },
  {
   "cell_type": "code",
   "execution_count": 58,
   "id": "147c57fd",
   "metadata": {},
   "outputs": [],
   "source": [
    "# Função para seleção de hiperparâmetros com Gradient Boosting\n",
    "\n",
    "def gradient_boosting_param_selection(X_train, y_train):\n",
    "    \"\"\" Função para seleção de hiperparâmetros com Gradient Boosting Classifier. \"\"\"\n",
    "    learning_rate = [0.0001, 0.001, 0.01, 0.1, 1, 10]\n",
    "    n_estimators = [50, 100, 150, 200, 300, 400, 500, 600]\n",
    "    criterion = ['friedman_mse', 'squared_error', 'squared_error']\n",
    "    min_samples_split= [2, 3, 4, 5, 7]\n",
    "    min_samples_leaf= [1, 2, 3, 4, 6]\n",
    "    max_depth= [2, 3, 4, 5, 6, 7]\n",
    "    n_iter_search = 20\n",
    "    param_dist = {'learning_rate': learning_rate,\n",
    "                  'n_estimators': n_estimators,\n",
    "                  'criterion': criterion,\n",
    "                  'min_samples_split':min_samples_split,\n",
    "                  'min_samples_leaf':min_samples_leaf,\n",
    "                  'max_depth':max_depth}\n",
    "    \n",
    "    rand_search = RandomizedSearchCV(GradientBoostingClassifier(),\n",
    "                                     param_distributions = param_dist,\n",
    "                                     n_iter = n_iter_search,\n",
    "                                     scoring = 'roc_auc',\n",
    "                                     n_jobs  = -1)\n",
    "    rand_search.fit(X_train, y_train)\n",
    "    rand_search.best_estimator_\n",
    "    return rand_search.best_estimator_"
   ]
  },
  {
   "cell_type": "code",
   "execution_count": 59,
   "id": "4c44224e",
   "metadata": {},
   "outputs": [
    {
     "data": {
      "text/html": [
       "<style>#sk-container-id-10 {color: black;background-color: white;}#sk-container-id-10 pre{padding: 0;}#sk-container-id-10 div.sk-toggleable {background-color: white;}#sk-container-id-10 label.sk-toggleable__label {cursor: pointer;display: block;width: 100%;margin-bottom: 0;padding: 0.3em;box-sizing: border-box;text-align: center;}#sk-container-id-10 label.sk-toggleable__label-arrow:before {content: \"▸\";float: left;margin-right: 0.25em;color: #696969;}#sk-container-id-10 label.sk-toggleable__label-arrow:hover:before {color: black;}#sk-container-id-10 div.sk-estimator:hover label.sk-toggleable__label-arrow:before {color: black;}#sk-container-id-10 div.sk-toggleable__content {max-height: 0;max-width: 0;overflow: hidden;text-align: left;background-color: #f0f8ff;}#sk-container-id-10 div.sk-toggleable__content pre {margin: 0.2em;color: black;border-radius: 0.25em;background-color: #f0f8ff;}#sk-container-id-10 input.sk-toggleable__control:checked~div.sk-toggleable__content {max-height: 200px;max-width: 100%;overflow: auto;}#sk-container-id-10 input.sk-toggleable__control:checked~label.sk-toggleable__label-arrow:before {content: \"▾\";}#sk-container-id-10 div.sk-estimator input.sk-toggleable__control:checked~label.sk-toggleable__label {background-color: #d4ebff;}#sk-container-id-10 div.sk-label input.sk-toggleable__control:checked~label.sk-toggleable__label {background-color: #d4ebff;}#sk-container-id-10 input.sk-hidden--visually {border: 0;clip: rect(1px 1px 1px 1px);clip: rect(1px, 1px, 1px, 1px);height: 1px;margin: -1px;overflow: hidden;padding: 0;position: absolute;width: 1px;}#sk-container-id-10 div.sk-estimator {font-family: monospace;background-color: #f0f8ff;border: 1px dotted black;border-radius: 0.25em;box-sizing: border-box;margin-bottom: 0.5em;}#sk-container-id-10 div.sk-estimator:hover {background-color: #d4ebff;}#sk-container-id-10 div.sk-parallel-item::after {content: \"\";width: 100%;border-bottom: 1px solid gray;flex-grow: 1;}#sk-container-id-10 div.sk-label:hover label.sk-toggleable__label {background-color: #d4ebff;}#sk-container-id-10 div.sk-serial::before {content: \"\";position: absolute;border-left: 1px solid gray;box-sizing: border-box;top: 0;bottom: 0;left: 50%;z-index: 0;}#sk-container-id-10 div.sk-serial {display: flex;flex-direction: column;align-items: center;background-color: white;padding-right: 0.2em;padding-left: 0.2em;position: relative;}#sk-container-id-10 div.sk-item {position: relative;z-index: 1;}#sk-container-id-10 div.sk-parallel {display: flex;align-items: stretch;justify-content: center;background-color: white;position: relative;}#sk-container-id-10 div.sk-item::before, #sk-container-id-10 div.sk-parallel-item::before {content: \"\";position: absolute;border-left: 1px solid gray;box-sizing: border-box;top: 0;bottom: 0;left: 50%;z-index: -1;}#sk-container-id-10 div.sk-parallel-item {display: flex;flex-direction: column;z-index: 1;position: relative;background-color: white;}#sk-container-id-10 div.sk-parallel-item:first-child::after {align-self: flex-end;width: 50%;}#sk-container-id-10 div.sk-parallel-item:last-child::after {align-self: flex-start;width: 50%;}#sk-container-id-10 div.sk-parallel-item:only-child::after {width: 0;}#sk-container-id-10 div.sk-dashed-wrapped {border: 1px dashed gray;margin: 0 0.4em 0.5em 0.4em;box-sizing: border-box;padding-bottom: 0.4em;background-color: white;}#sk-container-id-10 div.sk-label label {font-family: monospace;font-weight: bold;display: inline-block;line-height: 1.2em;}#sk-container-id-10 div.sk-label-container {text-align: center;}#sk-container-id-10 div.sk-container {/* jupyter's `normalize.less` sets `[hidden] { display: none; }` but bootstrap.min.css set `[hidden] { display: none !important; }` so we also need the `!important` here to be able to override the default hidden behavior on the sphinx rendered scikit-learn.org. See: https://github.com/scikit-learn/scikit-learn/issues/21755 */display: inline-block !important;position: relative;}#sk-container-id-10 div.sk-text-repr-fallback {display: none;}</style><div id=\"sk-container-id-10\" class=\"sk-top-container\"><div class=\"sk-text-repr-fallback\"><pre>GradientBoostingClassifier(max_depth=7, min_samples_leaf=4, min_samples_split=5,\n",
       "                           n_estimators=400)</pre><b>In a Jupyter environment, please rerun this cell to show the HTML representation or trust the notebook. <br />On GitHub, the HTML representation is unable to render, please try loading this page with nbviewer.org.</b></div><div class=\"sk-container\" hidden><div class=\"sk-item\"><div class=\"sk-estimator sk-toggleable\"><input class=\"sk-toggleable__control sk-hidden--visually\" id=\"sk-estimator-id-12\" type=\"checkbox\" checked><label for=\"sk-estimator-id-12\" class=\"sk-toggleable__label sk-toggleable__label-arrow\">GradientBoostingClassifier</label><div class=\"sk-toggleable__content\"><pre>GradientBoostingClassifier(max_depth=7, min_samples_leaf=4, min_samples_split=5,\n",
       "                           n_estimators=400)</pre></div></div></div></div></div>"
      ],
      "text/plain": [
       "GradientBoostingClassifier(max_depth=7, min_samples_leaf=4, min_samples_split=5,\n",
       "                           n_estimators=400)"
      ]
     },
     "execution_count": 59,
     "metadata": {},
     "output_type": "execute_result"
    }
   ],
   "source": [
    "# Aplica a função\n",
    "gradient_boosting_param_selection(X_train, y_train)"
   ]
  },
  {
   "cell_type": "code",
   "execution_count": 60,
   "id": "13d804b5",
   "metadata": {},
   "outputs": [
    {
     "data": {
      "text/html": [
       "<style>#sk-container-id-11 {color: black;background-color: white;}#sk-container-id-11 pre{padding: 0;}#sk-container-id-11 div.sk-toggleable {background-color: white;}#sk-container-id-11 label.sk-toggleable__label {cursor: pointer;display: block;width: 100%;margin-bottom: 0;padding: 0.3em;box-sizing: border-box;text-align: center;}#sk-container-id-11 label.sk-toggleable__label-arrow:before {content: \"▸\";float: left;margin-right: 0.25em;color: #696969;}#sk-container-id-11 label.sk-toggleable__label-arrow:hover:before {color: black;}#sk-container-id-11 div.sk-estimator:hover label.sk-toggleable__label-arrow:before {color: black;}#sk-container-id-11 div.sk-toggleable__content {max-height: 0;max-width: 0;overflow: hidden;text-align: left;background-color: #f0f8ff;}#sk-container-id-11 div.sk-toggleable__content pre {margin: 0.2em;color: black;border-radius: 0.25em;background-color: #f0f8ff;}#sk-container-id-11 input.sk-toggleable__control:checked~div.sk-toggleable__content {max-height: 200px;max-width: 100%;overflow: auto;}#sk-container-id-11 input.sk-toggleable__control:checked~label.sk-toggleable__label-arrow:before {content: \"▾\";}#sk-container-id-11 div.sk-estimator input.sk-toggleable__control:checked~label.sk-toggleable__label {background-color: #d4ebff;}#sk-container-id-11 div.sk-label input.sk-toggleable__control:checked~label.sk-toggleable__label {background-color: #d4ebff;}#sk-container-id-11 input.sk-hidden--visually {border: 0;clip: rect(1px 1px 1px 1px);clip: rect(1px, 1px, 1px, 1px);height: 1px;margin: -1px;overflow: hidden;padding: 0;position: absolute;width: 1px;}#sk-container-id-11 div.sk-estimator {font-family: monospace;background-color: #f0f8ff;border: 1px dotted black;border-radius: 0.25em;box-sizing: border-box;margin-bottom: 0.5em;}#sk-container-id-11 div.sk-estimator:hover {background-color: #d4ebff;}#sk-container-id-11 div.sk-parallel-item::after {content: \"\";width: 100%;border-bottom: 1px solid gray;flex-grow: 1;}#sk-container-id-11 div.sk-label:hover label.sk-toggleable__label {background-color: #d4ebff;}#sk-container-id-11 div.sk-serial::before {content: \"\";position: absolute;border-left: 1px solid gray;box-sizing: border-box;top: 0;bottom: 0;left: 50%;z-index: 0;}#sk-container-id-11 div.sk-serial {display: flex;flex-direction: column;align-items: center;background-color: white;padding-right: 0.2em;padding-left: 0.2em;position: relative;}#sk-container-id-11 div.sk-item {position: relative;z-index: 1;}#sk-container-id-11 div.sk-parallel {display: flex;align-items: stretch;justify-content: center;background-color: white;position: relative;}#sk-container-id-11 div.sk-item::before, #sk-container-id-11 div.sk-parallel-item::before {content: \"\";position: absolute;border-left: 1px solid gray;box-sizing: border-box;top: 0;bottom: 0;left: 50%;z-index: -1;}#sk-container-id-11 div.sk-parallel-item {display: flex;flex-direction: column;z-index: 1;position: relative;background-color: white;}#sk-container-id-11 div.sk-parallel-item:first-child::after {align-self: flex-end;width: 50%;}#sk-container-id-11 div.sk-parallel-item:last-child::after {align-self: flex-start;width: 50%;}#sk-container-id-11 div.sk-parallel-item:only-child::after {width: 0;}#sk-container-id-11 div.sk-dashed-wrapped {border: 1px dashed gray;margin: 0 0.4em 0.5em 0.4em;box-sizing: border-box;padding-bottom: 0.4em;background-color: white;}#sk-container-id-11 div.sk-label label {font-family: monospace;font-weight: bold;display: inline-block;line-height: 1.2em;}#sk-container-id-11 div.sk-label-container {text-align: center;}#sk-container-id-11 div.sk-container {/* jupyter's `normalize.less` sets `[hidden] { display: none; }` but bootstrap.min.css set `[hidden] { display: none !important; }` so we also need the `!important` here to be able to override the default hidden behavior on the sphinx rendered scikit-learn.org. See: https://github.com/scikit-learn/scikit-learn/issues/21755 */display: inline-block !important;position: relative;}#sk-container-id-11 div.sk-text-repr-fallback {display: none;}</style><div id=\"sk-container-id-11\" class=\"sk-top-container\"><div class=\"sk-text-repr-fallback\"><pre>GradientBoostingClassifier(max_depth=7, min_samples_leaf=4, min_samples_split=5,\n",
       "                           n_estimators=400)</pre><b>In a Jupyter environment, please rerun this cell to show the HTML representation or trust the notebook. <br />On GitHub, the HTML representation is unable to render, please try loading this page with nbviewer.org.</b></div><div class=\"sk-container\" hidden><div class=\"sk-item\"><div class=\"sk-estimator sk-toggleable\"><input class=\"sk-toggleable__control sk-hidden--visually\" id=\"sk-estimator-id-13\" type=\"checkbox\" checked><label for=\"sk-estimator-id-13\" class=\"sk-toggleable__label sk-toggleable__label-arrow\">GradientBoostingClassifier</label><div class=\"sk-toggleable__content\"><pre>GradientBoostingClassifier(max_depth=7, min_samples_leaf=4, min_samples_split=5,\n",
       "                           n_estimators=400)</pre></div></div></div></div></div>"
      ],
      "text/plain": [
       "GradientBoostingClassifier(max_depth=7, min_samples_leaf=4, min_samples_split=5,\n",
       "                           n_estimators=400)"
      ]
     },
     "execution_count": 60,
     "metadata": {},
     "output_type": "execute_result"
    }
   ],
   "source": [
    "# Treinamento\n",
    "\n",
    "# Criação do modelo com os melhores hiperparâmetros\n",
    "model_v6 = GradientBoostingClassifier(max_depth=7, min_samples_leaf=4, min_samples_split=5, n_estimators=400)\n",
    "model_v6.fit(X_train, y_train)"
   ]
  },
  {
   "cell_type": "code",
   "execution_count": 61,
   "id": "bd041847",
   "metadata": {},
   "outputs": [],
   "source": [
    "# Previsões em teste\n",
    "y_pred_v6 = model_v6.predict(X_test)\n",
    "\n",
    "# Obtém as previsões para a classe positiva\n",
    "y_pred_proba_v6 = model_v6.predict_proba(X_test)[:,1]"
   ]
  },
  {
   "cell_type": "code",
   "execution_count": 62,
   "id": "dab40184",
   "metadata": {},
   "outputs": [
    {
     "name": "stdout",
     "output_type": "stream",
     "text": [
      "[[1261  182]\n",
      " [ 127   97]] 0.653454794079794 0.730651668151668 0.8146370725854829\n"
     ]
    }
   ],
   "source": [
    "# Avaliação do modelo\n",
    "cm_v6, roc_auc_v6, auc_v6, accuracy_v6 = evaluate_classification_model(y_test, y_pred_v6, y_pred_proba_v6)\n",
    "print(cm_v6, roc_auc_v6, auc_v6, accuracy_v6)"
   ]
  },
  {
   "cell_type": "code",
   "execution_count": 63,
   "id": "21060927",
   "metadata": {},
   "outputs": [],
   "source": [
    "# Salva o modelo em disco\n",
    "save_model('model_v6', model_v6)"
   ]
  },
  {
   "cell_type": "code",
   "execution_count": 64,
   "id": "34fec5fa",
   "metadata": {},
   "outputs": [
    {
     "data": {
      "text/html": [
       "<div>\n",
       "<style scoped>\n",
       "    .dataframe tbody tr th:only-of-type {\n",
       "        vertical-align: middle;\n",
       "    }\n",
       "\n",
       "    .dataframe tbody tr th {\n",
       "        vertical-align: top;\n",
       "    }\n",
       "\n",
       "    .dataframe thead th {\n",
       "        text-align: right;\n",
       "    }\n",
       "</style>\n",
       "<table border=\"1\" class=\"dataframe\">\n",
       "  <thead>\n",
       "    <tr style=\"text-align: right;\">\n",
       "      <th></th>\n",
       "      <th>Nome</th>\n",
       "      <th>Algoritmo</th>\n",
       "      <th>ROC_AUC Score</th>\n",
       "      <th>AUC Score</th>\n",
       "      <th>Acurácia</th>\n",
       "    </tr>\n",
       "  </thead>\n",
       "  <tbody>\n",
       "    <tr>\n",
       "      <th>0</th>\n",
       "      <td>modelo_v1</td>\n",
       "      <td>Regressão Logística</td>\n",
       "      <td>0.691338</td>\n",
       "      <td>0.751182</td>\n",
       "      <td>0.730054</td>\n",
       "    </tr>\n",
       "    <tr>\n",
       "      <th>0</th>\n",
       "      <td>modelo_v2</td>\n",
       "      <td>Random Forest</td>\n",
       "      <td>0.717728</td>\n",
       "      <td>0.794581</td>\n",
       "      <td>0.841032</td>\n",
       "    </tr>\n",
       "    <tr>\n",
       "      <th>0</th>\n",
       "      <td>modelo_v3</td>\n",
       "      <td>KNN</td>\n",
       "      <td>0.588409</td>\n",
       "      <td>0.588409</td>\n",
       "      <td>0.773845</td>\n",
       "    </tr>\n",
       "    <tr>\n",
       "      <th>0</th>\n",
       "      <td>modelo_v4</td>\n",
       "      <td>Decision Tree</td>\n",
       "      <td>0.647148</td>\n",
       "      <td>0.687874</td>\n",
       "      <td>0.539292</td>\n",
       "    </tr>\n",
       "    <tr>\n",
       "      <th>0</th>\n",
       "      <td>modelo_v5</td>\n",
       "      <td>SVM</td>\n",
       "      <td>0.630561</td>\n",
       "      <td>0.70752</td>\n",
       "      <td>0.827235</td>\n",
       "    </tr>\n",
       "    <tr>\n",
       "      <th>0</th>\n",
       "      <td>modelo_v6</td>\n",
       "      <td>Gradient Boosting</td>\n",
       "      <td>0.653455</td>\n",
       "      <td>0.730652</td>\n",
       "      <td>0.814637</td>\n",
       "    </tr>\n",
       "  </tbody>\n",
       "</table>\n",
       "</div>"
      ],
      "text/plain": [
       "        Nome            Algoritmo ROC_AUC Score AUC Score  Acurácia\n",
       "0  modelo_v1  Regressão Logística      0.691338  0.751182  0.730054\n",
       "0  modelo_v2        Random Forest      0.717728  0.794581  0.841032\n",
       "0  modelo_v3                  KNN      0.588409  0.588409  0.773845\n",
       "0  modelo_v4        Decision Tree      0.647148  0.687874  0.539292\n",
       "0  modelo_v5                  SVM      0.630561   0.70752  0.827235\n",
       "0  modelo_v6    Gradient Boosting      0.653455  0.730652  0.814637"
      ]
     },
     "metadata": {},
     "output_type": "display_data"
    }
   ],
   "source": [
    "# Dicionário com as métricas do modelo_v6\n",
    "dict_model_v6 = {'Nome': 'modelo_v6', \n",
    "                 'Algoritmo': 'Gradient Boosting', \n",
    "                 'ROC_AUC Score': roc_auc_v6,\n",
    "                 'AUC Score': auc_v6,\n",
    "                 'Acurácia': accuracy_v6}\n",
    "\n",
    "# Adiciona o dict ao dataframe de consolidação das métricas\n",
    "dict_model_v6 = pd.DataFrame.from_dict(dict_model_v6, orient='index').T\n",
    "df_list = [df_models, dict_model_v6]\n",
    "df_models = pd.concat(df_list)\n",
    "\n",
    "display(df_models)"
   ]
  },
  {
   "cell_type": "markdown",
   "id": "45a6f98d",
   "metadata": {},
   "source": [
    "### Construção, Treinamento e Avaliação do Modelo 7 com Adaboost Classifier\n",
    "#### _Construction, Training and Evaluation of Model 7 with Adaboost Classifier_"
   ]
  },
  {
   "cell_type": "code",
   "execution_count": 65,
   "id": "94705694",
   "metadata": {},
   "outputs": [],
   "source": [
    "# Função para seleção de hiperparâmetros com XGBoost\n",
    "# https://xgboost.readthedocs.io/en/latest/parameter.html\n",
    "\n",
    "def xgb_param_selection(X_train, y_train, nfolds):\n",
    "    \"\"\" Função para seleção de hiperparâmetros com XGBoost. \"\"\"\n",
    "    learning_rate = [0.0001, 0.001, 0.01, 0.1, 1, 10]\n",
    "    max_depth= [2, 3, 4, 5, 6, 7]\n",
    "    param_grid = {'eta': learning_rate,\n",
    "                  'max_depth': max_depth}\n",
    "    \n",
    "    grid_search = GridSearchCV(XGBClassifier(),\n",
    "                                     param_grid = param_grid,\n",
    "                                     cv = nfolds,)\n",
    "\n",
    "    grid_search.fit(X_train, y_train)\n",
    "    grid_search.best_params_\n",
    "    return  grid_search.best_params_"
   ]
  },
  {
   "cell_type": "code",
   "execution_count": 66,
   "id": "bb3e8b2d",
   "metadata": {},
   "outputs": [
    {
     "data": {
      "text/plain": [
       "{'eta': 1, 'max_depth': 7}"
      ]
     },
     "execution_count": 66,
     "metadata": {},
     "output_type": "execute_result"
    }
   ],
   "source": [
    "# Aplica a função\n",
    "xgb_param_selection(X_train, y_train, 10)"
   ]
  },
  {
   "cell_type": "code",
   "execution_count": 67,
   "id": "d93508ed",
   "metadata": {},
   "outputs": [
    {
     "data": {
      "text/html": [
       "<style>#sk-container-id-12 {color: black;background-color: white;}#sk-container-id-12 pre{padding: 0;}#sk-container-id-12 div.sk-toggleable {background-color: white;}#sk-container-id-12 label.sk-toggleable__label {cursor: pointer;display: block;width: 100%;margin-bottom: 0;padding: 0.3em;box-sizing: border-box;text-align: center;}#sk-container-id-12 label.sk-toggleable__label-arrow:before {content: \"▸\";float: left;margin-right: 0.25em;color: #696969;}#sk-container-id-12 label.sk-toggleable__label-arrow:hover:before {color: black;}#sk-container-id-12 div.sk-estimator:hover label.sk-toggleable__label-arrow:before {color: black;}#sk-container-id-12 div.sk-toggleable__content {max-height: 0;max-width: 0;overflow: hidden;text-align: left;background-color: #f0f8ff;}#sk-container-id-12 div.sk-toggleable__content pre {margin: 0.2em;color: black;border-radius: 0.25em;background-color: #f0f8ff;}#sk-container-id-12 input.sk-toggleable__control:checked~div.sk-toggleable__content {max-height: 200px;max-width: 100%;overflow: auto;}#sk-container-id-12 input.sk-toggleable__control:checked~label.sk-toggleable__label-arrow:before {content: \"▾\";}#sk-container-id-12 div.sk-estimator input.sk-toggleable__control:checked~label.sk-toggleable__label {background-color: #d4ebff;}#sk-container-id-12 div.sk-label input.sk-toggleable__control:checked~label.sk-toggleable__label {background-color: #d4ebff;}#sk-container-id-12 input.sk-hidden--visually {border: 0;clip: rect(1px 1px 1px 1px);clip: rect(1px, 1px, 1px, 1px);height: 1px;margin: -1px;overflow: hidden;padding: 0;position: absolute;width: 1px;}#sk-container-id-12 div.sk-estimator {font-family: monospace;background-color: #f0f8ff;border: 1px dotted black;border-radius: 0.25em;box-sizing: border-box;margin-bottom: 0.5em;}#sk-container-id-12 div.sk-estimator:hover {background-color: #d4ebff;}#sk-container-id-12 div.sk-parallel-item::after {content: \"\";width: 100%;border-bottom: 1px solid gray;flex-grow: 1;}#sk-container-id-12 div.sk-label:hover label.sk-toggleable__label {background-color: #d4ebff;}#sk-container-id-12 div.sk-serial::before {content: \"\";position: absolute;border-left: 1px solid gray;box-sizing: border-box;top: 0;bottom: 0;left: 50%;z-index: 0;}#sk-container-id-12 div.sk-serial {display: flex;flex-direction: column;align-items: center;background-color: white;padding-right: 0.2em;padding-left: 0.2em;position: relative;}#sk-container-id-12 div.sk-item {position: relative;z-index: 1;}#sk-container-id-12 div.sk-parallel {display: flex;align-items: stretch;justify-content: center;background-color: white;position: relative;}#sk-container-id-12 div.sk-item::before, #sk-container-id-12 div.sk-parallel-item::before {content: \"\";position: absolute;border-left: 1px solid gray;box-sizing: border-box;top: 0;bottom: 0;left: 50%;z-index: -1;}#sk-container-id-12 div.sk-parallel-item {display: flex;flex-direction: column;z-index: 1;position: relative;background-color: white;}#sk-container-id-12 div.sk-parallel-item:first-child::after {align-self: flex-end;width: 50%;}#sk-container-id-12 div.sk-parallel-item:last-child::after {align-self: flex-start;width: 50%;}#sk-container-id-12 div.sk-parallel-item:only-child::after {width: 0;}#sk-container-id-12 div.sk-dashed-wrapped {border: 1px dashed gray;margin: 0 0.4em 0.5em 0.4em;box-sizing: border-box;padding-bottom: 0.4em;background-color: white;}#sk-container-id-12 div.sk-label label {font-family: monospace;font-weight: bold;display: inline-block;line-height: 1.2em;}#sk-container-id-12 div.sk-label-container {text-align: center;}#sk-container-id-12 div.sk-container {/* jupyter's `normalize.less` sets `[hidden] { display: none; }` but bootstrap.min.css set `[hidden] { display: none !important; }` so we also need the `!important` here to be able to override the default hidden behavior on the sphinx rendered scikit-learn.org. See: https://github.com/scikit-learn/scikit-learn/issues/21755 */display: inline-block !important;position: relative;}#sk-container-id-12 div.sk-text-repr-fallback {display: none;}</style><div id=\"sk-container-id-12\" class=\"sk-top-container\"><div class=\"sk-text-repr-fallback\"><pre>XGBClassifier(base_score=0.5, booster=&#x27;gbtree&#x27;, callbacks=None,\n",
       "              colsample_bylevel=1, colsample_bynode=1, colsample_bytree=1,\n",
       "              early_stopping_rounds=None, enable_categorical=False, eta=1,\n",
       "              eval_metric=None, gamma=0, gpu_id=-1, grow_policy=&#x27;depthwise&#x27;,\n",
       "              importance_type=None, interaction_constraints=&#x27;&#x27;, learning_rate=1,\n",
       "              max_bin=256, max_cat_to_onehot=4, max_delta_step=0, max_depth=7,\n",
       "              max_leaves=0, min_child_weight=1, missing=nan,\n",
       "              monotone_constraints=&#x27;()&#x27;, n_estimators=100, n_jobs=0,\n",
       "              num_parallel_tree=1, predictor=&#x27;auto&#x27;, random_state=0,\n",
       "              reg_alpha=0, ...)</pre><b>In a Jupyter environment, please rerun this cell to show the HTML representation or trust the notebook. <br />On GitHub, the HTML representation is unable to render, please try loading this page with nbviewer.org.</b></div><div class=\"sk-container\" hidden><div class=\"sk-item\"><div class=\"sk-estimator sk-toggleable\"><input class=\"sk-toggleable__control sk-hidden--visually\" id=\"sk-estimator-id-14\" type=\"checkbox\" checked><label for=\"sk-estimator-id-14\" class=\"sk-toggleable__label sk-toggleable__label-arrow\">XGBClassifier</label><div class=\"sk-toggleable__content\"><pre>XGBClassifier(base_score=0.5, booster=&#x27;gbtree&#x27;, callbacks=None,\n",
       "              colsample_bylevel=1, colsample_bynode=1, colsample_bytree=1,\n",
       "              early_stopping_rounds=None, enable_categorical=False, eta=1,\n",
       "              eval_metric=None, gamma=0, gpu_id=-1, grow_policy=&#x27;depthwise&#x27;,\n",
       "              importance_type=None, interaction_constraints=&#x27;&#x27;, learning_rate=1,\n",
       "              max_bin=256, max_cat_to_onehot=4, max_delta_step=0, max_depth=7,\n",
       "              max_leaves=0, min_child_weight=1, missing=nan,\n",
       "              monotone_constraints=&#x27;()&#x27;, n_estimators=100, n_jobs=0,\n",
       "              num_parallel_tree=1, predictor=&#x27;auto&#x27;, random_state=0,\n",
       "              reg_alpha=0, ...)</pre></div></div></div></div></div>"
      ],
      "text/plain": [
       "XGBClassifier(base_score=0.5, booster='gbtree', callbacks=None,\n",
       "              colsample_bylevel=1, colsample_bynode=1, colsample_bytree=1,\n",
       "              early_stopping_rounds=None, enable_categorical=False, eta=1,\n",
       "              eval_metric=None, gamma=0, gpu_id=-1, grow_policy='depthwise',\n",
       "              importance_type=None, interaction_constraints='', learning_rate=1,\n",
       "              max_bin=256, max_cat_to_onehot=4, max_delta_step=0, max_depth=7,\n",
       "              max_leaves=0, min_child_weight=1, missing=nan,\n",
       "              monotone_constraints='()', n_estimators=100, n_jobs=0,\n",
       "              num_parallel_tree=1, predictor='auto', random_state=0,\n",
       "              reg_alpha=0, ...)"
      ]
     },
     "execution_count": 67,
     "metadata": {},
     "output_type": "execute_result"
    }
   ],
   "source": [
    "# Treinamento\n",
    "\n",
    "# Criação do modelo com os melhores hiperparâmetros (versão final não deve ter o GridSearchCV)\n",
    "model_v7 = XGBClassifier(eta = 1, max_depth = 7)\n",
    "model_v7.fit(X_train, y_train)"
   ]
  },
  {
   "cell_type": "code",
   "execution_count": 68,
   "id": "d9c5e25e",
   "metadata": {},
   "outputs": [],
   "source": [
    "# Previsões em teste\n",
    "y_pred_v7 = model_v7.predict(X_test)\n",
    "\n",
    "# Obtém as previsões para a classe positiva\n",
    "y_pred_proba_v7 = model_v7.predict_proba(X_test)[:,1]"
   ]
  },
  {
   "cell_type": "code",
   "execution_count": 69,
   "id": "2a4385dd",
   "metadata": {},
   "outputs": [
    {
     "name": "stdout",
     "output_type": "stream",
     "text": [
      "[[1258  185]\n",
      " [ 118  106]] 0.6725045787545787 0.7250365062865064 0.8182363527294542\n"
     ]
    }
   ],
   "source": [
    "# Avaliação do modelo\n",
    "cm_v7, roc_auc_v7, auc_v7, accuracy_v7 = evaluate_classification_model(y_test, y_pred_v7, y_pred_proba_v7)\n",
    "print(cm_v7, roc_auc_v7, auc_v7, accuracy_v7)"
   ]
  },
  {
   "cell_type": "code",
   "execution_count": 70,
   "id": "b36b5d65",
   "metadata": {},
   "outputs": [
    {
     "name": "stdout",
     "output_type": "stream",
     "text": [
      "Variáveis mais importantes para o resultado do modelo_v7:\n",
      "--------------------------------------------------\n",
      "total_day_minutes_5\n",
      "international_plan\n",
      "number_vmail_messages\n",
      "total_night_calls_5\n",
      "total_eve_calls_5\n",
      "state_HI\n",
      "voice_mail_plan\n",
      "total_day_minutes_4\n",
      "state_VA\n",
      "state_OH\n"
     ]
    }
   ],
   "source": [
    "# Feature Importance\n",
    "\n",
    "# Variáveis mais relevantes\n",
    "indices = np.argsort(-model_v7.feature_importances_)\n",
    "print(\"Variáveis mais importantes para o resultado do modelo_v7:\")\n",
    "print(50*'-')\n",
    "for feature in X_train.columns[indices][:10]:\n",
    "    print(feature)"
   ]
  },
  {
   "cell_type": "code",
   "execution_count": 71,
   "id": "b0d032ec",
   "metadata": {},
   "outputs": [],
   "source": [
    "# Salva o modelo em disco\n",
    "save_model('model_v7', model_v7)"
   ]
  },
  {
   "cell_type": "code",
   "execution_count": 72,
   "id": "fdc183a0",
   "metadata": {},
   "outputs": [
    {
     "data": {
      "text/html": [
       "<div>\n",
       "<style scoped>\n",
       "    .dataframe tbody tr th:only-of-type {\n",
       "        vertical-align: middle;\n",
       "    }\n",
       "\n",
       "    .dataframe tbody tr th {\n",
       "        vertical-align: top;\n",
       "    }\n",
       "\n",
       "    .dataframe thead th {\n",
       "        text-align: right;\n",
       "    }\n",
       "</style>\n",
       "<table border=\"1\" class=\"dataframe\">\n",
       "  <thead>\n",
       "    <tr style=\"text-align: right;\">\n",
       "      <th></th>\n",
       "      <th>Nome</th>\n",
       "      <th>Algoritmo</th>\n",
       "      <th>ROC_AUC Score</th>\n",
       "      <th>AUC Score</th>\n",
       "      <th>Acurácia</th>\n",
       "    </tr>\n",
       "  </thead>\n",
       "  <tbody>\n",
       "    <tr>\n",
       "      <th>0</th>\n",
       "      <td>modelo_v1</td>\n",
       "      <td>Regressão Logística</td>\n",
       "      <td>0.691338</td>\n",
       "      <td>0.751182</td>\n",
       "      <td>0.730054</td>\n",
       "    </tr>\n",
       "    <tr>\n",
       "      <th>0</th>\n",
       "      <td>modelo_v2</td>\n",
       "      <td>Random Forest</td>\n",
       "      <td>0.717728</td>\n",
       "      <td>0.794581</td>\n",
       "      <td>0.841032</td>\n",
       "    </tr>\n",
       "    <tr>\n",
       "      <th>0</th>\n",
       "      <td>modelo_v3</td>\n",
       "      <td>KNN</td>\n",
       "      <td>0.588409</td>\n",
       "      <td>0.588409</td>\n",
       "      <td>0.773845</td>\n",
       "    </tr>\n",
       "    <tr>\n",
       "      <th>0</th>\n",
       "      <td>modelo_v4</td>\n",
       "      <td>Decision Tree</td>\n",
       "      <td>0.647148</td>\n",
       "      <td>0.687874</td>\n",
       "      <td>0.539292</td>\n",
       "    </tr>\n",
       "    <tr>\n",
       "      <th>0</th>\n",
       "      <td>modelo_v5</td>\n",
       "      <td>SVM</td>\n",
       "      <td>0.630561</td>\n",
       "      <td>0.70752</td>\n",
       "      <td>0.827235</td>\n",
       "    </tr>\n",
       "    <tr>\n",
       "      <th>0</th>\n",
       "      <td>modelo_v6</td>\n",
       "      <td>Gradient Boosting</td>\n",
       "      <td>0.653455</td>\n",
       "      <td>0.730652</td>\n",
       "      <td>0.814637</td>\n",
       "    </tr>\n",
       "    <tr>\n",
       "      <th>0</th>\n",
       "      <td>modelo_v7</td>\n",
       "      <td>XGBoost</td>\n",
       "      <td>0.672505</td>\n",
       "      <td>0.725037</td>\n",
       "      <td>0.818236</td>\n",
       "    </tr>\n",
       "  </tbody>\n",
       "</table>\n",
       "</div>"
      ],
      "text/plain": [
       "        Nome            Algoritmo ROC_AUC Score AUC Score  Acurácia\n",
       "0  modelo_v1  Regressão Logística      0.691338  0.751182  0.730054\n",
       "0  modelo_v2        Random Forest      0.717728  0.794581  0.841032\n",
       "0  modelo_v3                  KNN      0.588409  0.588409  0.773845\n",
       "0  modelo_v4        Decision Tree      0.647148  0.687874  0.539292\n",
       "0  modelo_v5                  SVM      0.630561   0.70752  0.827235\n",
       "0  modelo_v6    Gradient Boosting      0.653455  0.730652  0.814637\n",
       "0  modelo_v7              XGBoost      0.672505  0.725037  0.818236"
      ]
     },
     "metadata": {},
     "output_type": "display_data"
    }
   ],
   "source": [
    "# Dicionário com as métricas do modelo_v7\n",
    "dict_model_v7 = {'Nome': 'modelo_v7', \n",
    "                 'Algoritmo': 'XGBoost', \n",
    "                 'ROC_AUC Score': roc_auc_v7,\n",
    "                 'AUC Score': auc_v7,\n",
    "                 'Acurácia': accuracy_v7}\n",
    "\n",
    "# Adiciona o dict ao dataframe de consolidação das métricas\n",
    "dict_model_v7 = pd.DataFrame.from_dict(dict_model_v7, orient='index').T\n",
    "df_list = [df_models, dict_model_v7]\n",
    "df_models = pd.concat(df_list)\n",
    "\n",
    "display(df_models)"
   ]
  },
  {
   "cell_type": "markdown",
   "id": "053b00cf",
   "metadata": {},
   "source": [
    "### Seleção do Melhor Modelo // _Selection of the Best Model_"
   ]
  },
  {
   "cell_type": "code",
   "execution_count": 73,
   "id": "dd8c92f1",
   "metadata": {},
   "outputs": [
    {
     "data": {
      "text/html": [
       "<div>\n",
       "<style scoped>\n",
       "    .dataframe tbody tr th:only-of-type {\n",
       "        vertical-align: middle;\n",
       "    }\n",
       "\n",
       "    .dataframe tbody tr th {\n",
       "        vertical-align: top;\n",
       "    }\n",
       "\n",
       "    .dataframe thead th {\n",
       "        text-align: right;\n",
       "    }\n",
       "</style>\n",
       "<table border=\"1\" class=\"dataframe\">\n",
       "  <thead>\n",
       "    <tr style=\"text-align: right;\">\n",
       "      <th></th>\n",
       "      <th>Nome</th>\n",
       "      <th>Algoritmo</th>\n",
       "      <th>ROC_AUC Score</th>\n",
       "      <th>AUC Score</th>\n",
       "      <th>Acurácia</th>\n",
       "    </tr>\n",
       "  </thead>\n",
       "  <tbody>\n",
       "    <tr>\n",
       "      <th>0</th>\n",
       "      <td>modelo_v2</td>\n",
       "      <td>Random Forest</td>\n",
       "      <td>0.717728</td>\n",
       "      <td>0.794581</td>\n",
       "      <td>0.841032</td>\n",
       "    </tr>\n",
       "  </tbody>\n",
       "</table>\n",
       "</div>"
      ],
      "text/plain": [
       "        Nome      Algoritmo ROC_AUC Score AUC Score  Acurácia\n",
       "0  modelo_v2  Random Forest      0.717728  0.794581  0.841032"
      ]
     },
     "execution_count": 73,
     "metadata": {},
     "output_type": "execute_result"
    }
   ],
   "source": [
    "# Seleção do modelo com maior AUC Score, por se tratar de uma métrica global // Selection of the model with the highest AUC Score, as it is a global metric\n",
    "# O score AUC é o ideal para comparar modelos de diferentes algoritmos // The AUC score is ideal for comparing models from different algorithms\n",
    "\n",
    "df_best_model = df_models[df_models['AUC Score'] == df_models['AUC Score'].max()]\n",
    "df_best_model\n"
   ]
  },
  {
   "cell_type": "code",
   "execution_count": 74,
   "id": "5132ba2d",
   "metadata": {},
   "outputs": [],
   "source": [
    "# Salva o melhor modelo em disco\n",
    "df_best_model.to_csv('../models/best_model.csv')"
   ]
  },
  {
   "cell_type": "markdown",
   "id": "89967f49",
   "metadata": {},
   "source": [
    "**Conclusão:** O melhor modelo encontrado foi o Random Forest, que apresentou AUC Score de 0.794581. Com mais recursos de tempo, o treinamento ainda poderia ser aperfeiçoado com seleção de atributos ou redução de dimensionalidade dos atributos com o algoritmo PCA, por exemplo.\n",
    "\n",
    "---\n",
    "**_Conclusion:_** _The best model found was Random Forest, which presented an AUC Score of 0.794581. With more time resources, the training could still be improved with attribute selection or dimensionality reduction of the attributes with the PCA algorithm, for example._\n",
    "    \n"
   ]
  },
  {
   "cell_type": "markdown",
   "id": "f1f6ffba",
   "metadata": {},
   "source": [
    "### Previsões com o Melhor Modelo Treinado // _Forecasts with the Best Trained Model_"
   ]
  },
  {
   "cell_type": "code",
   "execution_count": 75,
   "id": "a1fc6b67",
   "metadata": {},
   "outputs": [
    {
     "name": "stdout",
     "output_type": "stream",
     "text": [
      "modelo_v2\n",
      "model_v2\n"
     ]
    }
   ],
   "source": [
    "# Recuperação do nome do melhor modelo\n",
    "model = df_best_model.Nome.to_string(index = False)\n",
    "print(model)\n",
    "\n",
    "# Nome do arquivo do melhor modelo\n",
    "best_model_file_name = 'model' + model[-3:]\n",
    "print(best_model_file_name)"
   ]
  },
  {
   "cell_type": "code",
   "execution_count": 76,
   "id": "5314b508",
   "metadata": {},
   "outputs": [
    {
     "data": {
      "text/html": [
       "<style>#sk-container-id-13 {color: black;background-color: white;}#sk-container-id-13 pre{padding: 0;}#sk-container-id-13 div.sk-toggleable {background-color: white;}#sk-container-id-13 label.sk-toggleable__label {cursor: pointer;display: block;width: 100%;margin-bottom: 0;padding: 0.3em;box-sizing: border-box;text-align: center;}#sk-container-id-13 label.sk-toggleable__label-arrow:before {content: \"▸\";float: left;margin-right: 0.25em;color: #696969;}#sk-container-id-13 label.sk-toggleable__label-arrow:hover:before {color: black;}#sk-container-id-13 div.sk-estimator:hover label.sk-toggleable__label-arrow:before {color: black;}#sk-container-id-13 div.sk-toggleable__content {max-height: 0;max-width: 0;overflow: hidden;text-align: left;background-color: #f0f8ff;}#sk-container-id-13 div.sk-toggleable__content pre {margin: 0.2em;color: black;border-radius: 0.25em;background-color: #f0f8ff;}#sk-container-id-13 input.sk-toggleable__control:checked~div.sk-toggleable__content {max-height: 200px;max-width: 100%;overflow: auto;}#sk-container-id-13 input.sk-toggleable__control:checked~label.sk-toggleable__label-arrow:before {content: \"▾\";}#sk-container-id-13 div.sk-estimator input.sk-toggleable__control:checked~label.sk-toggleable__label {background-color: #d4ebff;}#sk-container-id-13 div.sk-label input.sk-toggleable__control:checked~label.sk-toggleable__label {background-color: #d4ebff;}#sk-container-id-13 input.sk-hidden--visually {border: 0;clip: rect(1px 1px 1px 1px);clip: rect(1px, 1px, 1px, 1px);height: 1px;margin: -1px;overflow: hidden;padding: 0;position: absolute;width: 1px;}#sk-container-id-13 div.sk-estimator {font-family: monospace;background-color: #f0f8ff;border: 1px dotted black;border-radius: 0.25em;box-sizing: border-box;margin-bottom: 0.5em;}#sk-container-id-13 div.sk-estimator:hover {background-color: #d4ebff;}#sk-container-id-13 div.sk-parallel-item::after {content: \"\";width: 100%;border-bottom: 1px solid gray;flex-grow: 1;}#sk-container-id-13 div.sk-label:hover label.sk-toggleable__label {background-color: #d4ebff;}#sk-container-id-13 div.sk-serial::before {content: \"\";position: absolute;border-left: 1px solid gray;box-sizing: border-box;top: 0;bottom: 0;left: 50%;z-index: 0;}#sk-container-id-13 div.sk-serial {display: flex;flex-direction: column;align-items: center;background-color: white;padding-right: 0.2em;padding-left: 0.2em;position: relative;}#sk-container-id-13 div.sk-item {position: relative;z-index: 1;}#sk-container-id-13 div.sk-parallel {display: flex;align-items: stretch;justify-content: center;background-color: white;position: relative;}#sk-container-id-13 div.sk-item::before, #sk-container-id-13 div.sk-parallel-item::before {content: \"\";position: absolute;border-left: 1px solid gray;box-sizing: border-box;top: 0;bottom: 0;left: 50%;z-index: -1;}#sk-container-id-13 div.sk-parallel-item {display: flex;flex-direction: column;z-index: 1;position: relative;background-color: white;}#sk-container-id-13 div.sk-parallel-item:first-child::after {align-self: flex-end;width: 50%;}#sk-container-id-13 div.sk-parallel-item:last-child::after {align-self: flex-start;width: 50%;}#sk-container-id-13 div.sk-parallel-item:only-child::after {width: 0;}#sk-container-id-13 div.sk-dashed-wrapped {border: 1px dashed gray;margin: 0 0.4em 0.5em 0.4em;box-sizing: border-box;padding-bottom: 0.4em;background-color: white;}#sk-container-id-13 div.sk-label label {font-family: monospace;font-weight: bold;display: inline-block;line-height: 1.2em;}#sk-container-id-13 div.sk-label-container {text-align: center;}#sk-container-id-13 div.sk-container {/* jupyter's `normalize.less` sets `[hidden] { display: none; }` but bootstrap.min.css set `[hidden] { display: none !important; }` so we also need the `!important` here to be able to override the default hidden behavior on the sphinx rendered scikit-learn.org. See: https://github.com/scikit-learn/scikit-learn/issues/21755 */display: inline-block !important;position: relative;}#sk-container-id-13 div.sk-text-repr-fallback {display: none;}</style><div id=\"sk-container-id-13\" class=\"sk-top-container\"><div class=\"sk-text-repr-fallback\"><pre>RandomForestClassifier(min_samples_split=10, n_estimators=500)</pre><b>In a Jupyter environment, please rerun this cell to show the HTML representation or trust the notebook. <br />On GitHub, the HTML representation is unable to render, please try loading this page with nbviewer.org.</b></div><div class=\"sk-container\" hidden><div class=\"sk-item\"><div class=\"sk-estimator sk-toggleable\"><input class=\"sk-toggleable__control sk-hidden--visually\" id=\"sk-estimator-id-15\" type=\"checkbox\" checked><label for=\"sk-estimator-id-15\" class=\"sk-toggleable__label sk-toggleable__label-arrow\">RandomForestClassifier</label><div class=\"sk-toggleable__content\"><pre>RandomForestClassifier(min_samples_split=10, n_estimators=500)</pre></div></div></div></div></div>"
      ],
      "text/plain": [
       "RandomForestClassifier(min_samples_split=10, n_estimators=500)"
      ]
     },
     "execution_count": 76,
     "metadata": {},
     "output_type": "execute_result"
    }
   ],
   "source": [
    "# Carga do melhor modelo do disco\n",
    "best_model = joblib.load(open(f'../models/{best_model_file_name}.pkl', 'rb'))\n",
    "best_model\n"
   ]
  },
  {
   "cell_type": "code",
   "execution_count": 77,
   "id": "de659288",
   "metadata": {},
   "outputs": [],
   "source": [
    "# Salva o melhor modelo em disco com o nome best_model\n",
    "save_model('../models/best_model', best_model)"
   ]
  },
  {
   "cell_type": "code",
   "execution_count": 78,
   "id": "27315856",
   "metadata": {},
   "outputs": [
    {
     "name": "stdout",
     "output_type": "stream",
     "text": [
      "20\n"
     ]
    },
    {
     "data": {
      "text/plain": [
       "Index(['state', 'account_length', 'area_code', 'international_plan',\n",
       "       'voice_mail_plan', 'number_vmail_messages', 'total_day_minutes',\n",
       "       'total_day_calls', 'total_day_charge', 'total_eve_minutes',\n",
       "       'total_eve_calls', 'total_eve_charge', 'total_night_minutes',\n",
       "       'total_night_calls', 'total_night_charge', 'total_intl_minutes',\n",
       "       'total_intl_calls', 'total_intl_charge',\n",
       "       'number_customer_service_calls', 'churn'],\n",
       "      dtype='object')"
      ]
     },
     "execution_count": 78,
     "metadata": {},
     "output_type": "execute_result"
    }
   ],
   "source": [
    "# Recuperação das colunas iniciais // Recovery of initial columns\n",
    "df_original = pd.read_csv('../datasets/projeto4_telecom_treino.csv', index_col = 0, nrows=1)\n",
    "\n",
    "print(len(df_original.columns))\n",
    "df_original.columns\n"
   ]
  },
  {
   "cell_type": "code",
   "execution_count": 79,
   "id": "3cb08a19",
   "metadata": {},
   "outputs": [],
   "source": [
    "# Dados brutos de um novo consumidor (exemplo) // Raw data from a new consumer (example)\n",
    "# O número de colunas deve ser o mesmo do que foi usado em treino // The number of columns must be the same as the one used in training\n",
    "\n",
    "new_costumer = ['KS', 114, 'area_code_408', 'yes', 'yes', 32, 244.2, 120, 32.07, 154.4, 82, 22.54, 154.7, 86, 15.01, 12, 5, 3.7, 2]\n"
   ]
  },
  {
   "cell_type": "code",
   "execution_count": 80,
   "id": "ee6fdef1",
   "metadata": {},
   "outputs": [
    {
     "data": {
      "text/html": [
       "<div>\n",
       "<style scoped>\n",
       "    .dataframe tbody tr th:only-of-type {\n",
       "        vertical-align: middle;\n",
       "    }\n",
       "\n",
       "    .dataframe tbody tr th {\n",
       "        vertical-align: top;\n",
       "    }\n",
       "\n",
       "    .dataframe thead th {\n",
       "        text-align: right;\n",
       "    }\n",
       "</style>\n",
       "<table border=\"1\" class=\"dataframe\">\n",
       "  <thead>\n",
       "    <tr style=\"text-align: right;\">\n",
       "      <th></th>\n",
       "      <th>state</th>\n",
       "      <th>account_length</th>\n",
       "      <th>area_code</th>\n",
       "      <th>international_plan</th>\n",
       "      <th>voice_mail_plan</th>\n",
       "      <th>number_vmail_messages</th>\n",
       "      <th>total_day_minutes</th>\n",
       "      <th>total_day_calls</th>\n",
       "      <th>total_day_charge</th>\n",
       "      <th>total_eve_minutes</th>\n",
       "      <th>total_eve_calls</th>\n",
       "      <th>total_eve_charge</th>\n",
       "      <th>total_night_minutes</th>\n",
       "      <th>total_night_calls</th>\n",
       "      <th>total_night_charge</th>\n",
       "      <th>total_intl_minutes</th>\n",
       "      <th>total_intl_calls</th>\n",
       "      <th>total_intl_charge</th>\n",
       "      <th>number_customer_service_calls</th>\n",
       "    </tr>\n",
       "  </thead>\n",
       "  <tbody>\n",
       "    <tr>\n",
       "      <th>0</th>\n",
       "      <td>KS</td>\n",
       "      <td>114</td>\n",
       "      <td>area_code_408</td>\n",
       "      <td>yes</td>\n",
       "      <td>yes</td>\n",
       "      <td>32</td>\n",
       "      <td>244.2</td>\n",
       "      <td>120</td>\n",
       "      <td>32.07</td>\n",
       "      <td>154.4</td>\n",
       "      <td>82</td>\n",
       "      <td>22.54</td>\n",
       "      <td>154.7</td>\n",
       "      <td>86</td>\n",
       "      <td>15.01</td>\n",
       "      <td>12</td>\n",
       "      <td>5</td>\n",
       "      <td>3.7</td>\n",
       "      <td>2</td>\n",
       "    </tr>\n",
       "  </tbody>\n",
       "</table>\n",
       "</div>"
      ],
      "text/plain": [
       "  state account_length      area_code international_plan voice_mail_plan  \\\n",
       "0    KS            114  area_code_408                yes             yes   \n",
       "\n",
       "  number_vmail_messages total_day_minutes total_day_calls total_day_charge  \\\n",
       "0                    32             244.2             120            32.07   \n",
       "\n",
       "  total_eve_minutes total_eve_calls total_eve_charge total_night_minutes  \\\n",
       "0             154.4              82            22.54               154.7   \n",
       "\n",
       "  total_night_calls total_night_charge total_intl_minutes total_intl_calls  \\\n",
       "0                86              15.01                 12                5   \n",
       "\n",
       "  total_intl_charge number_customer_service_calls  \n",
       "0               3.7                             2  "
      ]
     },
     "metadata": {},
     "output_type": "display_data"
    }
   ],
   "source": [
    "# Converte o objeto para array // Convert object to array\n",
    "arr_costumer = np.array(new_costumer).reshape(1, -1)\n",
    "\n",
    "df_new = pd.DataFrame(arr_costumer, columns=df_original.columns[:-1])\n",
    "display(df_new)\n"
   ]
  },
  {
   "cell_type": "code",
   "execution_count": 81,
   "id": "a17410ca",
   "metadata": {},
   "outputs": [],
   "source": [
    "# Lista de colunas categóricas e numéricas // List of categorical and numerical columns\n",
    "cat_features = ['state',\n",
    "                'area_code', \n",
    "                'international_plan', \n",
    "                'voice_mail_plan',\n",
    "               ]\n",
    "\n",
    "# Lista de colunas numéricas // List of numerical columns     \n",
    "num_features = ['account_length', 'number_vmail_messages',\n",
    "                'total_day_minutes', 'total_day_calls', 'total_day_charge',\n",
    "                'total_eve_minutes', 'total_eve_calls', 'total_eve_charge',\n",
    "                'total_night_minutes', 'total_night_calls', 'total_night_charge',\n",
    "                'total_intl_minutes', 'total_intl_calls', 'total_intl_charge',\n",
    "                'number_customer_service_calls',\n",
    "                ]\n",
    "\n",
    "binary_features = ['account_length',\n",
    "                   'international_plan', \n",
    "                   'voice_mail_plan',\n",
    "                   'number_vmail_messages',\n",
    "                  ]\n"
   ]
  },
  {
   "cell_type": "code",
   "execution_count": 82,
   "id": "89a97c4e",
   "metadata": {},
   "outputs": [],
   "source": [
    "# Conversão dos tipos de dados das variáveis // Conversion of variables data types\n",
    "\n",
    "# Categóricas\n",
    "for feat in cat_features:\n",
    "    df_new[feat] = df_new[feat].astype('category')\n",
    "\n",
    "# Numéricas\n",
    "for feat in num_features:\n",
    "    df_new[feat] = df_new[feat].astype('float64')\n",
    "\n"
   ]
  },
  {
   "cell_type": "code",
   "execution_count": 83,
   "id": "d2bcbe55",
   "metadata": {},
   "outputs": [],
   "source": [
    "# Aplicação das mesmas transformações efetuadas no dataset de treino nos novos dados\n",
    "# Application of the same transformations performed on the train dataset in the new data\n",
    "\n",
    "df_new = df_new.drop(columns = ['number_customer_service_calls'])\n",
    "df_new = df_new.drop(columns = ['total_day_charge','total_eve_charge','total_night_charge','total_intl_charge'])\n",
    "df_new['account_length'] = np.where(df_new['account_length'] >= 100.86, 1, 0)\n",
    "df_new['number_vmail_messages'] = np.where(df_new['number_vmail_messages'] >= 7.97, 1, 0)\n",
    "df_new['area_code'] = df_new['area_code'].apply(lambda x: x[-3:])\n",
    "\n",
    "# Formatação das demais variáveis binárias\n",
    "df_new['international_plan'] = df_new['international_plan'].apply(lambda x: 1 if x == 'yes' else 0)\n",
    "df_new['voice_mail_plan'] = df_new['voice_mail_plan'].apply(lambda x: 1 if x == 'yes' else 0)"
   ]
  },
  {
   "cell_type": "code",
   "execution_count": 84,
   "id": "852ff1d4",
   "metadata": {},
   "outputs": [
    {
     "data": {
      "text/html": [
       "<div>\n",
       "<style scoped>\n",
       "    .dataframe tbody tr th:only-of-type {\n",
       "        vertical-align: middle;\n",
       "    }\n",
       "\n",
       "    .dataframe tbody tr th {\n",
       "        vertical-align: top;\n",
       "    }\n",
       "\n",
       "    .dataframe thead th {\n",
       "        text-align: right;\n",
       "    }\n",
       "</style>\n",
       "<table border=\"1\" class=\"dataframe\">\n",
       "  <thead>\n",
       "    <tr style=\"text-align: right;\">\n",
       "      <th></th>\n",
       "      <th>state</th>\n",
       "      <th>account_length</th>\n",
       "      <th>area_code</th>\n",
       "      <th>international_plan</th>\n",
       "      <th>voice_mail_plan</th>\n",
       "      <th>number_vmail_messages</th>\n",
       "      <th>total_day_minutes</th>\n",
       "      <th>total_day_calls</th>\n",
       "      <th>total_eve_minutes</th>\n",
       "      <th>total_eve_calls</th>\n",
       "      <th>total_night_minutes</th>\n",
       "      <th>total_night_calls</th>\n",
       "      <th>total_intl_minutes</th>\n",
       "      <th>total_intl_calls</th>\n",
       "    </tr>\n",
       "  </thead>\n",
       "  <tbody>\n",
       "    <tr>\n",
       "      <th>0</th>\n",
       "      <td>KS</td>\n",
       "      <td>1</td>\n",
       "      <td>408</td>\n",
       "      <td>1</td>\n",
       "      <td>1</td>\n",
       "      <td>1</td>\n",
       "      <td>244.2</td>\n",
       "      <td>120.0</td>\n",
       "      <td>154.4</td>\n",
       "      <td>82.0</td>\n",
       "      <td>154.7</td>\n",
       "      <td>86.0</td>\n",
       "      <td>12.0</td>\n",
       "      <td>5.0</td>\n",
       "    </tr>\n",
       "  </tbody>\n",
       "</table>\n",
       "</div>"
      ],
      "text/plain": [
       "  state  account_length area_code international_plan voice_mail_plan  \\\n",
       "0    KS               1       408                  1               1   \n",
       "\n",
       "   number_vmail_messages  total_day_minutes  total_day_calls  \\\n",
       "0                      1              244.2            120.0   \n",
       "\n",
       "   total_eve_minutes  total_eve_calls  total_night_minutes  total_night_calls  \\\n",
       "0              154.4             82.0                154.7               86.0   \n",
       "\n",
       "   total_intl_minutes  total_intl_calls  \n",
       "0                12.0               5.0  "
      ]
     },
     "execution_count": 84,
     "metadata": {},
     "output_type": "execute_result"
    }
   ],
   "source": [
    "df_new"
   ]
  },
  {
   "cell_type": "code",
   "execution_count": 85,
   "id": "720bfbc6",
   "metadata": {},
   "outputs": [
    {
     "data": {
      "text/plain": [
       "0"
      ]
     },
     "execution_count": 85,
     "metadata": {},
     "output_type": "execute_result"
    }
   ],
   "source": [
    "df_new.isnull().any().sum()"
   ]
  },
  {
   "cell_type": "code",
   "execution_count": 86,
   "id": "cecf6da6",
   "metadata": {},
   "outputs": [
    {
     "data": {
      "text/plain": [
       "{'total_day_minutes': array([ 17.2802,  81.56  , 145.52  , 209.48  , 273.44  , 337.4   ]),\n",
       " 'total_day_calls': array([ 41.882,  65.6  ,  89.2  , 112.8  , 136.4  , 160.   ]),\n",
       " 'total_eve_minutes': array([ 48.8976, 109.68  , 170.16  , 230.64  , 291.12  , 351.6   ]),\n",
       " 'total_eve_calls': array([ 41.883,  65.4  ,  88.8  , 112.2  , 135.6  , 159.   ]),\n",
       " 'total_night_minutes': array([ 49.7976, 110.58  , 171.06  , 231.54  , 292.02  , 352.5   ]),\n",
       " 'total_night_calls': array([ 41.884,  65.2  ,  88.4  , 111.6  , 134.8  , 158.   ]),\n",
       " 'total_intl_minutes': array([ 1.9836,  5.28  ,  8.56  , 11.84  , 15.12  , 18.4   ]),\n",
       " 'total_intl_calls': array([ 0.99,  3.  ,  5.  ,  7.  ,  9.  , 11.  ])}"
      ]
     },
     "execution_count": 86,
     "metadata": {},
     "output_type": "execute_result"
    }
   ],
   "source": [
    "dic_cut"
   ]
  },
  {
   "cell_type": "code",
   "execution_count": 87,
   "id": "c16b8808",
   "metadata": {},
   "outputs": [],
   "source": [
    "# Discretização de variáveis numéricas\n",
    "cols_discret =  [col for col in df_new.columns if col.startswith('total')]\n",
    "for col in cols_discret:\n",
    "    df_new[col] = pd.cut(df_new[col], bins=dic_cut[col], include_lowest=True, labels=['1','2','3','4','5']) \n"
   ]
  },
  {
   "cell_type": "code",
   "execution_count": 88,
   "id": "25a9c51a",
   "metadata": {},
   "outputs": [
    {
     "data": {
      "text/plain": [
       "0"
      ]
     },
     "execution_count": 88,
     "metadata": {},
     "output_type": "execute_result"
    }
   ],
   "source": [
    "df_new.isnull().any().sum()"
   ]
  },
  {
   "cell_type": "code",
   "execution_count": 89,
   "id": "2d5218dd",
   "metadata": {},
   "outputs": [
    {
     "data": {
      "text/html": [
       "<div>\n",
       "<style scoped>\n",
       "    .dataframe tbody tr th:only-of-type {\n",
       "        vertical-align: middle;\n",
       "    }\n",
       "\n",
       "    .dataframe tbody tr th {\n",
       "        vertical-align: top;\n",
       "    }\n",
       "\n",
       "    .dataframe thead th {\n",
       "        text-align: right;\n",
       "    }\n",
       "</style>\n",
       "<table border=\"1\" class=\"dataframe\">\n",
       "  <thead>\n",
       "    <tr style=\"text-align: right;\">\n",
       "      <th></th>\n",
       "      <th>state</th>\n",
       "      <th>account_length</th>\n",
       "      <th>area_code</th>\n",
       "      <th>international_plan</th>\n",
       "      <th>voice_mail_plan</th>\n",
       "      <th>number_vmail_messages</th>\n",
       "      <th>total_day_minutes</th>\n",
       "      <th>total_day_calls</th>\n",
       "      <th>total_eve_minutes</th>\n",
       "      <th>total_eve_calls</th>\n",
       "      <th>total_night_minutes</th>\n",
       "      <th>total_night_calls</th>\n",
       "      <th>total_intl_minutes</th>\n",
       "      <th>total_intl_calls</th>\n",
       "    </tr>\n",
       "  </thead>\n",
       "  <tbody>\n",
       "    <tr>\n",
       "      <th>0</th>\n",
       "      <td>KS</td>\n",
       "      <td>1</td>\n",
       "      <td>408</td>\n",
       "      <td>1</td>\n",
       "      <td>1</td>\n",
       "      <td>1</td>\n",
       "      <td>4</td>\n",
       "      <td>4</td>\n",
       "      <td>2</td>\n",
       "      <td>2</td>\n",
       "      <td>2</td>\n",
       "      <td>2</td>\n",
       "      <td>4</td>\n",
       "      <td>2</td>\n",
       "    </tr>\n",
       "  </tbody>\n",
       "</table>\n",
       "</div>"
      ],
      "text/plain": [
       "  state  account_length area_code international_plan voice_mail_plan  \\\n",
       "0    KS               1       408                  1               1   \n",
       "\n",
       "   number_vmail_messages total_day_minutes total_day_calls total_eve_minutes  \\\n",
       "0                      1                 4               4                 2   \n",
       "\n",
       "  total_eve_calls total_night_minutes total_night_calls total_intl_minutes  \\\n",
       "0               2                   2                 2                  4   \n",
       "\n",
       "  total_intl_calls  \n",
       "0                2  "
      ]
     },
     "execution_count": 89,
     "metadata": {},
     "output_type": "execute_result"
    }
   ],
   "source": [
    "df_new"
   ]
  },
  {
   "cell_type": "code",
   "execution_count": 90,
   "id": "adfd46e3",
   "metadata": {},
   "outputs": [
    {
     "data": {
      "text/html": [
       "<div>\n",
       "<style scoped>\n",
       "    .dataframe tbody tr th:only-of-type {\n",
       "        vertical-align: middle;\n",
       "    }\n",
       "\n",
       "    .dataframe tbody tr th {\n",
       "        vertical-align: top;\n",
       "    }\n",
       "\n",
       "    .dataframe thead th {\n",
       "        text-align: right;\n",
       "    }\n",
       "</style>\n",
       "<table border=\"1\" class=\"dataframe\">\n",
       "  <thead>\n",
       "    <tr style=\"text-align: right;\">\n",
       "      <th></th>\n",
       "      <th>account_length</th>\n",
       "      <th>international_plan</th>\n",
       "      <th>voice_mail_plan</th>\n",
       "      <th>number_vmail_messages</th>\n",
       "      <th>state_KS</th>\n",
       "      <th>area_code_408</th>\n",
       "      <th>total_day_minutes_1</th>\n",
       "      <th>total_day_minutes_2</th>\n",
       "      <th>total_day_minutes_3</th>\n",
       "      <th>total_day_minutes_4</th>\n",
       "      <th>...</th>\n",
       "      <th>total_intl_minutes_1</th>\n",
       "      <th>total_intl_minutes_2</th>\n",
       "      <th>total_intl_minutes_3</th>\n",
       "      <th>total_intl_minutes_4</th>\n",
       "      <th>total_intl_minutes_5</th>\n",
       "      <th>total_intl_calls_1</th>\n",
       "      <th>total_intl_calls_2</th>\n",
       "      <th>total_intl_calls_3</th>\n",
       "      <th>total_intl_calls_4</th>\n",
       "      <th>total_intl_calls_5</th>\n",
       "    </tr>\n",
       "  </thead>\n",
       "  <tbody>\n",
       "    <tr>\n",
       "      <th>0</th>\n",
       "      <td>1</td>\n",
       "      <td>1</td>\n",
       "      <td>1</td>\n",
       "      <td>1</td>\n",
       "      <td>1</td>\n",
       "      <td>1</td>\n",
       "      <td>0</td>\n",
       "      <td>0</td>\n",
       "      <td>0</td>\n",
       "      <td>1</td>\n",
       "      <td>...</td>\n",
       "      <td>0</td>\n",
       "      <td>0</td>\n",
       "      <td>0</td>\n",
       "      <td>1</td>\n",
       "      <td>0</td>\n",
       "      <td>0</td>\n",
       "      <td>1</td>\n",
       "      <td>0</td>\n",
       "      <td>0</td>\n",
       "      <td>0</td>\n",
       "    </tr>\n",
       "  </tbody>\n",
       "</table>\n",
       "<p>1 rows × 46 columns</p>\n",
       "</div>"
      ],
      "text/plain": [
       "   account_length international_plan voice_mail_plan  number_vmail_messages  \\\n",
       "0               1                  1               1                      1   \n",
       "\n",
       "   state_KS  area_code_408  total_day_minutes_1  total_day_minutes_2  \\\n",
       "0         1              1                    0                    0   \n",
       "\n",
       "   total_day_minutes_3  total_day_minutes_4  ...  total_intl_minutes_1  \\\n",
       "0                    0                    1  ...                     0   \n",
       "\n",
       "   total_intl_minutes_2  total_intl_minutes_3  total_intl_minutes_4  \\\n",
       "0                     0                     0                     1   \n",
       "\n",
       "   total_intl_minutes_5  total_intl_calls_1  total_intl_calls_2  \\\n",
       "0                     0                   0                   1   \n",
       "\n",
       "   total_intl_calls_3  total_intl_calls_4  total_intl_calls_5  \n",
       "0                   0                   0                   0  \n",
       "\n",
       "[1 rows x 46 columns]"
      ]
     },
     "metadata": {},
     "output_type": "display_data"
    }
   ],
   "source": [
    "# Aplicação de one hot encoding em variáveis categóricas\n",
    "onehot_features = ['state', 'area_code']\n",
    "cols_tot =  [col for col in df_new.columns if col.startswith('total')]\n",
    "onehot_features.extend(cols_tot)\n",
    "\n",
    "for col in onehot_features:\n",
    "    onehots = pd.get_dummies(df_new[col], prefix = col)\n",
    "    df_new = df_new.join(onehots)\n",
    "    \n",
    "# Remoção das colunas originais\n",
    "df_new = df_new.drop(columns = onehot_features)\n",
    "\n",
    "    \n",
    "# Resultado\n",
    "display(df_new.head())\n"
   ]
  },
  {
   "cell_type": "code",
   "execution_count": 91,
   "id": "67dcca7a",
   "metadata": {},
   "outputs": [
    {
     "data": {
      "text/plain": [
       "0"
      ]
     },
     "execution_count": 91,
     "metadata": {},
     "output_type": "execute_result"
    }
   ],
   "source": [
    "df_new.isnull().any().sum()"
   ]
  },
  {
   "cell_type": "raw",
   "id": "3d93a824",
   "metadata": {},
   "source": [
    "cols_train = df_train.columns\n",
    "cols_new = df_new.columns\n",
    "print(len(cols_train))\n",
    "print(len(cols_new))"
   ]
  },
  {
   "cell_type": "raw",
   "id": "854957cd",
   "metadata": {},
   "source": [
    "cols_train_set = set(cols_train)\n",
    "cols_new_set = set(cols_new)\n",
    "cols_ = cols_train_set - cols_new_set\n",
    "print(len(cols_))"
   ]
  },
  {
   "cell_type": "code",
   "execution_count": 92,
   "id": "a5d342f6",
   "metadata": {},
   "outputs": [
    {
     "data": {
      "text/plain": [
       "Index(['account_length', 'international_plan', 'voice_mail_plan',\n",
       "       'number_vmail_messages', 'state_AK', 'state_AL', 'state_AR', 'state_AZ',\n",
       "       'state_CA', 'state_CO', 'state_CT', 'state_DC', 'state_DE', 'state_FL',\n",
       "       'state_GA', 'state_HI', 'state_IA', 'state_ID', 'state_IL', 'state_IN',\n",
       "       'state_KS', 'state_KY', 'state_LA', 'state_MA', 'state_MD', 'state_ME',\n",
       "       'state_MI', 'state_MN', 'state_MO', 'state_MS', 'state_MT', 'state_NC',\n",
       "       'state_ND', 'state_NE', 'state_NH', 'state_NJ', 'state_NM', 'state_NV',\n",
       "       'state_NY', 'state_OH', 'state_OK', 'state_OR', 'state_PA', 'state_RI',\n",
       "       'state_SC', 'state_SD', 'state_TN', 'state_TX', 'state_UT', 'state_VA',\n",
       "       'state_VT', 'state_WA', 'state_WI', 'state_WV', 'state_WY',\n",
       "       'area_code_408', 'area_code_415', 'area_code_510',\n",
       "       'total_day_minutes_1', 'total_day_minutes_2', 'total_day_minutes_3',\n",
       "       'total_day_minutes_4', 'total_day_minutes_5', 'total_day_calls_1',\n",
       "       'total_day_calls_2', 'total_day_calls_3', 'total_day_calls_4',\n",
       "       'total_day_calls_5', 'total_eve_minutes_1', 'total_eve_minutes_2',\n",
       "       'total_eve_minutes_3', 'total_eve_minutes_4', 'total_eve_minutes_5',\n",
       "       'total_eve_calls_1', 'total_eve_calls_2', 'total_eve_calls_3',\n",
       "       'total_eve_calls_4', 'total_eve_calls_5', 'total_night_minutes_1',\n",
       "       'total_night_minutes_2', 'total_night_minutes_3',\n",
       "       'total_night_minutes_4', 'total_night_minutes_5', 'total_night_calls_1',\n",
       "       'total_night_calls_2', 'total_night_calls_3', 'total_night_calls_4',\n",
       "       'total_night_calls_5', 'total_intl_minutes_1', 'total_intl_minutes_2',\n",
       "       'total_intl_minutes_3', 'total_intl_minutes_4', 'total_intl_minutes_5',\n",
       "       'total_intl_calls_1', 'total_intl_calls_2', 'total_intl_calls_3',\n",
       "       'total_intl_calls_4', 'total_intl_calls_5'],\n",
       "      dtype='object')"
      ]
     },
     "execution_count": 92,
     "metadata": {},
     "output_type": "execute_result"
    }
   ],
   "source": [
    "df_train.columns.drop('churn')"
   ]
  },
  {
   "cell_type": "code",
   "execution_count": 93,
   "id": "f3fadb80",
   "metadata": {},
   "outputs": [],
   "source": [
    "# Completando as colunas não informadas com 0\n",
    "cols_base = df_train.columns.drop('churn')\n",
    "cols_new = [col for col in cols_base if col not in df_new.columns]\n",
    "for col in cols_new:\n",
    "    df_new[col] = 0"
   ]
  },
  {
   "cell_type": "code",
   "execution_count": 94,
   "id": "e916291c",
   "metadata": {},
   "outputs": [
    {
     "name": "stdout",
     "output_type": "stream",
     "text": [
      "Número de variáveis dos dados novos: 98\n",
      "Número de variáveis dos dados de treino: 99, sendo uma a target\n"
     ]
    }
   ],
   "source": [
    "print(f'Número de variáveis dos dados novos: {df_new.shape[1]}')\n",
    "print(f'Número de variáveis dos dados de treino: {df_train.shape[1]}, sendo uma a target')"
   ]
  },
  {
   "cell_type": "code",
   "execution_count": 95,
   "id": "4a2ed3f1",
   "metadata": {},
   "outputs": [
    {
     "name": "stdout",
     "output_type": "stream",
     "text": [
      "Churn costumer negative!\n"
     ]
    }
   ],
   "source": [
    "# Previsões de classe\n",
    "pred_new = model_v2.predict(df_new)\n",
    "\n",
    "# Verifica o valor e imprime o resultado final\n",
    "if pred_new == 1:\n",
    "    print('Churn costumer positive!')\n",
    "else:\n",
    "    print('Churn costumer negative!')"
   ]
  },
  {
   "cell_type": "raw",
   "id": "25641770",
   "metadata": {},
   "source": [
    "# Gravação do df com previsão em disco\n",
    "df_new.to_csv('../datasets/df_new.csv', sep = ',', encoding = 'utf-8')\n"
   ]
  },
  {
   "cell_type": "code",
   "execution_count": 96,
   "id": "127c9dba",
   "metadata": {},
   "outputs": [
    {
     "data": {
      "text/plain": [
       "sklearn.ensemble._forest.RandomForestClassifier"
      ]
     },
     "execution_count": 96,
     "metadata": {},
     "output_type": "execute_result"
    }
   ],
   "source": [
    "type(best_model)"
   ]
  },
  {
   "cell_type": "code",
   "execution_count": null,
   "id": "b4cca414",
   "metadata": {},
   "outputs": [],
   "source": []
  }
 ],
 "metadata": {
  "kernelspec": {
   "display_name": "Python 3 (ipykernel)",
   "language": "python",
   "name": "python3"
  },
  "language_info": {
   "codemirror_mode": {
    "name": "ipython",
    "version": 3
   },
   "file_extension": ".py",
   "mimetype": "text/x-python",
   "name": "python",
   "nbconvert_exporter": "python",
   "pygments_lexer": "ipython3",
   "version": "3.9.12"
  }
 },
 "nbformat": 4,
 "nbformat_minor": 5
}
